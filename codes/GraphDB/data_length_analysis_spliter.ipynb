{
 "cells": [
  {
   "cell_type": "markdown",
   "metadata": {},
   "source": [
    "## DCM Data length analysis\n",
    "\n",
    "- 적절한 split length를 구하기 위해 법률 / 시행령 / 시행규칙에 따른 length를 알아보기"
   ]
  },
  {
   "cell_type": "code",
   "execution_count": 1,
   "metadata": {},
   "outputs": [],
   "source": [
    "import os\n",
    "\n",
    "import json\n",
    "from llama_index.core import Document\n",
    "from langchain_text_splitters import RecursiveCharacterTextSplitter\n",
    "\n",
    "\n",
    "# JSON 파일을 로드하는 함수\n",
    "def load_json_as_documents(input_file):\n",
    "    # 파일을 열고 JSON 데이터를 파싱\n",
    "    with open(input_file, 'r', encoding='utf-8') as f:\n",
    "        json_data = json.load(f)\n",
    "\n",
    "    # # schema에 맞추어 json flatten\n",
    "    # flattened_json = [flatten_json(item) for item in json_data]\n",
    "\n",
    "    documents = []; doc_length = []\n",
    "    \n",
    "    # JSON 리스트의 각 요소를 Document로 변환하여 리스트에 추가\n",
    "    for entry in json_data:\n",
    "        # 각 요소를 Document 객체로 변환\n",
    "        doc = Document(\n",
    "            text=entry[\"content\"],\n",
    "            metadata={\n",
    "                \"law_index\": entry[\"index\"],\n",
    "                \"name\": entry[\"subtitle\"],\n",
    "                \"document_title\": entry[\"metadata\"][\"document_title\"],\n",
    "                \"created_date\": entry[\"metadata\"][\"date\"],\n",
    "                \"revise_info\": entry[\"metadata\"][\"revise_info\"],\n",
    "                \"source\": entry[\"metadata\"][\"source\"],\n",
    "                \"title_doc\": entry[\"metadata\"][\"title\"][\"doc\"],\n",
    "                \"title_chapter\": entry[\"metadata\"][\"title\"][\"chapter\"],\n",
    "                \"title_section\": entry[\"metadata\"][\"title\"][\"section\"],\n",
    "                \"title_subsection\": entry[\"metadata\"][\"title\"][\"subsection\"],\n",
    "            },\n",
    "            metadata_seperator=\"::\",\n",
    "            metadata_template=\"{key}=>{value}\",\n",
    "            text_template=\"Metadata: {metadata_str}\\n\\nText: {content}\",\n",
    "        )\n",
    "        documents.append(doc)\n",
    "        doc_length.append(len(doc.text))\n",
    "    \n",
    "    return documents, doc_length\n",
    "\n",
    "\n",
    "# 텍스트를 분할하는 함수\n",
    "def split_documents(documents, chunk_size=1024):\n",
    "    text_splitter = RecursiveCharacterTextSplitter(\n",
    "        chunk_size=chunk_size,\n",
    "        chunk_overlap=50,\n",
    "        length_function=len\n",
    "    )\n",
    "    \n",
    "    split_docs = []\n",
    "    \n",
    "    for doc in documents:\n",
    "        # 텍스트를 분할하고 각 조각을 Document로 다시 생성\n",
    "        chunks = text_splitter.split_text(doc.text)\n",
    "        for chunk in chunks:\n",
    "            split_doc = Document(\n",
    "                text=chunk,\n",
    "                metadata=doc.metadata,\n",
    "                metadata_seperator=doc.metadata_seperator,\n",
    "                metadata_template=doc.metadata_template,\n",
    "                text_template=doc.text_template\n",
    "            )\n",
    "            split_docs.append(split_doc)\n",
    "    \n",
    "    return split_docs\n",
    "\n",
    "\n"
   ]
  },
  {
   "cell_type": "markdown",
   "metadata": {},
   "source": [
    "### 법령"
   ]
  },
  {
   "cell_type": "code",
   "execution_count": 2,
   "metadata": {},
   "outputs": [
    {
     "name": "stdout",
     "output_type": "stream",
     "text": [
      "token length percentile : [  15.     77.    121.    204.25 4800.  ]\n",
      "split 이전 개수 : 1968, split 이후 개수 : 1998\n"
     ]
    }
   ],
   "source": [
    "# 법령\n",
    "import numpy as np\n",
    "\n",
    "# JSON 파일 경로\n",
    "input_file = \"/mnt/c/Users/Shic/legal_graph/results/1-2/DCM_1-2_law_main_clause.json\"\n",
    "\n",
    "# 로더 사용하여 데이터 불러오기\n",
    "documents, doc_length = load_json_as_documents(input_file)\n",
    "\n",
    "# 문서를 1024 토큰 크기로 분할\n",
    "splited_documents = split_documents(documents)\n",
    "\n",
    "print(f\"token length percentile : {np.percentile(doc_length, [0, 25, 50, 75, 100])}\")\n",
    "print(f\"split 이전 개수 : {len(documents)}, split 이후 개수 : {len(splited_documents)}\")"
   ]
  },
  {
   "cell_type": "code",
   "execution_count": 3,
   "metadata": {},
   "outputs": [
    {
     "data": {
      "text/plain": [
       "14"
      ]
     },
     "execution_count": 3,
     "metadata": {},
     "output_type": "execute_result"
    }
   ],
   "source": [
    "over_1024 = [x for x in doc_length if x >= 1024]\n",
    "len(over_1024)"
   ]
  },
  {
   "cell_type": "code",
   "execution_count": 16,
   "metadata": {},
   "outputs": [],
   "source": [
    "def find_jo(law_index, dataset):\n",
    "    document_list = [x for x in dataset if x.metadata['law_index'] == law_index]\n",
    "    print(f\"{law_index} total chunk : \", len(document_list))\n",
    "\n",
    "    for document in document_list:\n",
    "        print(\"name : \", document.metadata['name'])\n",
    "        print(\"title_doc : \", document.metadata['title_doc'])\n",
    "        print(\"title_chapter : \", document.metadata['title_chapter'])\n",
    "        print(\"title_section : \", document.metadata['title_section'])\n",
    "        print(\"title_subsection : \", document.metadata['title_subsection'])\n",
    "        print(\"text : \", document.text)"
   ]
  },
  {
   "cell_type": "code",
   "execution_count": 78,
   "metadata": {},
   "outputs": [
    {
     "name": "stdout",
     "output_type": "stream",
     "text": [
      "제55조 total chunk :  1\n",
      "name :  손실보전 등의 금지\n",
      "title_doc :  제2편 금융투자업\n",
      "title_chapter :  제4장 영업행위 규칙\n",
      "title_section :  제1절 공통 영업행위 규칙\n",
      "title_subsection :  제3관 직무관련 정보의 이용 금지 등\n",
      "text :  금융투자업자는 금융투자상품의 매매, 그 밖의 거래와 관련하여 제103조제3항에 따라 손실의 보전 또는 이익의 보장을 하는 경우, 그 밖에 건전한 거래질서를 해할 우려가 없는 경우로서 정당한 사유가 있는 경우를 제외하고는 다음 각 호의 어느 하나에 해당하는 행위를 하여서는 아니 된다. 금융투자업자의 임직원이 자기의 계산으로 하는 경우에도 또한 같다.\n",
      "1. 투자자가 입을 손실의 전부 또는 일부를 보전하여 줄 것을 사전에 약속하는 행위\n",
      "2. 투자자가 입은 손실의 전부 또는 일부를 사후에 보전하여 주는 행위\n",
      "3. 투자자에게 일정한 이익을 보장할 것을 사전에 약속하는 행위\n",
      "4. 투자자에게 일정한 이익을 사후에 제공하는 행위\n"
     ]
    }
   ],
   "source": [
    "find_jo(\"제55조\", splited_documents)"
   ]
  },
  {
   "cell_type": "markdown",
   "metadata": {},
   "source": [
    "### 시행령"
   ]
  },
  {
   "cell_type": "code",
   "execution_count": 6,
   "metadata": {},
   "outputs": [
    {
     "name": "stdout",
     "output_type": "stream",
     "text": [
      "token length percentile : [  15.   89.  166.  312. 9143.]\n",
      "split 이전 개수 : 1648, split 이후 개수 : 1708\n"
     ]
    }
   ],
   "source": [
    "# 시행령\n",
    "import numpy as np\n",
    "\n",
    "# JSON 파일 경로\n",
    "input_file = \"/mnt/c/Users/Shic/legal_graph/results/1-2/DCM_1-2_enforcement_main_clause.json\"\n",
    "\n",
    "# 로더 사용하여 데이터 불러오기\n",
    "enforcement_documents, enforcement_doc_length = load_json_as_documents(input_file)\n",
    "\n",
    "# 문서를 512 토큰 크기로 분할\n",
    "enforcement_splited_documents = split_documents(enforcement_documents)\n",
    "\n",
    "print(f\"token length percentile : {np.percentile(enforcement_doc_length, [0, 25, 50, 75, 100])}\")\n",
    "print(f\"split 이전 개수 : {len(enforcement_documents)}, split 이후 개수 : {len(enforcement_splited_documents)}\")"
   ]
  },
  {
   "cell_type": "code",
   "execution_count": 37,
   "metadata": {},
   "outputs": [
    {
     "name": "stdout",
     "output_type": "stream",
     "text": [
      "제10조제2항 total chunk :  1\n",
      "name :  전문투자자의 범위 등\n",
      "title_doc :  제1편 총칙\n",
      "title_chapter :  None\n",
      "title_section :  None\n",
      "title_subsection :  None\n",
      "text :  법 제9조제5항제3호에서 \"대통령령으로 정하는 금융기관\"이란 다음 각 호의 금융기관을 말한다.<개정 2009. 12. 21., 2010. 11. 15., 2012. 1. 6., 2015. 3. 3., 2016. 7. 28., 2016. 10. 25.>\n",
      "1. 은행\n",
      "2. 「한국산업은행법」에 따른 한국산업은행\n",
      "3. 「중소기업은행법」에 따른 중소기업은행\n",
      "4. 「한국수출입은행법」에 따른 한국수출입은행\n",
      "5. 「농업협동조합법」에 따른 농업협동조합중앙회\n",
      "6. 「수산업협동조합법」에 따른 수산업협동조합중앙회\n",
      "7. 「보험업법」에 따른 보험회사(이하 \"보험회사\"라 한다)\n",
      "8. 금융투자업자[법 제8조제9항에 따른 겸영금융투자업자(이하 \"겸영금융투자업자\"라 한다)는 제외한다]\n",
      "9. 증권금융회사\n",
      "10. 종합금융회사\n",
      "11. 법 제355조제1항에 따라 인가를 받은 자금중개회사(이하 \"자금중개회사\"라 한다)\n",
      "12. 「금융지주회사법」에 따른 금융지주회사\n",
      "13. 「여신전문금융업법」에 따른 여신전문금융회사\n",
      "14. 「상호저축은행법」에 따른 상호저축은행 및 그 중앙회\n",
      "15. 「산림조합법」에 따른 산림조합중앙회\n",
      "16. 「새마을금고법」에 따른 새마을금고연합회\n",
      "17. 「신용협동조합법」에 따른 신용협동조합중앙회\n",
      "18. 제1호부터 제17호까지의 기관에 준하는 외국 금융기관\n"
     ]
    }
   ],
   "source": [
    "find_jo(\"제10조제2항\", enforcement_splited_documents)"
   ]
  },
  {
   "cell_type": "markdown",
   "metadata": {},
   "source": []
  },
  {
   "cell_type": "code",
   "execution_count": null,
   "metadata": {},
   "outputs": [],
   "source": []
  }
 ],
 "metadata": {
  "kernelspec": {
   "display_name": "neo4j",
   "language": "python",
   "name": "python3"
  },
  "language_info": {
   "codemirror_mode": {
    "name": "ipython",
    "version": 3
   },
   "file_extension": ".py",
   "mimetype": "text/x-python",
   "name": "python",
   "nbconvert_exporter": "python",
   "pygments_lexer": "ipython3",
   "version": "3.11.9"
  }
 },
 "nbformat": 4,
 "nbformat_minor": 2
}
