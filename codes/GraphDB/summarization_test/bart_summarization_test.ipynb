{
 "cells": [
  {
   "cell_type": "markdown",
   "metadata": {},
   "source": [
    "# bart summarization test\n",
    "\n",
    "항에 있는 내용을 잘 취합하여 조의 내용을 요약할 수 있는지 보기 위함\n",
    "\n",
    "-> bart는 context length 1024이므로 한번에 모든 조 내용을 넣을 수 없음\n",
    "\n",
    "\n",
    "1항 요약본 + 2항 요약본 ... 이런 식으로 해야 할 듯 "
   ]
  },
  {
   "cell_type": "code",
   "execution_count": 1,
   "metadata": {},
   "outputs": [],
   "source": [
    "input_text1 = \"\"\"① 법 제6조제10항 각 호 외의 부분에서 \"대통령령으로 정하는 투자자\"란 다음 각 호의 투자자를 말한다. <개정 2015. 10. 23., 2018. 9. 28., 2021. 10. 21.>\n",
    "1. 제10조제2항 각 호의 자\n",
    "2. 제10조제3항제12호ㆍ제13호의 자(이에 준하는 외국인을 포함한다)\n",
    "3. 법 제9조제19항제1호에 따른 기관전용 사모집합투자기구\n",
    "4. 법 제279조제1항에 따른 외국 집합투자기구(법 제9조제19항에 따른 사모집합투자기구에 상당하는 집합투자기구로 한정한다)\"\"\"\n",
    "\n",
    "input_text2 = \"\"\"② 법 제6조제10항 각 호 외의 부분에서 \"대통령령으로 정하는 방법\"이란 법 제6조제10항제1호부터 제3호까지의 업무 및 이 조 제3항 각 호의 업무를 서로 연계하여 제공하는 것을 말한다. 이 경우 법 제6조제10항제2호 및 제3호의 업무가 포함되어야 한다.<개정 2018. 9. 28.>\n",
    "\"\"\"\n",
    "\n",
    "input_text3 = \"\"\"③ 법 제6조제10항제4호에서 \"대통령령으로 정하는 업무\"란 다음 각 호의 업무를 말한다.<개정 2015. 10. 23., 2018. 9. 28., 2021. 10. 21.>\n",
    "1. 법 제6조제10항에 따른 일반 사모집합투자기구등(이하 \"일반사모집합투자기구등\"이라 한다)의 투자자재산(일반사모집합투자기구등의 재산으로서 전담중개업무의 대상이 되는 투자자재산을 말한다. 이하 같다)의 매매에 관한 청약 또는 주문의 집행업무\n",
    "2. 일반사모집합투자기구등의 투자자재산의 매매 등의 거래에 따른 취득ㆍ처분 등의 업무\n",
    "3. 파생상품의 매매 또는 그 중개ㆍ주선ㆍ대리업무\n",
    "4. 환매조건부매매 또는 그 중개ㆍ주선ㆍ대리업무\n",
    "5. 집합투자증권의 판매업무\n",
    "6. 일반사모집합투자기구등의 투자자재산의 운용과 관련한 금융 및 재무 등에 대한 자문업무\n",
    "7. 다른 투자자의 투자를 유치하거나 촉진하기 위하여 법 제9조제19항제2호에 따른 일반 사모집합투자기구에 출자(투자신탁의 경우에는 그 수익증권의 매수를 포함한다. 이하 제271조의11제3항제2호 단서에서 같다)를 하는 업무\n",
    "[본조신설 2013. 8. 27.]\n",
    "\"\"\""
   ]
  },
  {
   "cell_type": "code",
   "execution_count": 2,
   "metadata": {},
   "outputs": [],
   "source": [
    "clause1 = [input_text1, input_text2, input_text3]"
   ]
  },
  {
   "cell_type": "code",
   "execution_count": 3,
   "metadata": {},
   "outputs": [],
   "source": [
    "input_text4 = \"\"\"① 법 제7조제1항제2호에서 \"대통령령으로 정하는 파생결합증권\"이란 다음 각 호의 요건을 모두 충족하는 파생결합증권을 제외한 파생결합증권을 말한다. <개정 2013. 8. 27.>\n",
    "1. 기초자산이 통화 또는 외국통화로서 지급하거나 회수하는 금전등이 그 기초자산과 다른 통화 또는 외국통화로 표시될 것\n",
    "2. 증권의 발행과 동시에 금융위원회가 정하여 고시하는 위험회피 목적의 거래가 이루어질 것\n",
    "3. 사업에 필요한 자금을 조달하기 위하여 발행될 것\n",
    "4. 그 밖에 총리령으로 정하는 발행요건 등을 충족할 것\"\"\"\n",
    "input_text5 = \"\"\"② 법 제7조제1항제3호에서 \"대통령령으로 정하는 계약에 따른 증권\"이란 다음 각 호의 어느 하나에 해당하는 것(이하 \"금적립계좌등\"이라 한다)을 말한다.<신설 2013. 8. 27., 2015. 3. 3.>\n",
    "1. 제4조 각 호의 어느 하나에 해당하는 자(이하 이 호에서 \"은행등\"이라 한다)가 투자자와 체결하는 계약에 따라 발행하는 금적립계좌 또는 은적립계좌[투자자가 은행등에 금전을 지급하면 기초자산인 금(金) 또는 은(銀)의 가격 등에 따라 현재 또는 장래에 회수하는 금전등이 결정되는 권리가 표시된 것으로서 금융위원회가 정하여 고시하는 기준에 따른 파생결합증권을 말한다]\n",
    "2. 그 밖에 증권 및 장외파생상품에 대한 투자매매업의 인가를 받은 자가 투자자와 체결하는 계약에 따라 발행하는 파생결합증권으로서 금융위원회가 투자에 따른 위험과 손익의 구조 등을 고려하여 고시하는 파생결합증권\"\"\"\n",
    "input_text6 = \"\"\"③ 법 제7조제4항에서 \"대통령령으로 정하는 경우\"란 투자중개업자가 따로 대가 없이 금융투자상품에 대한 투자판단(법 제6조제7항에 따른 투자판단을 말한다. 이하 같다)의 전부나 일부를 일임받는 경우로서 다음 각 호의 어느 하나에 해당하는 경우를 말한다.<개정 2013. 8. 27., 2018. 9. 28.>\n",
    "1. 투자자가 금융투자상품의 매매거래일(하루에 한정한다)과 그 매매거래일의 총매매수량이나 총매매금액을 지정한 경우로서 투자자로부터 그 지정 범위에서 금융투자상품의 수량ㆍ가격 및 시기에 대한 투자판단을 일임받은 경우\n",
    "2. 투자자가 여행ㆍ질병 등으로 일시적으로 부재하는 중에 금융투자상품의 가격 폭락 등 불가피한 사유가 있는 경우로서 투자자로부터 약관 등에 따라 미리 금융투자상품의 매도 권한을 일임받은 경우\n",
    "3. 투자자가 금융투자상품의 매매, 그 밖의 거래에 따른 결제나 증거금의 추가 예탁 또는 법 제72조에 따른 신용공여와 관련한 담보비율 유지의무나 상환의무를 이행하지 아니한 경우로서 투자자로부터 약관 등에 따라 금융투자상품의 매도권한(파생상품인 경우에는 이미 매도한 파생상품의 매수권한을 포함한다)을 일임받은 경우\n",
    "4. 투자자가 투자중개업자가 개설한 계좌에 금전을 입금하거나 해당 계좌에서 금전을 출금하는 경우에는 따로 의사표시가 없어도 자동으로 법 제229조제5호에 따른 단기금융집합투자기구(이하 \"단기금융집합투자기구\"라 한다)의 집합투자증권 등을 매수 또는 매도하거나 증권을 환매를 조건으로 매수 또는 매도하기로 하는 약정을 미리 해당 투자중개업자와 체결한 경우로서 투자자로부터 그 약정에 따라 해당 집합투자증권 등을 매수 또는 매도하는 권한을 일임받거나 증권을 환매를 조건으로 매수 또는 매도하는 권한을 일임받은 경우\n",
    "5. 그 밖에 투자자 보호 및 건전한 금융거래질서를 해칠 염려가 없는 경우로서 금융위원회가 정하여 고시하는 경우\"\"\"\n",
    "input_text7 = \"\"\"④ 법 제7조제6항제4호에서 \"대통령령으로 정하는 경우\"란 다음 각 호인 경우를 말한다.<개정 2009. 5. 29., 2010. 6. 11., 2012. 6. 29., 2013. 8. 27., 2015. 3. 3., 2015. 10. 23., 2018. 9. 28., 2019. 8. 20., 2021. 3. 23., 2024. 3. 5.>\n",
    "1. 국가 또는 지방자치단체가 공익을 위하여 관련 법령에 따라 금융투자상품을 매매하는 경우\n",
    "2. 한국은행이 「한국은행법」 제68조에 따라 공개시장 조작을 하는 경우\n",
    "3. 다음 각 목의 어느 하나에 해당하는 자 간 제81조제1항제1호에 따른 환매조건부매도 또는 제85조제3호나목에 따른 환매조건부매수(이하 \"환매조건부매매\"라 한다)를 하는 경우\n",
    "가. 제10조제2항 각 호의 자\n",
    "나. 제10조제3항제1호부터 제4호까지, 제4호의2 및 제9호부터 제13호까지의 자(이에 준하는 외국인을 포함한다)\n",
    "다. 그 밖에 금융위원회가 정하여 고시하는 자\n",
    "4. 법 제283조에 따라 설립된 한국금융투자협회(이하 \"협회\"라 한다)가 법 제286조제1항제5호 및 이 영 제307조제2항제5호의2에 따른 업무를 하는 경우\n",
    "5. 내국인이 국외에서 증권을 모집ㆍ사모ㆍ매출하는 경우로서 외국 투자매매업자(외국 법령에 따라 외국에서 투자매매업에 상당하는 영업을 하는 자를 말한다. 이하 같다)나 외국 투자중개업자(외국 법령에 따라 외국에서 투자중개업에 상당하는 영업을 하는 자를 말한다. 이하 같다)가 다음 각 목의 어느 하나에 해당하는 행위를 하는 경우\n",
    "가. 금융위원회가 정하여 고시하는 기준에 따라 그 내국인과 국내에서 인수계약(그 내국인을 위하여 해당 증권의 모집ㆍ사모ㆍ매출을 하거나 그 밖에 직접 또는 간접으로 증권의 모집ㆍ사모ㆍ매출을 분담하기로 하는 내용의 계약을 포함한다. 이하 이 호에서 같다)을 체결하는 행위로서 금융위원회의 인정을 받은 경우\n",
    "나. 금융위원회가 정하여 고시하는 기준에 따라 그 내국인과 인수계약의 내용을 확정하기 위한 협의만을 국내에서 하는 행위로서 금융위원회에 관련 자료를 미리 제출한 경우\n",
    "5의2. 외국 투자매매업자가 국외에서 제1항에 따른 파생결합증권을 다음 각 목의 기준을 모두 갖추어 발행하는 경우\n",
    "가. 외국 투자매매업자가 법 제437조제1항에 따른 외국금융투자감독기관(이하 \"외국금융투자감독기관\"이라 한다)으로부터 해당 파생결합증권의 발행과 관련하여 경영건전성, 불공정거래 방지, 그 밖에 투자자 보호 등에 관한 감독을 받을 것\n",
    "나. 경영능력, 재무상태 및 사회적 신용에 관하여 금융위원회가 정하여 고시하는 기준에 적합할 것\n",
    "다. 금융위원회가 법 또는 법에 상응하는 외국의 법령을 위반한 외국 투자매매업자의 행위에 대하여 법 또는 법에 상응하는 외국의 법령에서 정하는 방법에 따라 행하여진 조사 또는 검사자료를 상호주의의 원칙에 따라 가목의 외국금융투자감독기관으로부터 제공받을 수 있는 국가의 외국 투자매매업자일 것\n",
    "라. 해당 파생결합증권을 국내에서 매매하는 경우 투자매매업자가 그 파생결합증권을 인수하여 전문투자자(제103조제1호에 따른 특정금전신탁을 운용하는 신탁업자는 제외한다. 이하 이 목에서 같다)에게 이를 취득하도록 하거나 투자중개업자를 통하여 전문투자자에게 그 파생결합증권을 매도할 것. 이 경우 투자매매업자나 투자중개업자는 증권에 관한 투자매매업이나 투자중개업 인가를 받은 자로서 장외파생상품(해당 파생결합증권의 기초자산이나 그 가격ㆍ이자율ㆍ지표 등과 동일한 것을 기초자산이나 그 가격ㆍ이자율ㆍ지표 등으로 하는 장외파생상품을 말한다)에 관한 금융투자업인가를 받은 자로 한정한다.\n",
    "5의3. 「외국환거래법」 제8조제5항에 따른 외국환업무취급기관인 외국 금융기관 간에 같은 법 제9조제2항에 따른 외국환중개회사를 통하여 외국통화를 기초자산으로 하는 장외파생상품을 매매하는 경우\n",
    "6. 외국 투자매매업자나 외국 투자중개업자가 국외에서 다음 각 목의 어느 하나에 해당하는 행위를 하는 경우\n",
    "가. 투자매매업자를 상대방으로 하여 금융투자상품을 매매하거나 투자중개업자를 통하여 금융투자상품의 매매를 중개ㆍ주선 또는 대리하는 행위\n",
    "나. 국내 거주자(투자매매업자 및 투자중개업자는 제외한다. 이하 이 목에서 같다)를 상대로 투자권유 또는 「금융소비자 보호에 관한 법률」 제22조에 따른 광고(투자성 상품을 취급하는 금융상품판매업자나 금융상품자문업자의 업무에 관한 광고 또는 투자성 상품에 관한 광고로 한정한다. 이하 \"투자광고\"라 한다)(이하 \"투자광고\"라 한다)를 하지 아니하고 국내 거주자의 매매에 관한 청약을 받아 그 자를 상대방으로 하여 금융투자상품을 매매하거나 그 자의 매매주문을 받아 금융투자상품의 매매를 중개ㆍ주선 또는 대리하는 행위\n",
    "6의2. 외국 투자신탁(법 제279조제1항에 따른 외국 투자신탁을 말한다. 이하 같다)이나 외국 투자익명조합(법 제279조제1항에 따른 외국 투자익명조합을 말한다. 이하 같다)의 외국 집합투자업자(법 제279조제1항에 따른 외국 집합투자업자를 말한다. 이하 같다) 또는 외국 투자회사등(법 제279조제1항에 따른 외국 투자회사등을 말한다. 이하 같다)이 다음 각 목의 기준을 모두 갖추어 외국 집합투자증권(법 제279조제1항에 따른 외국 집합투자증권을 말한다. 이하 같다)을 국내에서 판매하는 경우\n",
    "가. 해당 외국 집합투자증권에 그 집합투자기구 자산총액의 100분의 100까지 투자하는 집합투자기구(투자신탁 또는 투자익명조합의 경우 그 집합투자재산을 보관ㆍ관리하는 신탁업자를 포함한다)에 대하여 판매할 것\n",
    "나. 해당 외국 집합투자증권을 발행한 외국 집합투자기구(법 제279조제1항에 따른 외국 집합투자기구를 말한다. 이하 같다)는 제80조제1항제6호가목에 따라 그 집합투자재산을 외화자산에 100분의 70 이상 운용하는 것으로서 법 제279조제1항에 따라 등록한 외국 집합투자기구일 것\n",
    "7. 법 제18조제2항제1호 각 목 외의 부분 단서에 따른 외국 투자자문업자(이하 \"외국 투자자문업자\"라 한다) 또는 같은 호 각 목 외의 부분 단서에 따른 외국 투자일임업자(이하 \"외국 투자일임업자\"라 한다)가 국외에서 다음 각 목의 어느 하나에 해당하는 자를 상대로 투자권유 또는 투자광고를 하지 아니하고 그 자를 상대방으로 투자자문업이나 투자일임업을 하는 경우\n",
    "가. 국가\n",
    "나. 한국은행\n",
    "다. 제10조제3항제4호ㆍ제12호의 자\n",
    "라. 그 밖에 금융위원회가 정하여 고시하는 자\n",
    "8. 따로 대가 없이 다른 영업에 부수하여 법 제6조제7항에 따른 금융투자상품등의 가치나 그 금융투자상품등에 대한 투자판단에 관한 자문에 응하는 경우\n",
    "9. 법 제258조에 따른 집합투자기구평가회사(이하 \"집합투자기구평가회사\"라 한다), 법 제263조에 따른 채권평가회사(이하 \"채권평가회사\"라 한다), 공인회계사, 감정인, 신용평가를 전문으로 하는 자, 변호사, 변리사 또는 세무사, 그 밖에 이에 준하는 자로서 해당 법령에 따라 자문용역을 제공하고 있는 자(그 소속단체를 포함한다)가 해당 업무와 관련된 분석정보 등을 제공하는 경우\n",
    "10. 다른 법령에 따라 건축물 및 주택의 임대관리 등 부동산의 관리대행, 부동산의 이용ㆍ개발 및 거래에 대한 상담, 그 밖에 부동산의 투자ㆍ운용에 관한 자문 등의 업무를 영위하는 경우\"\"\"\n",
    "input_text8 = \"\"\"법 제7조제6항에 따라 다음 각 호의 어느 하나에 해당하는 경우에는 해당 호의 금융투자업으로 보지 아니한다.<개정 2012. 6. 29., 2013. 8. 27., 2015. 10. 23., 2024. 3. 5.>\n",
    "1. 법 제7조제6항제1호의 경우: 투자중개업\n",
    "2. 법 제7조제6항제2호의 경우: 투자매매업\n",
    "3. 법 제7조제6항제3호의 경우: 투자매매업 또는 투자중개업\n",
    "4. 법 제7조제6항제4호의 경우: 다음 각 목의 금융투자업\n",
    "가. 제4항제1호부터 제3호까지, 제5호의2 및 제5호의3: 투자매매업\n",
    "나. 제4항제4호: 투자중개업\n",
    "다. 제4항제5호, 제6호 및 제6호의2: 투자매매업 또는 투자중개업\n",
    "라. 제4항제7호: 투자자문업 또는 투자일임업\n",
    "마. 제4항제8호 및 제9호: 투자자문업\n",
    "바. 제4항제10호: 투자자문업 또는 투자일임업\"\"\""
   ]
  },
  {
   "cell_type": "code",
   "execution_count": 4,
   "metadata": {},
   "outputs": [],
   "source": [
    "clause2 = [input_text4, input_text5, input_text6, input_text7, input_text8]"
   ]
  },
  {
   "cell_type": "code",
   "execution_count": 5,
   "metadata": {},
   "outputs": [],
   "source": [
    "clause1_len = [len(x) for x in clause1]\n",
    "clause2_len = [len(x) for x in clause2]"
   ]
  },
  {
   "cell_type": "code",
   "execution_count": 6,
   "metadata": {},
   "outputs": [
    {
     "data": {
      "text/plain": [
       "[271, 163, 549]"
      ]
     },
     "execution_count": 6,
     "metadata": {},
     "output_type": "execute_result"
    }
   ],
   "source": [
    "clause1_len"
   ]
  },
  {
   "cell_type": "code",
   "execution_count": 7,
   "metadata": {},
   "outputs": [
    {
     "data": {
      "text/plain": [
       "[280, 441, 923, 3514, 412]"
      ]
     },
     "execution_count": 7,
     "metadata": {},
     "output_type": "execute_result"
    }
   ],
   "source": [
    "clause2_len"
   ]
  },
  {
   "cell_type": "markdown",
   "metadata": {},
   "source": [
    "## gogamza/kobart-summarization"
   ]
  },
  {
   "cell_type": "code",
   "execution_count": 8,
   "metadata": {},
   "outputs": [],
   "source": [
    "# !pip install torch transformers"
   ]
  },
  {
   "cell_type": "code",
   "execution_count": 11,
   "metadata": {},
   "outputs": [
    {
     "name": "stderr",
     "output_type": "stream",
     "text": [
      "You passed along `num_labels=3` with an incompatible id to label map: {'0': 'NEGATIVE', '1': 'POSITIVE'}. The number of labels wil be overwritten to 2.\n",
      "You passed along `num_labels=3` with an incompatible id to label map: {'0': 'NEGATIVE', '1': 'POSITIVE'}. The number of labels wil be overwritten to 2.\n",
      "You passed along `num_labels=3` with an incompatible id to label map: {'0': 'NEGATIVE', '1': 'POSITIVE'}. The number of labels wil be overwritten to 2.\n"
     ]
    },
    {
     "data": {
      "text/plain": [
       "'1 법 제6조제10항 각 호 외의 부분에서 \"대통령령으로 정하는 투자자\"란 다음 각 호의 투자자를 말하며 제10조제2항 각 호의 자\\n2. 제10조제3항제12호ᆞ제13호의 자\\n3. 법 제9조제19항제1호에 따른 기관전용 사모집합투자기구\\n4. 법 제279조제1항에 따른 외국 집합투자기구(법 제9조제19항에 따른 사모집합투자기구에 상당하는 집합투자기구로 한정한다)\\n2 법 제6조제10항 각 호 외의 부분에서 \"대통령령으로 정하는 방법\"이란 법 제6조제10항제1호부터 제3호까지의 업무 및 이 조 제3항 각 호의 업무를 서로 연계하여 제공하는 것을 말하며 이 경우 법 제6조제10항제2호 및 제3호의 업무가 포함되어야 한다.\\n3 법 제6조제10항제4호에 따른 일반 사모집합투자기구등(이하 \"일반사모집합투자기구등\"이라 한다)의 투자자재산(일반사모집합투자기구등의 재산으로서 전담중개업무의 대상이 되는 투자자재산을 말함)의 매매에 관한 청약 또는 주문의 집행업무\\n2. 일반사모집합투자기구등의 투자자재산의 매매 등의 거래에 따른 취득ᆞ처분 등의 업무\\n3. 파생상품의 매매 또는 그 중개ᆞ주선ᆞ대리업무\\n4. 환매조건부매매 또는 그 중개ᆞ주선ᆞ대리업무\\n5. 집합투자증권의 판매업무\\n6. 일반사모집합투자기구등의 투자자재산의 운용과 관련한 금융 및 재무 등에 대한 자문업무\\n7. 다른 투자자의 투자를 유치하거나 촉진하기 위하여 법 제9조제19항제2호에 따른 일반 사모집합투자기구등의 투자자재산의 매매 등의 거래에 따른 취득ᆞ처분 등의 업무\\n3. 파생상품의 매매 또는 그 중개ᆞ주선ᆞ대리업무\\n4. 환매조건부매매 또는 그 중개ᆞ주선ᆞ대리업무\\n5. 집합투자증권의 판매업무\\n6. 일반사모집합투자기구등의 투자자재산의 운용과 관련한 금융 및 재무 등에 대한 자문업무\\n7. 다른 투자자의 투자를 유치하거나 촉진하기 위하여 법 제9조제19항제2호에 따른 일반 사모집합투자기구에 출자(투자신탁의 경우에는 그 수익증권의 매수를 포함한다. 이하 제271조의11제3항제2호에 따른 일반 사모집합투자기구에 출자(투자신탁의 경우에는 그 수익증권의 매수를 포함한다. 이하 제271조의11제3항제2호 단서에서 같다)를 하는 업무\\n\\n'"
      ]
     },
     "execution_count": 11,
     "metadata": {},
     "output_type": "execute_result"
    }
   ],
   "source": [
    "import torch\n",
    "from transformers import AutoTokenizer, BartForConditionalGeneration\n",
    "\n",
    "tokenizer = AutoTokenizer.from_pretrained(\"gogamza/kobart-summarization\")\n",
    "model = BartForConditionalGeneration.from_pretrained(\"gogamza/kobart-summarization\")\n",
    "\n",
    "model.eval()\n",
    "\n",
    "result = \"\"\n",
    "\n",
    "for text in clause1:\n",
    "    inputs = tokenizer(tokenizer.bos_token + text + tokenizer.eos_token, \n",
    "                       return_tensors=\"pt\", max_length=512, truncation=True)\n",
    "    outputs = model.generate(\n",
    "    inputs.input_ids,\n",
    "    attention_mask=inputs.attention_mask,\n",
    "    num_beams=10,\n",
    "    length_penalty=1.1,\n",
    "    max_length=512,\n",
    "    use_cache=True,\n",
    "    )\n",
    "    summarization = tokenizer.decode(outputs[0], skip_special_tokens=True)\n",
    "    result += summarization + \"\\n\"\n",
    "\n",
    "result"
   ]
  },
  {
   "cell_type": "code",
   "execution_count": 13,
   "metadata": {},
   "outputs": [
    {
     "name": "stderr",
     "output_type": "stream",
     "text": [
      "You passed along `num_labels=3` with an incompatible id to label map: {'0': 'NEGATIVE', '1': 'POSITIVE'}. The number of labels wil be overwritten to 2.\n",
      "You passed along `num_labels=3` with an incompatible id to label map: {'0': 'NEGATIVE', '1': 'POSITIVE'}. The number of labels wil be overwritten to 2.\n",
      "/home/yewon/anaconda3/envs/neo4j/lib/python3.11/site-packages/transformers/tokenization_utils_base.py:1601: FutureWarning: `clean_up_tokenization_spaces` was not set. It will be set to `True` by default. This behavior will be depracted in transformers v4.45, and will be then set to `False` by default. For more details check this issue: https://github.com/huggingface/transformers/issues/31884\n",
      "  warnings.warn(\n",
      "You passed along `num_labels=3` with an incompatible id to label map: {'0': 'NEGATIVE', '1': 'POSITIVE'}. The number of labels wil be overwritten to 2.\n"
     ]
    },
    {
     "data": {
      "text/plain": [
       "'국가 또는 지방자치단체가 공익을 위하여 관련 법령에 따라 금융투자상품을 매매하는 경우 제81조제1항제1호에 따른 환매조건부매도 또는 제85조제3호나목에 따른 환매조건부매수(이하 \"환매조건부매매\"라 한다)를 하는 경우 제10조제2항 각 호의 자 김희나. 제10조제2항 각 호의 자 김희나. 제10조제2항 각 호의 자 김희나. 제10조제3호부터 제4호까지, 제4호의2 및 제9호부터 제13호까지의 자(이에 준하는 외국인을 포함한다). 김희나. 제10조제2항 각 호의 자 김희나. 제10조제3호부터 제4호까지, 제4호의2 및 제9호부터 제13호까지의 자(이에 준하는 외국인을 포함한다). 그 밖에 금융위원회가 정하여 고시하는 자 김희나. 그 밖에 금융위원회가 정하여 고시하는 자 사드4. 법 제283조에 따라 설립된 한국금융투자협회(이하 \"협회\"라 한다)가 법 제286조제1항제5호 및 이 영 제88조제1호에 따른 환매조건부매도 또는 제85조제3호나목에 따른 환매조건부매수(이하 \"환매조건부매매\"라 한다)를 하는 경우 김희나. 제10조제2항 각 호의 자 김희나. 제10조제3호부터 제4호까지, 제4호의2 및 제9호부터 제13호까지의 자(이에 준하는 외국인을 포함한다). 그 밖에 금융위원회가 정하여 고시하는 자 사드4. 법 제283조에 따라 설립된 한국금융투자협회(이하 \"협회\"라 한다)가 법 제286조제1항제5호 및 이 영 제307조제2항제5호의2에 따른 업무를 하는 경우 김희나. 내국인이 국외에서 증권을 모집ᆞ사모ᆞ매출하는 경우로서 외국 투자매매업자(외국에서 투자매매업에 상당하는 영업을 하는 자를 말한다. 이하 같다)'"
      ]
     },
     "execution_count": 13,
     "metadata": {},
     "output_type": "execute_result"
    }
   ],
   "source": [
    "import torch\n",
    "from transformers import AutoTokenizer, BartForConditionalGeneration\n",
    "\n",
    "tokenizer = AutoTokenizer.from_pretrained(\"gogamza/kobart-summarization\")\n",
    "model = BartForConditionalGeneration.from_pretrained(\"gogamza/kobart-summarization\")\n",
    "\n",
    "model.eval()\n",
    "\n",
    "inputs = tokenizer(tokenizer.bos_token + input_text7 + tokenizer.eos_token, \n",
    "                       return_tensors=\"pt\", max_length=512, truncation=True)\n",
    "outputs = model.generate(\n",
    "inputs.input_ids,\n",
    "attention_mask=inputs.attention_mask,\n",
    "num_beams=10,\n",
    "length_penalty=1.1,\n",
    "max_length=512,\n",
    "use_cache=True,\n",
    ")\n",
    "summarization = tokenizer.decode(outputs[0], skip_special_tokens=True)\n",
    "summarization"
   ]
  },
  {
   "cell_type": "code",
   "execution_count": null,
   "metadata": {},
   "outputs": [],
   "source": [
    "result = \"\"\n",
    "\n",
    "for text in clause2:\n",
    "    inputs = tokenizer(tokenizer.bos_token + text + tokenizer.eos_token, \n",
    "                       return_tensors=\"pt\", max_length=512, truncation=True)\n",
    "    outputs = model.generate(\n",
    "    inputs.input_ids,\n",
    "    attention_mask=inputs.attention_mask,\n",
    "    num_beams=10,\n",
    "    length_penalty=1.1,\n",
    "    max_length=512,\n",
    "    use_cache=True,\n",
    "    )\n",
    "    summarization = tokenizer.decode(outputs[0], skip_special_tokens=True)\n",
    "    result += summarization + \"\\n\"\n",
    "\n",
    "result"
   ]
  },
  {
   "cell_type": "markdown",
   "metadata": {},
   "source": [
    "## gogamza/kobart-base-v2"
   ]
  },
  {
   "cell_type": "code",
   "execution_count": null,
   "metadata": {},
   "outputs": [],
   "source": [
    "from transformers import PreTrainedTokenizerFast, BartForConditionalGeneration\n",
    "\n",
    "tokenizer = PreTrainedTokenizerFast.from_pretrained('gogamza/kobart-base-v2', cache_dir=\"../cache\")\n",
    "model = BartForConditionalGeneration.from_pretrained('gogamza/kobart-base-v2', cache_dir=\"../cache\")\n",
    "\n",
    "model.eval()\n",
    "\n",
    "result = \"\"\n",
    "\n",
    "for text in clause1:\n",
    "    raw_input_ids = tokenizer.encode(text)\n",
    "    input_ids = [tokenizer.bos_token_id] + raw_input_ids + [tokenizer.eos_token_id]\n",
    "\n",
    "    summary_ids = model.generate(torch.tensor([input_ids]))\n",
    "    result += tokenizer.decode(summary_ids.squeeze().tolist(), skip_special_tokens=True) + '\\n'\n",
    "\n",
    "result"
   ]
  },
  {
   "cell_type": "code",
   "execution_count": 15,
   "metadata": {},
   "outputs": [
    {
     "name": "stderr",
     "output_type": "stream",
     "text": [
      "You passed along `num_labels=3` with an incompatible id to label map: {'0': 'NEGATIVE', '1': 'POSITIVE'}. The number of labels wil be overwritten to 2.\n",
      "You passed along `num_labels=3` with an incompatible id to label map: {'0': 'NEGATIVE', '1': 'POSITIVE'}. The number of labels wil be overwritten to 2.\n",
      "/home/yewon/anaconda3/envs/neo4j/lib/python3.11/site-packages/transformers/tokenization_utils_base.py:1601: FutureWarning: `clean_up_tokenization_spaces` was not set. It will be set to `True` by default. This behavior will be depracted in transformers v4.45, and will be then set to `False` by default. For more details check this issue: https://github.com/huggingface/transformers/issues/31884\n",
      "  warnings.warn(\n",
      "You passed along `num_labels=3` with an incompatible id to label map: {'0': 'NEGATIVE', '1': 'POSITIVE'}. The number of labels wil be overwritten to 2.\n"
     ]
    },
    {
     "data": {
      "text/plain": [
       "'4 4 법 제7조제6항제4호에서 \"대통령령으로 정하는 경우\"란 다음 각 호인 경우를 말한다.<개정 2009. 5. 29., 2010. 6. 11., 2012. 6. 11., 2012. 6. 29., 2013. 8. 27., 2015. 3. 3., 2015. 10. 23., 2018. 9. 28., 2019. 8. 20., 2021. 3. 23., 2024. 3. 5.>\\n1. 국가 또는 지방자치단체가 공익을 위하여 관련 법령에 따라 금융투자상품을 매매하는 경우\\n2. 한국은행이 「한국은행법」 제68조에 따라 공개시장 조작을 하는 경우\\n3. 한국은행이 「한국은행법」 제68조에 따라 공개시장 조작을 하는 경우\\n3. 다음 각 목의 어느 하나에 해당하는 자 간 제81조제1항제1호에 따른 환매조건부매도 또는 제85조제3호나목에 따른 환매조건부매수(이하 \" 환매조건부매수\"라 한다)를 하는 경우\\n가. 제10조제2항 각 호의 자\\n나. 제10조제3항제1호부터 제4호까지, 제4호의2 및 제9호부터 제13호까지의 자(이에 준하는 외국인을 포함한다)\\n다. 그 밖에 금융위원회가 정하여 고시하는 자\\n4. 법 제283조에 따라 설립된 한국금융투자협회(이하 \"협회\"라 한다)가 법 제286조제1항제5호 및 이 영 제307조제2항제5호의2에 따른 업무를 하는 경우\\n5. 내국인이 국외에서 증권을 모집ᆞ사모ᆞ매출하는 경우로서 외국 투자매매업자(외국 법령에 따라 외국에서 투자매매업에 상당하는 영업을 하는 자를 말한다. 이하 같다)나 외국 투자중개업자(외국 법령에 따라 외국에서 투자중개업에 상당하는 영업을 하는 자를 말한다. 이하 같다)가 다음 각 목의 어느 하나에 해당하는 행위를 하는 경우\\n가. 금융위원회가 정하여 고시하는 기준에 따라 그 내국인과 국내에서 인수계약(그 내국인을 위하여 그 내국인을 위하여 해당 증권의 모집ᆞ사모ᆞ매출을 하거나 그 밖에 직접 또는 간접으로 증권의 모집ᆞ사모ᆞ매출을 하거나 그 밖에 직접 또는 간접으로 증권의 모집ᆞ사모ᆞ매출을 분담하기로 하는 내용의 계약을 포함한다. 이하 이 호에서 같다)을 체결하는'"
      ]
     },
     "execution_count": 15,
     "metadata": {},
     "output_type": "execute_result"
    }
   ],
   "source": [
    "v"
   ]
  },
  {
   "cell_type": "code",
   "execution_count": null,
   "metadata": {},
   "outputs": [],
   "source": [
    "result = \"\"\n",
    "\n",
    "for text in clause2:\n",
    "    raw_input_ids = tokenizer.encode(text)\n",
    "    input_ids = [tokenizer.bos_token_id] + raw_input_ids + [tokenizer.eos_token_id]\n",
    "\n",
    "    summary_ids = model.generate(torch.tensor([input_ids]))\n",
    "    result += tokenizer.decode(summary_ids.squeeze().tolist(), skip_special_tokens=True) + '\\n'\n",
    "\n",
    "result"
   ]
  },
  {
   "cell_type": "markdown",
   "metadata": {},
   "source": [
    "## digit82/kobart-summarization"
   ]
  },
  {
   "cell_type": "code",
   "execution_count": null,
   "metadata": {},
   "outputs": [],
   "source": [
    "import torch\n",
    "from transformers import PreTrainedTokenizerFast\n",
    "from transformers import BartForConditionalGeneration\n",
    "\n",
    "tokenizer = PreTrainedTokenizerFast.from_pretrained('digit82/kobart-summarization', cache_dir=\"../cache\")\n",
    "model = BartForConditionalGeneration.from_pretrained('digit82/kobart-summarization', cache_dir=\"../cache\")\n",
    "\n",
    "result = \"\"\n",
    "for text in clause1:\n",
    "    raw_input_ids = tokenizer.encode(text)\n",
    "    input_ids = [tokenizer.bos_token_id] + raw_input_ids + [tokenizer.eos_token_id]\n",
    "\n",
    "    summary_ids = model.generate(torch.tensor([input_ids]))\n",
    "    result += tokenizer.decode(summary_ids.squeeze().tolist(), skip_special_tokens=True)\n",
    "\n",
    "result"
   ]
  },
  {
   "cell_type": "code",
   "execution_count": 24,
   "metadata": {},
   "outputs": [
    {
     "name": "stderr",
     "output_type": "stream",
     "text": [
      "You passed along `num_labels=3` with an incompatible id to label map: {'0': 'NEGATIVE', '1': 'POSITIVE'}. The number of labels wil be overwritten to 2.\n"
     ]
    },
    {
     "data": {
      "text/plain": [
       "'법 제6조제10항 각 호 외의 부분에서 \"대통령령으로 정하는 투자자\"란 다음 각 호의 투자자를 말한다.'"
      ]
     },
     "execution_count": 24,
     "metadata": {},
     "output_type": "execute_result"
    }
   ],
   "source": [
    "import torch\n",
    "from transformers import AutoTokenizer, BartForConditionalGeneration\n",
    "\n",
    "tokenizer = AutoTokenizer.from_pretrained(\"digit82/kobart-summarization\")\n",
    "model = BartForConditionalGeneration.from_pretrained(\"digit82/kobart-summarization\")\n",
    "\n",
    "model.eval()\n",
    "\n",
    "inputs = tokenizer(tokenizer.bos_token + input_text1 + tokenizer.eos_token, \n",
    "                       return_tensors=\"pt\", max_length=512, truncation=True)\n",
    "outputs = model.generate(\n",
    "inputs.input_ids,\n",
    "attention_mask=inputs.attention_mask,\n",
    "num_beams=10,\n",
    "repetition_penalty=1.2,\n",
    "max_length=512\n",
    ")\n",
    "\n",
    "summarization = tokenizer.decode(outputs[0], skip_special_tokens=True)\n",
    "summarization"
   ]
  },
  {
   "cell_type": "code",
   "execution_count": null,
   "metadata": {},
   "outputs": [],
   "source": [
    "result = \"\"\n",
    "for text in clause2:\n",
    "    raw_input_ids = tokenizer.encode(text)\n",
    "    input_ids = [tokenizer.bos_token_id] + raw_input_ids + [tokenizer.eos_token_id]\n",
    "\n",
    "    summary_ids = model.generate(torch.tensor([input_ids]))\n",
    "    result += tokenizer.decode(summary_ids.squeeze().tolist(), skip_special_tokens=True)\n",
    "\n",
    "result"
   ]
  }
 ],
 "metadata": {
  "kernelspec": {
   "display_name": "neo4j",
   "language": "python",
   "name": "python3"
  },
  "language_info": {
   "codemirror_mode": {
    "name": "ipython",
    "version": 3
   },
   "file_extension": ".py",
   "mimetype": "text/x-python",
   "name": "python",
   "nbconvert_exporter": "python",
   "pygments_lexer": "ipython3",
   "version": "3.11.9"
  }
 },
 "nbformat": 4,
 "nbformat_minor": 2
}
