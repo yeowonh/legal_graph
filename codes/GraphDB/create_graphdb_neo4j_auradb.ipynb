{
 "cells": [
  {
   "cell_type": "markdown",
   "metadata": {},
   "source": [
    "## Neo4j 연결"
   ]
  },
  {
   "cell_type": "code",
   "execution_count": 1,
   "metadata": {},
   "outputs": [
    {
     "name": "stdout",
     "output_type": "stream",
     "text": [
      "Neo4j 서버와의 연결이 성공적으로 확인되었습니다.\n"
     ]
    }
   ],
   "source": [
    "#Neo4j 서버 연결 확인 \n",
    "from neo4j import GraphDatabase\n",
    "from dotenv import load_dotenv\n",
    "import os\n",
    "\n",
    "load_dotenv(verbose=True)\n",
    "\n",
    "# Neo4j 서버에 연결\n",
    "uri = os.getenv(\"NEO4J_URI\")\n",
    "user = os.getenv(\"NEO4J_USERNAME\")\n",
    "password = os.getenv(\"NEO4J_PASSWORD\")\n",
    "\n",
    "\n",
    "# URI와 사용자 정보 설정\n",
    "AUTH = (user, password)\n",
    "\n",
    "# GraphDatabase에 드라이버 생성 및 연결 확인\n",
    "with GraphDatabase.driver(uri, auth=(user, password)) as driver:\n",
    "    driver.verify_connectivity()\n",
    "    print(\"Neo4j 서버와의 연결이 성공적으로 확인되었습니다.\")\n"
   ]
  },
  {
   "cell_type": "code",
   "execution_count": 2,
   "metadata": {},
   "outputs": [
    {
     "name": "stdout",
     "output_type": "stream",
     "text": [
      "Loaded 1648 data from /mnt/c/Users/Shic/legal_graph/results/1-2_subset/DCM_1-2_enforcement_main_clause.json\n",
      "## Neo4j (AuraDB) 서버와의 연결이 성공적으로 확인되었습니다.\n"
     ]
    }
   ],
   "source": [
    "import json\n",
    "from LegalGraphDB import LegalGraphDB\n",
    "\n",
    "DATA_PATH = \"/mnt/c/Users/Shic/legal_graph/results/1-2_subset/DCM_1-2_enforcement_main_clause.json\"\n",
    "\n",
    "#json 저장된 데이터 가져오기 \n",
    "with open(DATA_PATH, \"r\", encoding=\"utf-8\") as f:\n",
    "    data = json.load(f)\n",
    "    print(f\"Loaded {len(data)} data from {DATA_PATH}\")\n",
    "\n",
    "\n",
    "db = LegalGraphDB()"
   ]
  },
  {
   "cell_type": "markdown",
   "metadata": {},
   "source": [
    "## 노드 삽입"
   ]
  },
  {
   "cell_type": "code",
   "execution_count": 3,
   "metadata": {},
   "outputs": [],
   "source": [
    "# #노드 생성 \n",
    "# for (i, item) in enumerate(data):\n",
    "#     for (j, node) in enumerate(item) : \n",
    "#         node = flatten_dict(item[j])\n",
    "        \n",
    "#         if \"시행령\" in node[\"metadata_document_title\"]:\n",
    "#             db.create_node(\"enforcement\", node)\n",
    "#         elif \"법률\" in node[\"metadata_document_title\"]:\n",
    "#             db.create_node(\"law\", node)\n",
    "#         elif \"시행규칙\" in node[\"metadata_document_title\"]:\n",
    "#             db.create_node(\"order\", node)\n",
    "        \n",
    "# print(f\"{data_path}의 데이터를 Neo4j에 nodes 생성 완료 \")\n"
   ]
  },
  {
   "cell_type": "code",
   "execution_count": 3,
   "metadata": {},
   "outputs": [
    {
     "name": "stdout",
     "output_type": "stream",
     "text": [
      "Loaded config data from /mnt/c/Users/Shic/legal_graph/codes/configs/config.json\n"
     ]
    }
   ],
   "source": [
    "CONFIG_PATH = \"/mnt/c/Users/Shic/legal_graph/codes/configs/config.json\"\n",
    "\n",
    "# config_file 가져오기\n",
    "with open(CONFIG_PATH, \"r\", encoding=\"utf-8\") as f:\n",
    "    config = json.load(f)\n",
    "    print(f\"Loaded config data from {CONFIG_PATH}\")"
   ]
  },
  {
   "cell_type": "code",
   "execution_count": 4,
   "metadata": {},
   "outputs": [
    {
     "name": "stderr",
     "output_type": "stream",
     "text": [
      "100%|██████████| 1648/1648 [05:10<00:00,  5.30it/s]"
     ]
    },
    {
     "name": "stdout",
     "output_type": "stream",
     "text": [
      "## /mnt/c/Users/Shic/legal_graph/results/1-2_subset/DCM_1-2_enforcement_main_clause.json의 데이터를 Neo4j에 nodes 생성 완료 \n",
      "## 청킹된 문서 크기 : 40\n"
     ]
    },
    {
     "name": "stderr",
     "output_type": "stream",
     "text": [
      "\n"
     ]
    }
   ],
   "source": [
    "from tqdm import tqdm\n",
    "from utils import chunk_split\n",
    "import copy\n",
    "\n",
    "splitted_doc = 0\n",
    "\n",
    "#노드 생성 \n",
    "for raw in tqdm(data):\n",
    "    chunks = chunk_split(raw['content'], config['chunk_size'], config['chunk_overlap'])\n",
    "    if len(chunks) > 1:\n",
    "        splitted_doc += 1\n",
    "\n",
    "    for chunk_text in chunks:\n",
    "        # metadata 따오고 내용 텍스트만 변환\n",
    "        new_chunk = copy.deepcopy(raw)\n",
    "        new_chunk['content'] = chunk_text\n",
    "\n",
    "        if \"시행령\" in new_chunk[\"metadata\"][\"document_title\"]:\n",
    "            db.create_law_node(\"enforcement\", new_chunk)\n",
    "        elif \"법률\" in new_chunk[\"metadata\"][\"document_title\"]:\n",
    "            db.create_law_node(\"law\", new_chunk)\n",
    "        elif \"시행규칙\" in new_chunk[\"metadata\"][\"document_title\"]:\n",
    "            db.create_law_node(\"order\", new_chunk)\n",
    "        else:\n",
    "            raise ValueError(\"## Check Data\")\n",
    "        \n",
    "print(f\"## {DATA_PATH}의 데이터를 Neo4j에 nodes 생성 완료 \")\n",
    "print(f'## 청킹된 문서 크기 : {splitted_doc}')"
   ]
  },
  {
   "cell_type": "code",
   "execution_count": 6,
   "metadata": {},
   "outputs": [],
   "source": [
    "# Rule-based REFERS_TO 임시 구축 -> 해당하는 노드 찾아서 REFERS_TO로 구축하기\n",
    "\n",
    "## UseCase1 : 제125조제3항 ~ 제125조제1항\n",
    "usecase1 = [(\"law\",\"제125조제3항\", \"law\",\"제125조제2항\"), (\"law\",\"제125조제2항\", \"law\",\"제125조제1항\")]\n",
    "\n",
    "for f_type, f_index, t_type, t_index in usecase1:\n",
    "    db.create_directed_relationship(f_type, f_index, t_type, t_index)"
   ]
  },
  {
   "cell_type": "code",
   "execution_count": 5,
   "metadata": {},
   "outputs": [],
   "source": [
    "# Rule-based REFERS_TO 임시 구축 -> 해당하는 노드 찾아서 REFERS_TO로 구축하기\n",
    "\n",
    "## UseCase2 (From, To) -> 2 hop까지 Subgraph 구축\n",
    "usecase2 = [(\"law\", \"제71조\", \"law\", \"제7조제4항\"), (\"law\",\"제249조의4제2항\", \"law\",\"제7조제4항\"),\n",
    "            (\"enforcement\", \"제68조제1항\", \"law\", \"제71조\"), (\"enforcement\", \"제68조제2항\", \"law\", \"제71조\"), \n",
    "            (\"enforcement\", \"제68조제3항\", \"law\", \"제71조\"), (\"enforcement\", \"제68조제4항\", \"law\", \"제71조\"),\n",
    "            (\"enforcement\", \"제68조제5항\", \"law\", \"제71조\"),\n",
    "            (\"enforcement\", \"제68조제2항\", \"law\", \"제249조의7제5항\"),\n",
    "            (\"enforcement\", \"제68조제5항\", \"law\", \"제9조제5항\"), (\"enforcement\", \"제68조제5항\", \"enforcement\", \"제10조제1항\"),\n",
    "            (\"enforcement\", \"제68조제5항\", \"law\", \"제124조제2항\"), (\"enforcement\", \"제68조제5항\", \"law\", \"제249조의4제2항\"),\n",
    "            (\"enforcement\", \"제68조제5항\", \"law\", \"제119조제3항\"), (\"enforcement\", \"제68조제5항\", \"law\", \"제122조제1항\"),\n",
    "            (\"enforcement\", \"제68조제5항\", \"law\", \"제165조의6제4항\"), (\"enforcement\", \"제68조제5항\", \"law\", \"제235조제6항\"),\n",
    "            (\"enforcement\", \"제68조제5항\", \"law\", \"제55조\"), (\"enforcement\", \"제68조제5항\", \"enforcement\", \"제77조의6제2항\"),\n",
    "            (\"enforcement\", \"제68조제5항\", \"enforcement\", \"제68조제1항\"),(\"enforcement\", \"제68조제5항\", \"enforcement\", \"제77조의6제3항\"),\n",
    "            (\"enforcement\", \"제68조제5항\", \"law\", \"제118조의9제1항\"), (\"enforcement\", \"제68조제5항\", \"law\", \"제130조제1항\"),\n",
    "            (\"enforcement\", \"제68조제5항\", \"law\", \"제117조의10제6항\"), (\"enforcement\", \"제68조제5항\", \"law\", \"제118조의16제5항\")\n",
    "            ]\n",
    "\n",
    "\n",
    "for f_type, f_index, t_type, t_index in usecase2:\n",
    "    db.create_directed_relationship(f_type, f_index, t_type, t_index)\n"
   ]
  },
  {
   "cell_type": "markdown",
   "metadata": {},
   "source": [
    "## Word Documentation 추가\n",
    "\n",
    "- ex. 기업실사 -> 이걸로 연결될 수 있게끔\n",
    "- "
   ]
  },
  {
   "cell_type": "markdown",
   "metadata": {},
   "source": [
    "## 노드 삭제"
   ]
  },
  {
   "cell_type": "code",
   "execution_count": null,
   "metadata": {},
   "outputs": [],
   "source": [
    "db.delete_all_relationship()"
   ]
  },
  {
   "cell_type": "code",
   "execution_count": null,
   "metadata": {},
   "outputs": [],
   "source": [
    "db.delete_all_nodes()"
   ]
  },
  {
   "cell_type": "code",
   "execution_count": null,
   "metadata": {},
   "outputs": [],
   "source": []
  }
 ],
 "metadata": {
  "kernelspec": {
   "display_name": "neo4j",
   "language": "python",
   "name": "python3"
  },
  "language_info": {
   "codemirror_mode": {
    "name": "ipython",
    "version": 3
   },
   "file_extension": ".py",
   "mimetype": "text/x-python",
   "name": "python",
   "nbconvert_exporter": "python",
   "pygments_lexer": "ipython3",
   "version": "3.11.9"
  }
 },
 "nbformat": 4,
 "nbformat_minor": 2
}
