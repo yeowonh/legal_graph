{
  "cells": [
    {
      "cell_type": "markdown",
      "metadata": {
        "id": "BTg-kwd4kgUU"
      },
      "source": [
        "<a href=\"https://colab.research.google.com/github/run-llama/llama_index/blob/main/docs/docs/examples/query_engine/knowledge_graph_query_engine.ipynb\" target=\"_parent\"><img src=\"https://colab.research.google.com/assets/colab-badge.svg\" alt=\"Open In Colab\"/></a>"
      ]
    },
    {
      "cell_type": "markdown",
      "metadata": {
        "id": "BFqve7pTkgUX"
      },
      "source": [
        "# Knowledge Graph Query Engine\n",
        "\n",
        "Creating a Knowledge Graph usually involves specialized and complex tasks. However, by utilizing the Llama Index (LLM), the KnowledgeGraphIndex, and the GraphStore, we can facilitate the creation of a relatively effective Knowledge Graph from any data source supported by [Llama Hub](https://llamahub.ai/).\n",
        "\n",
        "Furthermore, querying a Knowledge Graph often requires domain-specific knowledge related to the storage system, such as Cypher. But, with the assistance of the LLM and the LlamaIndex KnowledgeGraphQueryEngine, this can be accomplished using Natural Language!\n",
        "\n",
        "In this demonstration, we will guide you through the steps to:\n",
        "\n",
        "- Extract and Set Up a Knowledge Graph using the Llama Index\n",
        "- Query a Knowledge Graph using Cypher\n",
        "- Query a Knowledge Graph using Natural Language"
      ]
    },
    {
      "cell_type": "markdown",
      "metadata": {
        "id": "_w7eNcZjkgUY"
      },
      "source": [
        "If you're opening this Notebook on colab, you will probably need to install LlamaIndex 🦙."
      ]
    },
    {
      "cell_type": "markdown",
      "metadata": {},
      "source": [
        "### 패키지 설치"
      ]
    },
    {
      "cell_type": "code",
      "execution_count": null,
      "metadata": {
        "id": "K2c51-KmkgUZ"
      },
      "outputs": [],
      "source": [
        "# %pip install llama-index-graph-stores-nebula\n",
        "# %pip install llama-index-llms-openai"
      ]
    },
    {
      "cell_type": "code",
      "execution_count": null,
      "metadata": {
        "id": "ugY8aw7ckgUa"
      },
      "outputs": [],
      "source": [
        "# !pip install llama-index python-dotenv"
      ]
    },
    {
      "cell_type": "code",
      "execution_count": null,
      "metadata": {},
      "outputs": [],
      "source": [
        "# %pip install -q ipython-ngql nebula3-python"
      ]
    },
    {
      "cell_type": "markdown",
      "metadata": {},
      "source": [
        "### NebulaGraph console\n",
        "\n",
        "- llamaindex space 만들기"
      ]
    },
    {
      "cell_type": "markdown",
      "metadata": {},
      "source": [
        "- TextNode 구조\n",
        "\n",
        "\n",
        "    text=entry[\"content\"],\n",
        "\n",
        "    metadata={\n",
        "                    \"law_index\": entry[\"index\"],\n",
        "                    \"subtitle\": entry[\"subtitle\"],\n",
        "                    \"document_title\": entry[\"metadata\"][\"document_title\"],\n",
        "                    \"created_date\": entry[\"metadata\"][\"date\"],\n",
        "                    \"revise_info\": entry[\"metadata\"][\"revise_info\"],\n",
        "                    \"source\": entry[\"metadata\"][\"source\"],\n",
        "                    \"title_doc\": entry[\"metadata\"][\"title\"][\"doc\"],\n",
        "                    \"title_chapter\": entry[\"metadata\"][\"title\"][\"chapter\"],\n",
        "                    \"title_section\": entry[\"metadata\"][\"title\"][\"section\"],\n",
        "                    \"title_subsection\": entry[\"metadata\"][\"title\"][\"subsection\"],\n",
        "                }"
      ]
    },
    {
      "cell_type": "code",
      "execution_count": 2,
      "metadata": {},
      "outputs": [],
      "source": [
        "# 터미널에서 실행\n",
        "# cd /mnt/c/Users/Shic/legal_graph/nebula-console\n",
        "# ./nebula-console -addr=192.168.176.1 -port 9669 -u root -p 001101\n",
        "\n",
        "# If not, create it with the following commands from NebulaGraph's console:\n",
        "# CREATE SPACE llamaindex(vid_type=FIXED_STRING(2048), partition_num=1, replica_factor=1);\n",
        "# USE llamaindex;\n",
        "# CREATE TAG law(law_index string, name string, document_title string, created_date string, revise_info string, source string, title_doc string, title_chapter string, title_section string, title_subsection string);\n",
        "# CREATE EDGE REFERS_TO(relation string);\n",
        "# CREATE TAG INDEX law_index ON law(law_index(256));"
      ]
    },
    {
      "cell_type": "markdown",
      "metadata": {},
      "source": [
        "> https://docs.nebula-graph.io/3.0.0/3.ngql-guide/9.space-statements/1.create-space/\n",
        "\n",
        "> https://docs.nebula-graph.io/3.0.0/3.ngql-guide/10.tag-statements/1.create-tag/"
      ]
    },
    {
      "cell_type": "markdown",
      "metadata": {
        "id": "VUQy8PHqkgUb"
      },
      "source": [
        "### OpenAI"
      ]
    },
    {
      "cell_type": "code",
      "execution_count": 3,
      "metadata": {
        "id": "GOaMNOgDkgUb"
      },
      "outputs": [],
      "source": [
        "# For OpenAI\n",
        "\n",
        "import os\n",
        "from dotenv import load_dotenv\n",
        "load_dotenv(verbose=True)\n",
        "\n",
        "os.environ[\"OPENAI_API_KEY\"] = os.getenv(\"OPENAI_API_KEY\")\n",
        "\n",
        "import logging\n",
        "import sys\n",
        "\n",
        "logging.basicConfig(\n",
        "    stream=sys.stdout, level=logging.INFO\n",
        ")  # logging.DEBUG for more verbose output\n",
        "\n",
        "\n",
        "# define LLM\n",
        "from llama_index.llms.openai import OpenAI\n",
        "from llama_index.core import Settings\n",
        "\n",
        "Settings.llm = OpenAI(temperature=0, model=\"gpt-4o\")\n",
        "Settings.chunk_size = 512"
      ]
    },
    {
      "cell_type": "markdown",
      "metadata": {
        "id": "ulP8-KX-kgUc"
      },
      "source": [
        "## Prepare for NebulaGraph\n",
        "\n",
        "Before next step to creating the Knowledge Graph, let's ensure we have a running NebulaGraph with defined data schema."
      ]
    },
    {
      "cell_type": "code",
      "execution_count": 2,
      "metadata": {},
      "outputs": [],
      "source": [
        "# %%bash\n",
        "# sudo curl -fsSL nebula-up.siwei.io/install.sh | bash"
      ]
    },
    {
      "cell_type": "markdown",
      "metadata": {},
      "source": [
        "│ 🌏 You can access it from browser:     │\n",
        "│      http://127.0.0.1:7001             │\n",
        "│      http://<other_interface>:7001"
      ]
    },
    {
      "cell_type": "code",
      "execution_count": 4,
      "metadata": {},
      "outputs": [],
      "source": [
        "import os\n",
        "os.environ[\"NEBULA_USER\"] = os.getenv(\"NEBULA_USER\")\n",
        "os.environ[\"NEBULA_PASSWORD\"] = os.getenv(\"NEBULA_PASSWORD\")\n",
        "os.environ[\"NEBULA_ADDRESS\"] = os.getenv(\"NEBULA_ADDRESS\")\n",
        "\n",
        "space_name = \"llamaindex\"\n",
        "edge_types, rel_prop_names = [\"REFERS_TO\"], [\n",
        "    \"relation\"\n",
        "]  # default, could be omit if create from an empty kg\n",
        "tags = [\"law\"]  # default, could be omit if create from an empty kg"
      ]
    },
    {
      "cell_type": "markdown",
      "metadata": {
        "id": "gdHsFXnvkgUd"
      },
      "source": [
        "Prepare for StorageContext with graph_store as NebulaGraphStore"
      ]
    },
    {
      "cell_type": "code",
      "execution_count": 5,
      "metadata": {
        "id": "v_L9amqHkgUd"
      },
      "outputs": [],
      "source": [
        "from llama_index.core import StorageContext\n",
        "from llama_index.graph_stores.nebula import NebulaGraphStore # Neo4j와의 연동 가능할 듯\n",
        "\n",
        "graph_store = NebulaGraphStore(\n",
        "    space_name=space_name,\n",
        "    edge_types=edge_types,\n",
        "    rel_prop_names=rel_prop_names,\n",
        "    tags=tags,\n",
        ")\n",
        "storage_context = StorageContext.from_defaults(graph_store=graph_store)"
      ]
    },
    {
      "cell_type": "code",
      "execution_count": 6,
      "metadata": {},
      "outputs": [
        {
          "data": {
            "text/plain": [
              "StorageContext(docstore=<llama_index.core.storage.docstore.simple_docstore.SimpleDocumentStore object at 0x7fdda2454850>, index_store=<llama_index.core.storage.index_store.simple_index_store.SimpleIndexStore object at 0x7fdda22e5890>, vector_stores={'default': SimpleVectorStore(stores_text=False, is_embedding_query=True, data=SimpleVectorStoreData(embedding_dict={}, text_id_to_ref_doc_id={}, metadata_dict={})), 'image': SimpleVectorStore(stores_text=False, is_embedding_query=True, data=SimpleVectorStoreData(embedding_dict={}, text_id_to_ref_doc_id={}, metadata_dict={}))}, graph_store=<llama_index.graph_stores.nebula.nebula_graph_store.NebulaGraphStore object at 0x7fdda3602390>, property_graph_store=None)"
            ]
          },
          "execution_count": 6,
          "metadata": {},
          "output_type": "execute_result"
        }
      ],
      "source": [
        "storage_context"
      ]
    },
    {
      "cell_type": "markdown",
      "metadata": {
        "id": "Rpkn6MoMkgUd"
      },
      "source": [
        "## (Optional)Build the Knowledge Graph with LlamaIndex\n",
        "\n",
        "With the help of Llama Index and LLM defined, we could build Knowledge Graph from given documents.\n",
        "\n",
        "If we have a Knowledge Graph on NebulaGraphStore already, this step could be skipped"
      ]
    },
    {
      "cell_type": "markdown",
      "metadata": {
        "id": "c8L1axwKkgUe"
      },
      "source": [
        "### Step 1, load data from Wikipedia for \"Guardians of the Galaxy Vol. 3\""
      ]
    },
    {
      "cell_type": "code",
      "execution_count": null,
      "metadata": {},
      "outputs": [],
      "source": [
        "%pip install -q llama-index-readers-json\n",
        "%pip install -q llama-index-readers-hwp"
      ]
    },
    {
      "cell_type": "code",
      "execution_count": 7,
      "metadata": {},
      "outputs": [],
      "source": [
        "import json\n",
        "from llama_index.core import Document\n",
        "\n",
        "# JSON 파일을 로드하는 함수\n",
        "def load_json_as_documents(input_file):\n",
        "    # 파일을 열고 JSON 데이터를 파싱\n",
        "    with open(input_file, 'r', encoding='utf-8') as f:\n",
        "        json_data = json.load(f)\n",
        "\n",
        "    # # schema에 맞추어 json flatten\n",
        "    # flattened_json = [flatten_json(item) for item in json_data]\n",
        "\n",
        "    documents = []\n",
        "    \n",
        "    # JSON 리스트의 각 요소를 Document로 변환하여 리스트에 추가\n",
        "    for entry in json_data:\n",
        "        # 각 요소를 Document 객체로 변환\n",
        "        doc = Document(\n",
        "            text=entry[\"content\"],\n",
        "            metadata={\n",
        "                \"law_index\": entry[\"index\"],\n",
        "                \"name\": entry[\"subtitle\"],\n",
        "                \"document_title\": entry[\"metadata\"][\"document_title\"],\n",
        "                \"created_date\": entry[\"metadata\"][\"date\"],\n",
        "                \"revise_info\": entry[\"metadata\"][\"revise_info\"],\n",
        "                \"source\": entry[\"metadata\"][\"source\"],\n",
        "                \"title_doc\": entry[\"metadata\"][\"title\"][\"doc\"],\n",
        "                \"title_chapter\": entry[\"metadata\"][\"title\"][\"chapter\"],\n",
        "                \"title_section\": entry[\"metadata\"][\"title\"][\"section\"],\n",
        "                \"title_subsection\": entry[\"metadata\"][\"title\"][\"subsection\"],\n",
        "            },\n",
        "            metadata_seperator=\"::\",\n",
        "            metadata_template=\"{key}=>{value}\",\n",
        "            text_template=\"Metadata: {metadata_str}\\n-----\\nContent: {content}\",\n",
        "        )\n",
        "        documents.append(doc)\n",
        "    \n",
        "    return documents\n",
        "\n",
        "# JSON 파일 경로\n",
        "input_file = \"/mnt/c/Users/Shic/legal_graph/results/1-2/DCM_1-2_nebula_test.json\"\n",
        "\n",
        "# 로더 사용하여 데이터 불러오기\n",
        "documents = load_json_as_documents(input_file)\n"
      ]
    },
    {
      "cell_type": "code",
      "execution_count": 8,
      "metadata": {},
      "outputs": [
        {
          "data": {
            "text/plain": [
              "70"
            ]
          },
          "execution_count": 8,
          "metadata": {},
          "output_type": "execute_result"
        }
      ],
      "source": [
        "len(documents)"
      ]
    },
    {
      "cell_type": "code",
      "execution_count": 9,
      "metadata": {},
      "outputs": [
        {
          "data": {
            "text/plain": [
              "['law_index',\n",
              " 'name',\n",
              " 'document_title',\n",
              " 'created_date',\n",
              " 'revise_info',\n",
              " 'source',\n",
              " 'title_doc',\n",
              " 'title_chapter',\n",
              " 'title_section',\n",
              " 'title_subsection']"
            ]
          },
          "execution_count": 9,
          "metadata": {},
          "output_type": "execute_result"
        }
      ],
      "source": [
        "list(documents[0].metadata.keys())"
      ]
    },
    {
      "cell_type": "markdown",
      "metadata": {},
      "source": [
        "테스트용 데이터 범위 제1조 ~ 제49조에서 제30조 ~ 제49조로 줄임 (Documents 188 -> 70)"
      ]
    },
    {
      "cell_type": "code",
      "execution_count": 10,
      "metadata": {},
      "outputs": [
        {
          "name": "stdout",
          "output_type": "stream",
          "text": [
            "The LLM sees this: \n",
            " Metadata: law_index=>제30조제2항::name=>재무건전성 유지::document_title=>자본시장과 금융투자업에 관한 법률 ( 약칭: 자본시장법 )\n",
            "::created_date=>시행 2024. 8. 14.::revise_info=>법률 제20305호, 2024. 2. 13., 일부개정\n",
            "::source=>국가법령정보센터::title_doc=>제2편 금융투자업::title_chapter=>제3장 건전경영 유지::title_section=>제1절 경영건전성 감독::title_subsection=>None\n",
            "-----\n",
            "Content: 제1항의 영업용순자본과 총위험액의 산정에 관한 구체적인 기준 및 방법은 금융위원회가 정하여 고시한다.<개정 2008. 2. 29.>\n"
          ]
        }
      ],
      "source": [
        "from llama_index.core.schema import MetadataMode\n",
        "print(\n",
        "    \"The LLM sees this: \\n\",\n",
        "    documents[1].get_content(metadata_mode=MetadataMode.LLM),\n",
        ")"
      ]
    },
    {
      "cell_type": "code",
      "execution_count": 11,
      "metadata": {},
      "outputs": [
        {
          "name": "stdout",
          "output_type": "stream",
          "text": [
            "The Embedding model sees this: \n",
            " Metadata: law_index=>제30조제2항::name=>재무건전성 유지::document_title=>자본시장과 금융투자업에 관한 법률 ( 약칭: 자본시장법 )\n",
            "::created_date=>시행 2024. 8. 14.::revise_info=>법률 제20305호, 2024. 2. 13., 일부개정\n",
            "::source=>국가법령정보센터::title_doc=>제2편 금융투자업::title_chapter=>제3장 건전경영 유지::title_section=>제1절 경영건전성 감독::title_subsection=>None\n",
            "-----\n",
            "Content: 제1항의 영업용순자본과 총위험액의 산정에 관한 구체적인 기준 및 방법은 금융위원회가 정하여 고시한다.<개정 2008. 2. 29.>\n"
          ]
        }
      ],
      "source": [
        "print(\n",
        "    \"The Embedding model sees this: \\n\",\n",
        "    documents[1].get_content(metadata_mode=MetadataMode.EMBED),\n",
        ")"
      ]
    },
    {
      "cell_type": "markdown",
      "metadata": {
        "id": "ZIPE4e6JkgUe"
      },
      "source": [
        "### Step 2, Generate a KnowledgeGraphIndex with NebulaGraph as graph_store\n",
        "\n",
        "Then, we will create a KnowledgeGraphIndex to enable Graph based RAG, see [here](https://gpt-index.readthedocs.io/en/latest/examples/index_structs/knowledge_graph/KnowledgeGraphIndex_vs_VectorStoreIndex_vs_CustomIndex_combined.html) for deails, apart from that, we have a Knowledge Graph up and running for other purposes, too!"
      ]
    },
    {
      "cell_type": "markdown",
      "metadata": {},
      "source": [
        "> https://docs.llamaindex.ai/en/stable/module_guides/loading/documents_and_nodes/usage_documents/"
      ]
    },
    {
      "cell_type": "code",
      "execution_count": 12,
      "metadata": {},
      "outputs": [],
      "source": [
        "# from llama_index.core import Prompt\n",
        "\n",
        "triplet_prompt = \"\"\"\n",
        "다음과 같은 법률 데이터베이스가 구축되어 있습니다.\n",
        "\n",
        "데이터베이스 생성 구문:\n",
        "CREATE TAG law(law_index string, subtitle string, document_title string, created_date string, revise_info string, source string, title_doc string, title_chapter string, title_section string, title_subsection string);\n",
        "CREATE EDGE REFERS_TO();\n",
        "CREATE TAG INDEX law_index ON law(law_index(256));\n",
        "\n",
        "데이터베이스에 노드와 엣지를 삽입하기 위해서, 주어진 텍스트에서 가능한 모든 사실과 법 조항 간의 관계를 추출하세요.\n",
        "- 각 사실은 (주어, 관계, 객체)의 형태로 나타냅니다.\n",
        "- 특히, 법 조항 간의 참조, 의무, 금지 등의 관계를 중점적으로 추출하세요.\n",
        "\n",
        "예시:\n",
        " Metadata: law_index=>제44조제2항::subtitle=>이해상충의 관리::document_title=>자본시장과 금융투자업에 관한 법률 ( 약칭: 자본시장법 )\n",
        "::created_date=>시행 2024. 8. 14.::revise_info=>법률 제20305호, 2024. 2. 13., 일부개정\n",
        "::source=>국가법령정보센터::title_doc=>제2편 금융투자업::title_chapter=>제4장 영업행위 규칙::title_section=>제1절 공통 영업행위 규칙::title_subsection=>제1관 신의성실의무 등\n",
        "-----\n",
        "Content: 금융투자업자는 제1항에 따라 이해상충이 발생할 가능성을 파악ㆍ평가한 결과 이해상충이 발생할 가능성이 있다고 인정되는 경우에는 그 사실을 미리 해당 투자자에게 알려야 하며, 그 이해상충이 발생할 가능성을 내부통제기준이 정하는 방법 및 절차에 따라 투자자 보호에 문제가 없는 수준으로 낮춘 후 매매, 그 밖의 거래를 하여야 한다.\n",
        "\n",
        "삼중항:\n",
        "(제44조제2항, 참조한다, 제44조제1항)\n",
        "(금융투자업자, 파악ㆍ평가한다, 이해상충 발생 가능성)\n",
        "\n",
        "텍스트: {text}\n",
        "삼중항:\n",
        "\"\"\""
      ]
    },
    {
      "cell_type": "code",
      "execution_count": null,
      "metadata": {},
      "outputs": [],
      "source": [
        "!pip install llama-index-prompts llama-index-llms"
      ]
    },
    {
      "cell_type": "code",
      "execution_count": 13,
      "metadata": {},
      "outputs": [],
      "source": [
        "from llama_index.core import PromptTemplate  # 수정된 부분\n",
        "\n",
        "triplet_template = PromptTemplate(template=triplet_prompt)  # 수정된 부분"
      ]
    },
    {
      "cell_type": "code",
      "execution_count": 15,
      "metadata": {
        "id": "MNIz_QQLkgUe"
      },
      "outputs": [
        {
          "data": {
            "application/vnd.jupyter.widget-view+json": {
              "model_id": "58ba262824f84190a6cb596b3a6eaa13",
              "version_major": 2,
              "version_minor": 0
            },
            "text/plain": [
              "Parsing nodes:   0%|          | 0/70 [00:00<?, ?it/s]"
            ]
          },
          "metadata": {},
          "output_type": "display_data"
        },
        {
          "data": {
            "application/vnd.jupyter.widget-view+json": {
              "model_id": "b781b8eb2f9541a0b610d34535a325dc",
              "version_major": 2,
              "version_minor": 0
            },
            "text/plain": [
              "Processing nodes:   0%|          | 0/78 [00:00<?, ?it/s]"
            ]
          },
          "metadata": {},
          "output_type": "display_data"
        },
        {
          "name": "stdout",
          "output_type": "stream",
          "text": [
            "INFO:httpx:HTTP Request: POST https://api.openai.com/v1/chat/completions \"HTTP/1.1 200 OK\"\n",
            "INFO:httpx:HTTP Request: POST https://api.openai.com/v1/chat/completions \"HTTP/1.1 200 OK\"\n",
            "INFO:httpx:HTTP Request: POST https://api.openai.com/v1/chat/completions \"HTTP/1.1 200 OK\"\n",
            "INFO:httpx:HTTP Request: POST https://api.openai.com/v1/chat/completions \"HTTP/1.1 200 OK\"\n",
            "INFO:httpx:HTTP Request: POST https://api.openai.com/v1/chat/completions \"HTTP/1.1 200 OK\"\n",
            "INFO:httpx:HTTP Request: POST https://api.openai.com/v1/chat/completions \"HTTP/1.1 200 OK\"\n",
            "INFO:httpx:HTTP Request: POST https://api.openai.com/v1/chat/completions \"HTTP/1.1 200 OK\"\n",
            "INFO:httpx:HTTP Request: POST https://api.openai.com/v1/chat/completions \"HTTP/1.1 200 OK\"\n",
            "INFO:httpx:HTTP Request: POST https://api.openai.com/v1/chat/completions \"HTTP/1.1 200 OK\"\n",
            "INFO:httpx:HTTP Request: POST https://api.openai.com/v1/chat/completions \"HTTP/1.1 200 OK\"\n",
            "INFO:httpx:HTTP Request: POST https://api.openai.com/v1/chat/completions \"HTTP/1.1 200 OK\"\n",
            "INFO:httpx:HTTP Request: POST https://api.openai.com/v1/chat/completions \"HTTP/1.1 200 OK\"\n",
            "INFO:httpx:HTTP Request: POST https://api.openai.com/v1/chat/completions \"HTTP/1.1 200 OK\"\n",
            "INFO:httpx:HTTP Request: POST https://api.openai.com/v1/chat/completions \"HTTP/1.1 200 OK\"\n",
            "INFO:httpx:HTTP Request: POST https://api.openai.com/v1/chat/completions \"HTTP/1.1 200 OK\"\n",
            "INFO:httpx:HTTP Request: POST https://api.openai.com/v1/chat/completions \"HTTP/1.1 200 OK\"\n",
            "INFO:httpx:HTTP Request: POST https://api.openai.com/v1/chat/completions \"HTTP/1.1 200 OK\"\n",
            "INFO:httpx:HTTP Request: POST https://api.openai.com/v1/chat/completions \"HTTP/1.1 200 OK\"\n",
            "INFO:httpx:HTTP Request: POST https://api.openai.com/v1/chat/completions \"HTTP/1.1 200 OK\"\n",
            "INFO:httpx:HTTP Request: POST https://api.openai.com/v1/chat/completions \"HTTP/1.1 200 OK\"\n",
            "INFO:httpx:HTTP Request: POST https://api.openai.com/v1/chat/completions \"HTTP/1.1 200 OK\"\n",
            "INFO:httpx:HTTP Request: POST https://api.openai.com/v1/chat/completions \"HTTP/1.1 200 OK\"\n",
            "INFO:httpx:HTTP Request: POST https://api.openai.com/v1/chat/completions \"HTTP/1.1 200 OK\"\n",
            "INFO:httpx:HTTP Request: POST https://api.openai.com/v1/chat/completions \"HTTP/1.1 200 OK\"\n",
            "INFO:httpx:HTTP Request: POST https://api.openai.com/v1/chat/completions \"HTTP/1.1 200 OK\"\n",
            "INFO:httpx:HTTP Request: POST https://api.openai.com/v1/chat/completions \"HTTP/1.1 200 OK\"\n",
            "INFO:httpx:HTTP Request: POST https://api.openai.com/v1/chat/completions \"HTTP/1.1 200 OK\"\n",
            "INFO:httpx:HTTP Request: POST https://api.openai.com/v1/chat/completions \"HTTP/1.1 200 OK\"\n",
            "INFO:httpx:HTTP Request: POST https://api.openai.com/v1/chat/completions \"HTTP/1.1 200 OK\"\n",
            "INFO:httpx:HTTP Request: POST https://api.openai.com/v1/chat/completions \"HTTP/1.1 200 OK\"\n",
            "INFO:httpx:HTTP Request: POST https://api.openai.com/v1/chat/completions \"HTTP/1.1 200 OK\"\n",
            "INFO:httpx:HTTP Request: POST https://api.openai.com/v1/chat/completions \"HTTP/1.1 200 OK\"\n",
            "INFO:httpx:HTTP Request: POST https://api.openai.com/v1/chat/completions \"HTTP/1.1 200 OK\"\n",
            "INFO:httpx:HTTP Request: POST https://api.openai.com/v1/chat/completions \"HTTP/1.1 200 OK\"\n",
            "INFO:httpx:HTTP Request: POST https://api.openai.com/v1/chat/completions \"HTTP/1.1 200 OK\"\n",
            "INFO:httpx:HTTP Request: POST https://api.openai.com/v1/chat/completions \"HTTP/1.1 200 OK\"\n",
            "INFO:httpx:HTTP Request: POST https://api.openai.com/v1/chat/completions \"HTTP/1.1 200 OK\"\n",
            "INFO:httpx:HTTP Request: POST https://api.openai.com/v1/chat/completions \"HTTP/1.1 200 OK\"\n",
            "INFO:httpx:HTTP Request: POST https://api.openai.com/v1/chat/completions \"HTTP/1.1 200 OK\"\n",
            "INFO:httpx:HTTP Request: POST https://api.openai.com/v1/chat/completions \"HTTP/1.1 200 OK\"\n",
            "INFO:httpx:HTTP Request: POST https://api.openai.com/v1/chat/completions \"HTTP/1.1 200 OK\"\n",
            "INFO:httpx:HTTP Request: POST https://api.openai.com/v1/chat/completions \"HTTP/1.1 200 OK\"\n",
            "INFO:httpx:HTTP Request: POST https://api.openai.com/v1/chat/completions \"HTTP/1.1 200 OK\"\n",
            "INFO:httpx:HTTP Request: POST https://api.openai.com/v1/chat/completions \"HTTP/1.1 200 OK\"\n",
            "INFO:httpx:HTTP Request: POST https://api.openai.com/v1/chat/completions \"HTTP/1.1 200 OK\"\n",
            "INFO:httpx:HTTP Request: POST https://api.openai.com/v1/chat/completions \"HTTP/1.1 200 OK\"\n",
            "INFO:httpx:HTTP Request: POST https://api.openai.com/v1/chat/completions \"HTTP/1.1 200 OK\"\n",
            "INFO:httpx:HTTP Request: POST https://api.openai.com/v1/chat/completions \"HTTP/1.1 200 OK\"\n",
            "INFO:httpx:HTTP Request: POST https://api.openai.com/v1/chat/completions \"HTTP/1.1 200 OK\"\n",
            "INFO:httpx:HTTP Request: POST https://api.openai.com/v1/chat/completions \"HTTP/1.1 200 OK\"\n",
            "INFO:httpx:HTTP Request: POST https://api.openai.com/v1/chat/completions \"HTTP/1.1 200 OK\"\n",
            "INFO:httpx:HTTP Request: POST https://api.openai.com/v1/chat/completions \"HTTP/1.1 200 OK\"\n",
            "INFO:httpx:HTTP Request: POST https://api.openai.com/v1/chat/completions \"HTTP/1.1 200 OK\"\n",
            "INFO:httpx:HTTP Request: POST https://api.openai.com/v1/chat/completions \"HTTP/1.1 200 OK\"\n",
            "INFO:httpx:HTTP Request: POST https://api.openai.com/v1/chat/completions \"HTTP/1.1 200 OK\"\n",
            "INFO:httpx:HTTP Request: POST https://api.openai.com/v1/chat/completions \"HTTP/1.1 200 OK\"\n",
            "INFO:httpx:HTTP Request: POST https://api.openai.com/v1/chat/completions \"HTTP/1.1 200 OK\"\n",
            "INFO:httpx:HTTP Request: POST https://api.openai.com/v1/chat/completions \"HTTP/1.1 200 OK\"\n",
            "INFO:httpx:HTTP Request: POST https://api.openai.com/v1/chat/completions \"HTTP/1.1 200 OK\"\n",
            "INFO:httpx:HTTP Request: POST https://api.openai.com/v1/chat/completions \"HTTP/1.1 200 OK\"\n",
            "INFO:httpx:HTTP Request: POST https://api.openai.com/v1/chat/completions \"HTTP/1.1 200 OK\"\n",
            "INFO:httpx:HTTP Request: POST https://api.openai.com/v1/chat/completions \"HTTP/1.1 200 OK\"\n",
            "INFO:httpx:HTTP Request: POST https://api.openai.com/v1/chat/completions \"HTTP/1.1 200 OK\"\n",
            "INFO:httpx:HTTP Request: POST https://api.openai.com/v1/chat/completions \"HTTP/1.1 200 OK\"\n",
            "INFO:httpx:HTTP Request: POST https://api.openai.com/v1/chat/completions \"HTTP/1.1 200 OK\"\n",
            "INFO:httpx:HTTP Request: POST https://api.openai.com/v1/chat/completions \"HTTP/1.1 200 OK\"\n",
            "INFO:httpx:HTTP Request: POST https://api.openai.com/v1/chat/completions \"HTTP/1.1 200 OK\"\n",
            "INFO:httpx:HTTP Request: POST https://api.openai.com/v1/chat/completions \"HTTP/1.1 200 OK\"\n",
            "INFO:httpx:HTTP Request: POST https://api.openai.com/v1/chat/completions \"HTTP/1.1 200 OK\"\n",
            "INFO:httpx:HTTP Request: POST https://api.openai.com/v1/chat/completions \"HTTP/1.1 200 OK\"\n",
            "INFO:httpx:HTTP Request: POST https://api.openai.com/v1/chat/completions \"HTTP/1.1 200 OK\"\n",
            "INFO:httpx:HTTP Request: POST https://api.openai.com/v1/chat/completions \"HTTP/1.1 200 OK\"\n",
            "INFO:httpx:HTTP Request: POST https://api.openai.com/v1/chat/completions \"HTTP/1.1 200 OK\"\n",
            "INFO:httpx:HTTP Request: POST https://api.openai.com/v1/chat/completions \"HTTP/1.1 200 OK\"\n",
            "INFO:httpx:HTTP Request: POST https://api.openai.com/v1/chat/completions \"HTTP/1.1 200 OK\"\n",
            "INFO:httpx:HTTP Request: POST https://api.openai.com/v1/chat/completions \"HTTP/1.1 200 OK\"\n",
            "INFO:httpx:HTTP Request: POST https://api.openai.com/v1/chat/completions \"HTTP/1.1 200 OK\"\n",
            "INFO:httpx:HTTP Request: POST https://api.openai.com/v1/chat/completions \"HTTP/1.1 200 OK\"\n"
          ]
        }
      ],
      "source": [
        "from llama_index.core import KnowledgeGraphIndex\n",
        "\n",
        "kg_index = KnowledgeGraphIndex.from_documents(\n",
        "    documents,\n",
        "    # kg_triplet_extract_template 으로 triplet 추출 프롬프트 설정 가능\n",
        "    kg_triplet_extract_template = triplet_template,\n",
        "    storage_context=storage_context,\n",
        "    max_triplets_per_chunk=5, # 범위 수정\n",
        "    space_name=space_name,\n",
        "    edge_types=edge_types,\n",
        "    rel_prop_names=rel_prop_names,\n",
        "    tags=tags,\n",
        "    # include_embeddings=True,\n",
        "    show_progress=True\n",
        ")"
      ]
    },
    {
      "cell_type": "markdown",
      "metadata": {
        "id": "eC6hkGFckgUe"
      },
      "source": [
        "Now we have a Knowledge Graph on NebulaGraph cluster under space named `llamaindex` about the 'Guardians of the Galaxy Vol. 3' movie, let's play with it a little bit."
      ]
    },
    {
      "cell_type": "code",
      "execution_count": null,
      "metadata": {
        "id": "drjvZkFhkgUe",
        "outputId": "7cf2531a-2848-4511-91d1-5b934f40f0ed"
      },
      "outputs": [],
      "source": [
        "# install related packages, password is nebula by default\n",
        "%pip install ipython-ngql networkx pyvis jupyter_nebulagraph\n"
      ]
    },
    {
      "cell_type": "code",
      "execution_count": 16,
      "metadata": {},
      "outputs": [
        {
          "name": "stdout",
          "output_type": "stream",
          "text": [
            "\u001b[1;3;38;2;0;135;107m[OK] Connection Pool Created\u001b[0m\n",
            "INFO:nebula3.logger:Get connection to ('192.168.176.1', 9669)\n"
          ]
        },
        {
          "data": {
            "text/html": [
              "<div>\n",
              "<style scoped>\n",
              "    .dataframe tbody tr th:only-of-type {\n",
              "        vertical-align: middle;\n",
              "    }\n",
              "\n",
              "    .dataframe tbody tr th {\n",
              "        vertical-align: top;\n",
              "    }\n",
              "\n",
              "    .dataframe thead th {\n",
              "        text-align: right;\n",
              "    }\n",
              "</style>\n",
              "<table border=\"1\" class=\"dataframe\">\n",
              "  <thead>\n",
              "    <tr style=\"text-align: right;\">\n",
              "      <th></th>\n",
              "      <th>Name</th>\n",
              "    </tr>\n",
              "  </thead>\n",
              "  <tbody>\n",
              "    <tr>\n",
              "      <th>0</th>\n",
              "      <td>llamaindex</td>\n",
              "    </tr>\n",
              "  </tbody>\n",
              "</table>\n",
              "</div>"
            ],
            "text/plain": [
              "         Name\n",
              "0  llamaindex"
            ]
          },
          "execution_count": 16,
          "metadata": {},
          "output_type": "execute_result"
        }
      ],
      "source": [
        "%load_ext ngql\n",
        "%ngql --address 192.168.176.1 --port 9669 --user root --password 001101"
      ]
    },
    {
      "cell_type": "code",
      "execution_count": 24,
      "metadata": {
        "id": "eTqktHHwkgUf",
        "outputId": "4db5cbcc-f861-47f2-a118-2a83c04dc027"
      },
      "outputs": [
        {
          "name": "stdout",
          "output_type": "stream",
          "text": [
            "INFO:nebula3.logger:Get connection to ('192.168.176.1', 9669)\n",
            "INFO:nebula3.logger:Get connection to ('192.168.176.1', 9669)\n"
          ]
        },
        {
          "data": {
            "text/html": [
              "<div>\n",
              "<style scoped>\n",
              "    .dataframe tbody tr th:only-of-type {\n",
              "        vertical-align: middle;\n",
              "    }\n",
              "\n",
              "    .dataframe tbody tr th {\n",
              "        vertical-align: top;\n",
              "    }\n",
              "\n",
              "    .dataframe thead th {\n",
              "        text-align: right;\n",
              "    }\n",
              "</style>\n",
              "<table border=\"1\" class=\"dataframe\">\n",
              "  <thead>\n",
              "    <tr style=\"text-align: right;\">\n",
              "      <th></th>\n",
              "      <th>e</th>\n",
              "    </tr>\n",
              "  </thead>\n",
              "  <tbody>\n",
              "    <tr>\n",
              "      <th>0</th>\n",
              "      <td>(\"거액의 금융사고\")-[:REFERS_TO@7638308093824355506{relation: \"영향을 미친다\"}]-&gt;(\"금융투자업자의 경영상황\")</td>\n",
              "    </tr>\n",
              "    <tr>\n",
              "      <th>1</th>\n",
              "      <td>(\"겸영업무 보고내용\")-[:REFERS_TO@-7640577887932975066{relation: \"초래한다\"}]-&gt;(\"투자자 보호에 지장\")</td>\n",
              "    </tr>\n",
              "    <tr>\n",
              "      <th>2</th>\n",
              "      <td>(\"겸영업무 보고내용\")-[:REFERS_TO@5387447905849479152{relation: \"저해한다\"}]-&gt;(\"금융시장의 안정성\")</td>\n",
              "    </tr>\n",
              "    <tr>\n",
              "      <th>3</th>\n",
              "      <td>(\"겸영업무 보고내용\")-[:REFERS_TO@5387447905849479152{relation: \"저해한다\"}]-&gt;(\"금융투자업자의 경영건전성\")</td>\n",
              "    </tr>\n",
              "    <tr>\n",
              "      <th>4</th>\n",
              "      <td>(\"경영건전성기준\")-[:REFERS_TO@-2645493958118358966{relation: \"포함한다\"}]-&gt;(\"대통령령으로 정하는 사항\")</td>\n",
              "    </tr>\n",
              "    <tr>\n",
              "      <th>5</th>\n",
              "      <td>(\"경영건전성기준\")-[:REFERS_TO@-2645493958118358966{relation: \"포함한다\"}]-&gt;(\"유동성\")</td>\n",
              "    </tr>\n",
              "    <tr>\n",
              "      <th>6</th>\n",
              "      <td>(\"경영건전성기준\")-[:REFERS_TO@-2645493958118358966{relation: \"포함한다\"}]-&gt;(\"자기자본비율\")</td>\n",
              "    </tr>\n",
              "    <tr>\n",
              "      <th>7</th>\n",
              "      <td>(\"경영건전성기준\")-[:REFERS_TO@-2645493958118358966{relation: \"포함한다\"}]-&gt;(\"자산의 건전성\")</td>\n",
              "    </tr>\n",
              "    <tr>\n",
              "      <th>8</th>\n",
              "      <td>(\"공시서류\")-[:REFERS_TO@-6904075763027840850{relation: \"발췌한다\"}]-&gt;(\"업무보고서 중 중요사항\")</td>\n",
              "    </tr>\n",
              "    <tr>\n",
              "      <th>9</th>\n",
              "      <td>(\"공시서류\")-[:REFERS_TO@7795243296179001118{relation: \"이용한다\"}]-&gt;(\"인터넷 홈페이지\")</td>\n",
              "    </tr>\n",
              "    <tr>\n",
              "      <th>10</th>\n",
              "      <td>(\"금액\")-[:REFERS_TO@-3400265970928748103{relation: \"추정된다\"}]-&gt;(\"손해액\")</td>\n",
              "    </tr>\n",
              "    <tr>\n",
              "      <th>11</th>\n",
              "      <td>(\"금융위원회\")-[:REFERS_TO@-7334096170000095590{relation: \"정한다\"}]-&gt;(\"경영건전성기준\")</td>\n",
              "    </tr>\n",
              "    <tr>\n",
              "      <th>12</th>\n",
              "      <td>(\"금융위원회\")-[:REFERS_TO@-7330902890750983237{relation: \"참조한다\"}]-&gt;(\"제40조제1항\")</td>\n",
              "    </tr>\n",
              "    <tr>\n",
              "      <th>13</th>\n",
              "      <td>(\"금융위원회\")-[:REFERS_TO@-7330902890750983237{relation: \"참조한다\"}]-&gt;(\"제42조제1항\")</td>\n",
              "    </tr>\n",
              "    <tr>\n",
              "      <th>14</th>\n",
              "      <td>(\"금융위원회\")-[:REFERS_TO@-6387311280664920996{relation: \"제한할 수 있다\"}]-&gt;(\"금융투자업자에 대하여 대주주가 발행한 증권의 신규취득\")</td>\n",
              "    </tr>\n",
              "    <tr>\n",
              "      <th>15</th>\n",
              "      <td>(\"금융위원회\")-[:REFERS_TO@-6387311280664920996{relation: \"제한할 수 있다\"}]-&gt;(\"금융투자업자에 대하여 제2항 단서에 따른 신용공여\")</td>\n",
              "    </tr>\n",
              "    <tr>\n",
              "      <th>16</th>\n",
              "      <td>(\"금융위원회\")-[:REFERS_TO@-4949666571797540746{relation: \"통보하여야 한다\"}]-&gt;(\"조회 요청자\")</td>\n",
              "    </tr>\n",
              "    <tr>\n",
              "      <th>17</th>\n",
              "      <td>(\"금융위원회\")-[:REFERS_TO@-4241701323522279836{relation: \"기록하고 유지ㆍ관리하여야 한다\"}]-&gt;(\"조치 내용\")</td>\n",
              "    </tr>\n",
              "    <tr>\n",
              "      <th>18</th>\n",
              "      <td>(\"금융위원회\")-[:REFERS_TO@-2641857200281476687{relation: \"평가할 수 있다\"}]-&gt;(\"금융투자업자의 경영실태 및 위험\")</td>\n",
              "    </tr>\n",
              "    <tr>\n",
              "      <th>19</th>\n",
              "      <td>(\"금융위원회\")-[:REFERS_TO@-1038532994200915428{relation: \"제한명령 또는 시정명령을 한다\"}]-&gt;(\"제40조제2항\")</td>\n",
              "    </tr>\n",
              "  </tbody>\n",
              "</table>\n",
              "</div>"
            ],
            "text/plain": [
              "                                                                                                       e\n",
              "0                   (\"거액의 금융사고\")-[:REFERS_TO@7638308093824355506{relation: \"영향을 미친다\"}]->(\"금융투자업자의 경영상황\")\n",
              "1                      (\"겸영업무 보고내용\")-[:REFERS_TO@-7640577887932975066{relation: \"초래한다\"}]->(\"투자자 보호에 지장\")\n",
              "2                        (\"겸영업무 보고내용\")-[:REFERS_TO@5387447905849479152{relation: \"저해한다\"}]->(\"금융시장의 안정성\")\n",
              "3                    (\"겸영업무 보고내용\")-[:REFERS_TO@5387447905849479152{relation: \"저해한다\"}]->(\"금융투자업자의 경영건전성\")\n",
              "4                     (\"경영건전성기준\")-[:REFERS_TO@-2645493958118358966{relation: \"포함한다\"}]->(\"대통령령으로 정하는 사항\")\n",
              "5                               (\"경영건전성기준\")-[:REFERS_TO@-2645493958118358966{relation: \"포함한다\"}]->(\"유동성\")\n",
              "6                            (\"경영건전성기준\")-[:REFERS_TO@-2645493958118358966{relation: \"포함한다\"}]->(\"자기자본비율\")\n",
              "7                           (\"경영건전성기준\")-[:REFERS_TO@-2645493958118358966{relation: \"포함한다\"}]->(\"자산의 건전성\")\n",
              "8                         (\"공시서류\")-[:REFERS_TO@-6904075763027840850{relation: \"발췌한다\"}]->(\"업무보고서 중 중요사항\")\n",
              "9                              (\"공시서류\")-[:REFERS_TO@7795243296179001118{relation: \"이용한다\"}]->(\"인터넷 홈페이지\")\n",
              "10                                   (\"금액\")-[:REFERS_TO@-3400265970928748103{relation: \"추정된다\"}]->(\"손해액\")\n",
              "11                             (\"금융위원회\")-[:REFERS_TO@-7334096170000095590{relation: \"정한다\"}]->(\"경영건전성기준\")\n",
              "12                            (\"금융위원회\")-[:REFERS_TO@-7330902890750983237{relation: \"참조한다\"}]->(\"제40조제1항\")\n",
              "13                            (\"금융위원회\")-[:REFERS_TO@-7330902890750983237{relation: \"참조한다\"}]->(\"제42조제1항\")\n",
              "14  (\"금융위원회\")-[:REFERS_TO@-6387311280664920996{relation: \"제한할 수 있다\"}]->(\"금융투자업자에 대하여 대주주가 발행한 증권의 신규취득\")\n",
              "15    (\"금융위원회\")-[:REFERS_TO@-6387311280664920996{relation: \"제한할 수 있다\"}]->(\"금융투자업자에 대하여 제2항 단서에 따른 신용공여\")\n",
              "16                         (\"금융위원회\")-[:REFERS_TO@-4949666571797540746{relation: \"통보하여야 한다\"}]->(\"조회 요청자\")\n",
              "17                  (\"금융위원회\")-[:REFERS_TO@-4241701323522279836{relation: \"기록하고 유지ㆍ관리하여야 한다\"}]->(\"조치 내용\")\n",
              "18              (\"금융위원회\")-[:REFERS_TO@-2641857200281476687{relation: \"평가할 수 있다\"}]->(\"금융투자업자의 경영실태 및 위험\")\n",
              "19                (\"금융위원회\")-[:REFERS_TO@-1038532994200915428{relation: \"제한명령 또는 시정명령을 한다\"}]->(\"제40조제2항\")"
            ]
          },
          "execution_count": 24,
          "metadata": {},
          "output_type": "execute_result"
        }
      ],
      "source": [
        "# Query some random Relationships with Cypher\n",
        "%ngql USE llamaindex;\n",
        "%ngql MATCH ()-[e]->() RETURN e LIMIT 20;"
      ]
    },
    {
      "cell_type": "code",
      "execution_count": 25,
      "metadata": {},
      "outputs": [
        {
          "name": "stdout",
          "output_type": "stream",
          "text": [
            "INFO:nebula3.logger:Get connection to ('192.168.176.1', 9669)\n"
          ]
        },
        {
          "data": {
            "text/html": [
              "<div>\n",
              "<style scoped>\n",
              "    .dataframe tbody tr th:only-of-type {\n",
              "        vertical-align: middle;\n",
              "    }\n",
              "\n",
              "    .dataframe tbody tr th {\n",
              "        vertical-align: top;\n",
              "    }\n",
              "\n",
              "    .dataframe thead th {\n",
              "        text-align: right;\n",
              "    }\n",
              "</style>\n",
              "<table border=\"1\" class=\"dataframe\">\n",
              "  <thead>\n",
              "    <tr style=\"text-align: right;\">\n",
              "      <th></th>\n",
              "      <th>e</th>\n",
              "    </tr>\n",
              "  </thead>\n",
              "  <tbody>\n",
              "    <tr>\n",
              "      <th>0</th>\n",
              "      <td>(\"해외현지법인\")-[:REFERS_TO@-3648029259485943483{relation: \"대상이다\"}]-&gt;(\"신용공여\")</td>\n",
              "    </tr>\n",
              "    <tr>\n",
              "      <th>1</th>\n",
              "      <td>(\"투자자문업자가 아닌 자\")-[:REFERS_TO@4253434467682292654{relation: \"사용하여서는 아니 된다\"}]-&gt;(\"이와 같은 의미를 가지는 외국어문자\")</td>\n",
              "    </tr>\n",
              "    <tr>\n",
              "      <th>2</th>\n",
              "      <td>(\"투자자문업자가 아닌 자\")-[:REFERS_TO@4253434467682292654{relation: \"사용하여서는 아니 된다\"}]-&gt;(\"투자자문 이라는 문자\")</td>\n",
              "    </tr>\n",
              "    <tr>\n",
              "      <th>3</th>\n",
              "      <td>(\"집합투자업자\")-[:REFERS_TO@8341684571847756684{relation: \"사용할 수 있다\"}]-&gt;(\"신탁 이라는 문자\")</td>\n",
              "    </tr>\n",
              "    <tr>\n",
              "      <th>4</th>\n",
              "      <td>(\"제45조제3항\")-[:REFERS_TO@-7330902890750983237{relation: \"참조한다\"}]-&gt;(\"제45조제1항\")</td>\n",
              "    </tr>\n",
              "    <tr>\n",
              "      <th>...</th>\n",
              "      <td>...</td>\n",
              "    </tr>\n",
              "    <tr>\n",
              "      <th>324</th>\n",
              "      <td>(\"자금이체업무\")-[:REFERS_TO@-5524706812882331863{relation: \"수행한다\"}]-&gt;(\"투자자예탁금\")</td>\n",
              "    </tr>\n",
              "    <tr>\n",
              "      <th>325</th>\n",
              "      <td>(\"제42조제2항\")-[:REFERS_TO@-7330902890750983237{relation: \"참조한다\"}]-&gt;(\"제42조제1항\")</td>\n",
              "    </tr>\n",
              "    <tr>\n",
              "      <th>326</th>\n",
              "      <td>(\"제45조제4항\")-[:REFERS_TO@-7330902890750983237{relation: \"참조한다\"}]-&gt;(\"제45조제1항\")</td>\n",
              "    </tr>\n",
              "    <tr>\n",
              "      <th>327</th>\n",
              "      <td>(\"제45조제4항\")-[:REFERS_TO@-7330902890750983237{relation: \"참조한다\"}]-&gt;(\"제45조제2항\")</td>\n",
              "    </tr>\n",
              "    <tr>\n",
              "      <th>328</th>\n",
              "      <td>(\"제42조제6항\")-[:REFERS_TO@-7330902890750983237{relation: \"참조한다\"}]-&gt;(\"제42조제1항\")</td>\n",
              "    </tr>\n",
              "  </tbody>\n",
              "</table>\n",
              "<p>329 rows × 1 columns</p>\n",
              "</div>"
            ],
            "text/plain": [
              "                                                                                                        e\n",
              "0                                (\"해외현지법인\")-[:REFERS_TO@-3648029259485943483{relation: \"대상이다\"}]->(\"신용공여\")\n",
              "1    (\"투자자문업자가 아닌 자\")-[:REFERS_TO@4253434467682292654{relation: \"사용하여서는 아니 된다\"}]->(\"이와 같은 의미를 가지는 외국어문자\")\n",
              "2            (\"투자자문업자가 아닌 자\")-[:REFERS_TO@4253434467682292654{relation: \"사용하여서는 아니 된다\"}]->(\"투자자문 이라는 문자\")\n",
              "3                        (\"집합투자업자\")-[:REFERS_TO@8341684571847756684{relation: \"사용할 수 있다\"}]->(\"신탁 이라는 문자\")\n",
              "4                            (\"제45조제3항\")-[:REFERS_TO@-7330902890750983237{relation: \"참조한다\"}]->(\"제45조제1항\")\n",
              "..                                                                                                    ...\n",
              "324                            (\"자금이체업무\")-[:REFERS_TO@-5524706812882331863{relation: \"수행한다\"}]->(\"투자자예탁금\")\n",
              "325                          (\"제42조제2항\")-[:REFERS_TO@-7330902890750983237{relation: \"참조한다\"}]->(\"제42조제1항\")\n",
              "326                          (\"제45조제4항\")-[:REFERS_TO@-7330902890750983237{relation: \"참조한다\"}]->(\"제45조제1항\")\n",
              "327                          (\"제45조제4항\")-[:REFERS_TO@-7330902890750983237{relation: \"참조한다\"}]->(\"제45조제2항\")\n",
              "328                          (\"제42조제6항\")-[:REFERS_TO@-7330902890750983237{relation: \"참조한다\"}]->(\"제42조제1항\")\n",
              "\n",
              "[329 rows x 1 columns]"
            ]
          },
          "execution_count": 25,
          "metadata": {},
          "output_type": "execute_result"
        }
      ],
      "source": [
        "%ngql MATCH ()-[e]->() RETURN DISTINCT e;"
      ]
    },
    {
      "cell_type": "code",
      "execution_count": 29,
      "metadata": {},
      "outputs": [
        {
          "name": "stdout",
          "output_type": "stream",
          "text": [
            "INFO:nebula3.logger:Get connection to ('192.168.176.1', 9669)\n"
          ]
        },
        {
          "data": {
            "text/html": [
              "<div>\n",
              "<style scoped>\n",
              "    .dataframe tbody tr th:only-of-type {\n",
              "        vertical-align: middle;\n",
              "    }\n",
              "\n",
              "    .dataframe tbody tr th {\n",
              "        vertical-align: top;\n",
              "    }\n",
              "\n",
              "    .dataframe thead th {\n",
              "        text-align: right;\n",
              "    }\n",
              "</style>\n",
              "<table border=\"1\" class=\"dataframe\">\n",
              "  <thead>\n",
              "    <tr style=\"text-align: right;\">\n",
              "      <th></th>\n",
              "      <th>e.relation</th>\n",
              "    </tr>\n",
              "  </thead>\n",
              "  <tbody>\n",
              "    <tr>\n",
              "      <th>0</th>\n",
              "      <td>대상이다</td>\n",
              "    </tr>\n",
              "    <tr>\n",
              "      <th>1</th>\n",
              "      <td>사용하여서는 아니 된다</td>\n",
              "    </tr>\n",
              "    <tr>\n",
              "      <th>2</th>\n",
              "      <td>참조한다</td>\n",
              "    </tr>\n",
              "    <tr>\n",
              "      <th>3</th>\n",
              "      <td>사용할 수 있다</td>\n",
              "    </tr>\n",
              "    <tr>\n",
              "      <th>4</th>\n",
              "      <td>수행한다</td>\n",
              "    </tr>\n",
              "    <tr>\n",
              "      <th>5</th>\n",
              "      <td>정한다</td>\n",
              "    </tr>\n",
              "    <tr>\n",
              "      <th>6</th>\n",
              "      <td>관련된다</td>\n",
              "    </tr>\n",
              "    <tr>\n",
              "      <th>7</th>\n",
              "      <td>따른다</td>\n",
              "    </tr>\n",
              "    <tr>\n",
              "      <th>8</th>\n",
              "      <td>영향을 미친다</td>\n",
              "    </tr>\n",
              "    <tr>\n",
              "      <th>9</th>\n",
              "      <td>제출하여야 한다</td>\n",
              "    </tr>\n",
              "    <tr>\n",
              "      <th>10</th>\n",
              "      <td>제공할 수 있다</td>\n",
              "    </tr>\n",
              "    <tr>\n",
              "      <th>11</th>\n",
              "      <td>허용한다</td>\n",
              "    </tr>\n",
              "    <tr>\n",
              "      <th>12</th>\n",
              "      <td>저해한다</td>\n",
              "    </tr>\n",
              "    <tr>\n",
              "      <th>13</th>\n",
              "      <td>초래한다</td>\n",
              "    </tr>\n",
              "    <tr>\n",
              "      <th>14</th>\n",
              "      <td>준용한다</td>\n",
              "    </tr>\n",
              "    <tr>\n",
              "      <th>15</th>\n",
              "      <td>포함한다</td>\n",
              "    </tr>\n",
              "    <tr>\n",
              "      <th>16</th>\n",
              "      <td>동의를 받은 경우에 한정하여</td>\n",
              "    </tr>\n",
              "    <tr>\n",
              "      <th>17</th>\n",
              "      <td>재위탁할 수 있다</td>\n",
              "    </tr>\n",
              "    <tr>\n",
              "      <th>18</th>\n",
              "      <td>보고 요구 불응</td>\n",
              "    </tr>\n",
              "    <tr>\n",
              "      <th>19</th>\n",
              "      <td>해당한다</td>\n",
              "    </tr>\n",
              "    <tr>\n",
              "      <th>20</th>\n",
              "      <td>검사 거부ㆍ방해 또는 기피</td>\n",
              "    </tr>\n",
              "    <tr>\n",
              "      <th>21</th>\n",
              "      <td>이용한다</td>\n",
              "    </tr>\n",
              "    <tr>\n",
              "      <th>22</th>\n",
              "      <td>발췌한다</td>\n",
              "    </tr>\n",
              "    <tr>\n",
              "      <th>23</th>\n",
              "      <td>기간</td>\n",
              "    </tr>\n",
              "    <tr>\n",
              "      <th>24</th>\n",
              "      <td>기준</td>\n",
              "    </tr>\n",
              "    <tr>\n",
              "      <th>25</th>\n",
              "      <td>추정된다</td>\n",
              "    </tr>\n",
              "    <tr>\n",
              "      <th>26</th>\n",
              "      <td>금지한다</td>\n",
              "    </tr>\n",
              "    <tr>\n",
              "      <th>27</th>\n",
              "      <td>정하는 방법 및 절차에 따라</td>\n",
              "    </tr>\n",
              "    <tr>\n",
              "      <th>28</th>\n",
              "      <td>삭제되었다</td>\n",
              "    </tr>\n",
              "    <tr>\n",
              "      <th>29</th>\n",
              "      <td>정하는</td>\n",
              "    </tr>\n",
              "    <tr>\n",
              "      <th>30</th>\n",
              "      <td>제한하거나 시정할 것을 명할 수 있다</td>\n",
              "    </tr>\n",
              "    <tr>\n",
              "      <th>31</th>\n",
              "      <td>명할 수 있다</td>\n",
              "    </tr>\n",
              "    <tr>\n",
              "      <th>32</th>\n",
              "      <td>평가를 실시하여야 한다</td>\n",
              "    </tr>\n",
              "    <tr>\n",
              "      <th>33</th>\n",
              "      <td>보고받는다</td>\n",
              "    </tr>\n",
              "    <tr>\n",
              "      <th>34</th>\n",
              "      <td>공고하여야 한다</td>\n",
              "    </tr>\n",
              "    <tr>\n",
              "      <th>35</th>\n",
              "      <td>고려한다</td>\n",
              "    </tr>\n",
              "    <tr>\n",
              "      <th>36</th>\n",
              "      <td>정할 수 있다</td>\n",
              "    </tr>\n",
              "    <tr>\n",
              "      <th>37</th>\n",
              "      <td>달리 정할 수 있다</td>\n",
              "    </tr>\n",
              "    <tr>\n",
              "      <th>38</th>\n",
              "      <td>정하여 고시한다</td>\n",
              "    </tr>\n",
              "    <tr>\n",
              "      <th>39</th>\n",
              "      <td>제한명령 또는 시정명령을 한다</td>\n",
              "    </tr>\n",
              "    <tr>\n",
              "      <th>40</th>\n",
              "      <td>평가할 수 있다</td>\n",
              "    </tr>\n",
              "    <tr>\n",
              "      <th>41</th>\n",
              "      <td>기록하고 유지ㆍ관리하여야 한다</td>\n",
              "    </tr>\n",
              "    <tr>\n",
              "      <th>42</th>\n",
              "      <td>통보하여야 한다</td>\n",
              "    </tr>\n",
              "    <tr>\n",
              "      <th>43</th>\n",
              "      <td>제한할 수 있다</td>\n",
              "    </tr>\n",
              "    <tr>\n",
              "      <th>44</th>\n",
              "      <td>의무</td>\n",
              "    </tr>\n",
              "    <tr>\n",
              "      <th>45</th>\n",
              "      <td>다음 달 말일까지</td>\n",
              "    </tr>\n",
              "    <tr>\n",
              "      <th>46</th>\n",
              "      <td>영위하여야 한다</td>\n",
              "    </tr>\n",
              "    <tr>\n",
              "      <th>47</th>\n",
              "      <td>해야 한다</td>\n",
              "    </tr>\n",
              "    <tr>\n",
              "      <th>48</th>\n",
              "      <td>영위할 수 있다</td>\n",
              "    </tr>\n",
              "    <tr>\n",
              "      <th>49</th>\n",
              "      <td>배상할 책임이 있다</td>\n",
              "    </tr>\n",
              "    <tr>\n",
              "      <th>50</th>\n",
              "      <td>위탁하여서는 아니 된다</td>\n",
              "    </tr>\n",
              "    <tr>\n",
              "      <th>51</th>\n",
              "      <td>따를 것</td>\n",
              "    </tr>\n",
              "    <tr>\n",
              "      <th>52</th>\n",
              "      <td>삭제됨</td>\n",
              "    </tr>\n",
              "    <tr>\n",
              "      <th>53</th>\n",
              "      <td>위반한다</td>\n",
              "    </tr>\n",
              "    <tr>\n",
              "      <th>54</th>\n",
              "      <td>비치한다</td>\n",
              "    </tr>\n",
              "    <tr>\n",
              "      <th>55</th>\n",
              "      <td>영위하는 경우</td>\n",
              "    </tr>\n",
              "    <tr>\n",
              "      <th>56</th>\n",
              "      <td>공시하여야 한다</td>\n",
              "    </tr>\n",
              "    <tr>\n",
              "      <th>57</th>\n",
              "      <td>작성한다</td>\n",
              "    </tr>\n",
              "    <tr>\n",
              "      <th>58</th>\n",
              "      <td>회수한다</td>\n",
              "    </tr>\n",
              "    <tr>\n",
              "      <th>59</th>\n",
              "      <td>지급한다</td>\n",
              "    </tr>\n",
              "    <tr>\n",
              "      <th>60</th>\n",
              "      <td>충족하지 못한다</td>\n",
              "    </tr>\n",
              "    <tr>\n",
              "      <th>61</th>\n",
              "      <td>얻어서는 아니 된다</td>\n",
              "    </tr>\n",
              "    <tr>\n",
              "      <th>62</th>\n",
              "      <td>정하는 기간으로 할 것</td>\n",
              "    </tr>\n",
              "    <tr>\n",
              "      <th>63</th>\n",
              "      <td>구축ㆍ시행하여야 한다</td>\n",
              "    </tr>\n",
              "    <tr>\n",
              "      <th>64</th>\n",
              "      <td>해해서는 아니 된다</td>\n",
              "    </tr>\n",
              "    <tr>\n",
              "      <th>65</th>\n",
              "      <td>유지하여야 한다</td>\n",
              "    </tr>\n",
              "    <tr>\n",
              "      <th>66</th>\n",
              "      <td>준수하여야 한다</td>\n",
              "    </tr>\n",
              "    <tr>\n",
              "      <th>67</th>\n",
              "      <td>발생한다</td>\n",
              "    </tr>\n",
              "    <tr>\n",
              "      <th>68</th>\n",
              "      <td>판단한다</td>\n",
              "    </tr>\n",
              "    <tr>\n",
              "      <th>69</th>\n",
              "      <td>필요하다</td>\n",
              "    </tr>\n",
              "    <tr>\n",
              "      <th>70</th>\n",
              "      <td>영위하고자 하는 때</td>\n",
              "    </tr>\n",
              "    <tr>\n",
              "      <th>71</th>\n",
              "      <td>위탁할 수 있다</td>\n",
              "    </tr>\n",
              "    <tr>\n",
              "      <th>72</th>\n",
              "      <td>수행해야 한다</td>\n",
              "    </tr>\n",
              "    <tr>\n",
              "      <th>73</th>\n",
              "      <td>지배한다</td>\n",
              "    </tr>\n",
              "    <tr>\n",
              "      <th>74</th>\n",
              "      <td>영위하고자 하는 경우</td>\n",
              "    </tr>\n",
              "    <tr>\n",
              "      <th>75</th>\n",
              "      <td>관리하여야 한다</td>\n",
              "    </tr>\n",
              "    <tr>\n",
              "      <th>76</th>\n",
              "      <td>구분하여 회계처리할 것</td>\n",
              "    </tr>\n",
              "    <tr>\n",
              "      <th>77</th>\n",
              "      <td>해할 우려가 없다</td>\n",
              "    </tr>\n",
              "    <tr>\n",
              "      <th>78</th>\n",
              "      <td>기재하여야 한다</td>\n",
              "    </tr>\n",
              "    <tr>\n",
              "      <th>79</th>\n",
              "      <td>보고하여야 한다</td>\n",
              "    </tr>\n",
              "    <tr>\n",
              "      <th>80</th>\n",
              "      <td>파악ㆍ평가한다</td>\n",
              "    </tr>\n",
              "    <tr>\n",
              "      <th>81</th>\n",
              "      <td>예외로 한다</td>\n",
              "    </tr>\n",
              "    <tr>\n",
              "      <th>82</th>\n",
              "      <td>알려야 한다</td>\n",
              "    </tr>\n",
              "    <tr>\n",
              "      <th>83</th>\n",
              "      <td>정의된다</td>\n",
              "    </tr>\n",
              "    <tr>\n",
              "      <th>84</th>\n",
              "      <td>차단하여야 한다</td>\n",
              "    </tr>\n",
              "    <tr>\n",
              "      <th>85</th>\n",
              "      <td>소유 또는 출자한다</td>\n",
              "    </tr>\n",
              "    <tr>\n",
              "      <th>86</th>\n",
              "      <td>체결하여야 한다</td>\n",
              "    </tr>\n",
              "    <tr>\n",
              "      <th>87</th>\n",
              "      <td>정하여야 한다</td>\n",
              "    </tr>\n",
              "    <tr>\n",
              "      <th>88</th>\n",
              "      <td>영위한다</td>\n",
              "    </tr>\n",
              "    <tr>\n",
              "      <th>89</th>\n",
              "      <td>조회할 수 있다</td>\n",
              "    </tr>\n",
              "    <tr>\n",
              "      <th>90</th>\n",
              "      <td>끼친다</td>\n",
              "    </tr>\n",
              "    <tr>\n",
              "      <th>91</th>\n",
              "      <td>거부ㆍ방해 또는 기피한 경우</td>\n",
              "    </tr>\n",
              "    <tr>\n",
              "      <th>92</th>\n",
              "      <td>불응한 경우</td>\n",
              "    </tr>\n",
              "    <tr>\n",
              "      <th>93</th>\n",
              "      <td>위반한 경우</td>\n",
              "    </tr>\n",
              "    <tr>\n",
              "      <th>94</th>\n",
              "      <td>공시한다</td>\n",
              "    </tr>\n",
              "    <tr>\n",
              "      <th>95</th>\n",
              "      <td>위탁한다</td>\n",
              "    </tr>\n",
              "    <tr>\n",
              "      <th>96</th>\n",
              "      <td>대리할 수 있다</td>\n",
              "    </tr>\n",
              "    <tr>\n",
              "      <th>97</th>\n",
              "      <td>따라야 한다</td>\n",
              "    </tr>\n",
              "    <tr>\n",
              "      <th>98</th>\n",
              "      <td>제외된다</td>\n",
              "    </tr>\n",
              "    <tr>\n",
              "      <th>99</th>\n",
              "      <td>받아야 한다</td>\n",
              "    </tr>\n",
              "    <tr>\n",
              "      <th>100</th>\n",
              "      <td>낮춘 후 매매</td>\n",
              "    </tr>\n",
              "    <tr>\n",
              "      <th>101</th>\n",
              "      <td>제공한다</td>\n",
              "    </tr>\n",
              "    <tr>\n",
              "      <th>102</th>\n",
              "      <td>낮춘 후 거래</td>\n",
              "    </tr>\n",
              "    <tr>\n",
              "      <th>103</th>\n",
              "      <td>영위하고자 하는 때에는</td>\n",
              "    </tr>\n",
              "    <tr>\n",
              "      <th>104</th>\n",
              "      <td>제출한다</td>\n",
              "    </tr>\n",
              "    <tr>\n",
              "      <th>105</th>\n",
              "      <td>보고한다</td>\n",
              "    </tr>\n",
              "    <tr>\n",
              "      <th>106</th>\n",
              "      <td>제외한다</td>\n",
              "    </tr>\n",
              "    <tr>\n",
              "      <th>107</th>\n",
              "      <td>위반한 혐의가 있다</td>\n",
              "    </tr>\n",
              "    <tr>\n",
              "      <th>108</th>\n",
              "      <td>포함하여야 한다</td>\n",
              "    </tr>\n",
              "    <tr>\n",
              "      <th>109</th>\n",
              "      <td>관계</td>\n",
              "    </tr>\n",
              "    <tr>\n",
              "      <th>110</th>\n",
              "      <td>시점</td>\n",
              "    </tr>\n",
              "    <tr>\n",
              "      <th>111</th>\n",
              "      <td>해당하는 경우</td>\n",
              "    </tr>\n",
              "  </tbody>\n",
              "</table>\n",
              "</div>"
            ],
            "text/plain": [
              "               e.relation\n",
              "0                    대상이다\n",
              "1            사용하여서는 아니 된다\n",
              "2                    참조한다\n",
              "3                사용할 수 있다\n",
              "4                    수행한다\n",
              "5                     정한다\n",
              "6                    관련된다\n",
              "7                     따른다\n",
              "8                 영향을 미친다\n",
              "9                제출하여야 한다\n",
              "10               제공할 수 있다\n",
              "11                   허용한다\n",
              "12                   저해한다\n",
              "13                   초래한다\n",
              "14                   준용한다\n",
              "15                   포함한다\n",
              "16        동의를 받은 경우에 한정하여\n",
              "17              재위탁할 수 있다\n",
              "18               보고 요구 불응\n",
              "19                   해당한다\n",
              "20         검사 거부ㆍ방해 또는 기피\n",
              "21                   이용한다\n",
              "22                   발췌한다\n",
              "23                     기간\n",
              "24                     기준\n",
              "25                   추정된다\n",
              "26                   금지한다\n",
              "27        정하는 방법 및 절차에 따라\n",
              "28                  삭제되었다\n",
              "29                    정하는\n",
              "30   제한하거나 시정할 것을 명할 수 있다\n",
              "31                명할 수 있다\n",
              "32           평가를 실시하여야 한다\n",
              "33                  보고받는다\n",
              "34               공고하여야 한다\n",
              "35                   고려한다\n",
              "36                정할 수 있다\n",
              "37             달리 정할 수 있다\n",
              "38               정하여 고시한다\n",
              "39       제한명령 또는 시정명령을 한다\n",
              "40               평가할 수 있다\n",
              "41       기록하고 유지ㆍ관리하여야 한다\n",
              "42               통보하여야 한다\n",
              "43               제한할 수 있다\n",
              "44                     의무\n",
              "45              다음 달 말일까지\n",
              "46               영위하여야 한다\n",
              "47                  해야 한다\n",
              "48               영위할 수 있다\n",
              "49             배상할 책임이 있다\n",
              "50           위탁하여서는 아니 된다\n",
              "51                   따를 것\n",
              "52                    삭제됨\n",
              "53                   위반한다\n",
              "54                   비치한다\n",
              "55                영위하는 경우\n",
              "56               공시하여야 한다\n",
              "57                   작성한다\n",
              "58                   회수한다\n",
              "59                   지급한다\n",
              "60               충족하지 못한다\n",
              "61             얻어서는 아니 된다\n",
              "62           정하는 기간으로 할 것\n",
              "63            구축ㆍ시행하여야 한다\n",
              "64             해해서는 아니 된다\n",
              "65               유지하여야 한다\n",
              "66               준수하여야 한다\n",
              "67                   발생한다\n",
              "68                   판단한다\n",
              "69                   필요하다\n",
              "70             영위하고자 하는 때\n",
              "71               위탁할 수 있다\n",
              "72                수행해야 한다\n",
              "73                   지배한다\n",
              "74            영위하고자 하는 경우\n",
              "75               관리하여야 한다\n",
              "76           구분하여 회계처리할 것\n",
              "77              해할 우려가 없다\n",
              "78               기재하여야 한다\n",
              "79               보고하여야 한다\n",
              "80                파악ㆍ평가한다\n",
              "81                 예외로 한다\n",
              "82                 알려야 한다\n",
              "83                   정의된다\n",
              "84               차단하여야 한다\n",
              "85             소유 또는 출자한다\n",
              "86               체결하여야 한다\n",
              "87                정하여야 한다\n",
              "88                   영위한다\n",
              "89               조회할 수 있다\n",
              "90                    끼친다\n",
              "91        거부ㆍ방해 또는 기피한 경우\n",
              "92                 불응한 경우\n",
              "93                 위반한 경우\n",
              "94                   공시한다\n",
              "95                   위탁한다\n",
              "96               대리할 수 있다\n",
              "97                 따라야 한다\n",
              "98                   제외된다\n",
              "99                 받아야 한다\n",
              "100               낮춘 후 매매\n",
              "101                  제공한다\n",
              "102               낮춘 후 거래\n",
              "103          영위하고자 하는 때에는\n",
              "104                  제출한다\n",
              "105                  보고한다\n",
              "106                  제외한다\n",
              "107            위반한 혐의가 있다\n",
              "108              포함하여야 한다\n",
              "109                    관계\n",
              "110                    시점\n",
              "111               해당하는 경우"
            ]
          },
          "execution_count": 29,
          "metadata": {},
          "output_type": "execute_result"
        }
      ],
      "source": [
        "%ngql MATCH ()-[e]->() RETURN DISTINCT e.relation;\n"
      ]
    },
    {
      "cell_type": "code",
      "execution_count": 18,
      "metadata": {},
      "outputs": [
        {
          "name": "stdout",
          "output_type": "stream",
          "text": [
            "\u001b[1;3;38;2;0;135;107m\n",
            "\n",
            "        Supported Configurations:\n",
            "        ------------------------\n",
            "        \n",
            "        > How to config ngql_result_style in \"raw\", \"pandas\"\n",
            "        %config IPythonNGQL.ngql_result_style=\"raw\"\n",
            "        %config IPythonNGQL.ngql_result_style=\"pandas\"\n",
            "\n",
            "        > How to config ngql_verbose in True, False\n",
            "        %config IPythonNGQL.ngql_verbose=True\n",
            "\n",
            "        > How to config max_connection_pool_size\n",
            "        %config IPythonNGQL.max_connection_pool_size=10\n",
            "\n",
            "        Quick Start:\n",
            "        -----------\n",
            "\n",
            "        > Connect to Neubla Graph\n",
            "        %ngql --address 127.0.0.1 --port 9669 --user user --password password\n",
            "\n",
            "        > Use Space\n",
            "        %ngql USE basketballplayer\n",
            "\n",
            "        > Query\n",
            "        %ngql SHOW TAGS;\n",
            "\n",
            "        > Multile Queries\n",
            "        %%ngql\n",
            "        SHOW TAGS;\n",
            "        SHOW HOSTS;\n",
            "\n",
            "        Reload ngql Magic\n",
            "        %reload_ext ngql\n",
            "\n",
            "        > Variables in query, we are using Jinja2 here\n",
            "        name = \"nba\"\n",
            "        %ngql USE \"{{ name }}\"\n",
            "\n",
            "        > Query and draw the graph of last executed query.\n",
            "\n",
            "        %ngql GET SUBGRAPH WITH PROP 2 STEPS FROM \"player101\" YIELD VERTICES AS nodes, EDGES AS relationships;\n",
            "\n",
            "        %ng_draw\n",
            "\n",
            "        Or draw a Query\n",
            "\n",
            "        %ng_draw GET SUBGRAPH WITH PROP 2 STEPS FROM \"player101\" YIELD VERTICES AS nodes, EDGES AS relationships;\n",
            "\n",
            "        > Query and draw the graph schema\n",
            "\n",
            "        %ng_draw_schema\n",
            "\n",
            "        > Load data from CSV file into NebulaGraph as vertices or edges\n",
            "        %ng_load --source actor.csv --tag player --vid 0 --props 1:name,2:age --space basketballplayer\n",
            "\n",
            "        #actor.csv\n",
            "        \"player999\",\"Tom Hanks\",30\n",
            "        \"player1000\",\"Tom Cruise\",40\n",
            "\n",
            "        %ng_load --source follow_with_rank.csv --edge follow --src 0 --dst 1 --props 2:degree --rank 3 --space basketballplayer\n",
            "\n",
            "        #follow_with_rank.csv\n",
            "        \"player999\",\"player1000\",50,1\n",
            "\n",
            "        %ng_load --source follow.csv --edge follow --src 0 --dst 1 --props 2:degree --space basketballplayer\n",
            "\n",
            "        #follow.csv\n",
            "        \"player999\",\"player1000\",50\n",
            "\n",
            "        %ng_load --source https://github.com/wey-gu/ipython-ngql/raw/main/examples/actor.csv --tag player --vid 0 --props 1:name,2:age --space demo_basketballplayer\n",
            "\n",
            "\n",
            "        \u001b[0m\n"
          ]
        }
      ],
      "source": [
        "%ngql help"
      ]
    },
    {
      "cell_type": "code",
      "execution_count": 21,
      "metadata": {
        "id": "L3QWqwOlkgUf",
        "outputId": "ab647ef5-cee0-4ea1-8fb9-d86c2650aaae"
      },
      "outputs": [
        {
          "name": "stdout",
          "output_type": "stream",
          "text": [
            "INFO:nebula3.logger:Get connection to ('192.168.176.1', 9669)\n"
          ]
        },
        {
          "data": {
            "text/html": [
              "\n",
              "        <iframe\n",
              "            width=\"100%\"\n",
              "            height=\"500px\"\n",
              "            src=\"nebulagraph_cell_21.html\"\n",
              "            frameborder=\"0\"\n",
              "            allowfullscreen\n",
              "            \n",
              "        ></iframe>\n",
              "        "
            ],
            "text/plain": [
              "<IPython.lib.display.IFrame at 0x7fdd8c92fe90>"
            ]
          },
          "metadata": {},
          "output_type": "display_data"
        },
        {
          "data": {
            "text/plain": [
              "<class 'pyvis.network.Network'> |N|=25 |E|=20"
            ]
          },
          "execution_count": 21,
          "metadata": {},
          "output_type": "execute_result"
        }
      ],
      "source": [
        "%ngql USE llamaindex\n",
        "%ng_draw"
      ]
    },
    {
      "cell_type": "markdown",
      "metadata": {},
      "source": []
    },
    {
      "cell_type": "markdown",
      "metadata": {
        "id": "9OCyB6d0kgUf"
      },
      "source": [
        "## Asking the Knowledge Graph\n",
        "\n",
        "Finally, let's demo how to Query Knowledge Graph with Natural language!\n",
        "\n",
        "Here, we will leverage the `KnowledgeGraphQueryEngine`, with `NebulaGraphStore` as the `storage_context.graph_store`."
      ]
    },
    {
      "cell_type": "code",
      "execution_count": 11,
      "metadata": {},
      "outputs": [],
      "source": [
        "from llama_index.llms.openai import OpenAI\n",
        "llm = OpenAI(temperature=0, model=\"gpt-4o\")"
      ]
    },
    {
      "cell_type": "code",
      "execution_count": null,
      "metadata": {
        "id": "ZhwSN1EJkgUf"
      },
      "outputs": [],
      "source": [
        "from llama_index.core.query_engine import KnowledgeGraphQueryEngine\n",
        "\n",
        "from llama_index.core import StorageContext\n",
        "from llama_index.graph_stores.nebula import NebulaGraphStore\n",
        "\n",
        "query_engine = KnowledgeGraphQueryEngine(\n",
        "    storage_context=storage_context,\n",
        "    llm=llm,\n",
        "    verbose=True,\n",
        ")"
      ]
    },
    {
      "cell_type": "code",
      "execution_count": null,
      "metadata": {
        "id": "VKLiGbo6kgUf",
        "outputId": "4f9d2a03-1233-4c80-d189-f3ee448b8dbd"
      },
      "outputs": [],
      "source": [
        "response = query_engine.generate_query(\n",
        "    \"증권신고서와 투자설명서의 부실기재에 대한 과징금이 부과되는 경우 부과대상과 부과금액은?\",\n",
        ")\n",
        "display(Markdown(f\"<b>{response}</b>\"))"
      ]
    },
    {
      "cell_type": "code",
      "execution_count": null,
      "metadata": {
        "id": "f1_5zbJ4kgUf",
        "outputId": "8a58990f-d9cf-428e-9697-4093d6369409"
      },
      "outputs": [],
      "source": [
        "graph_query = query_engine.generate_query(\n",
        "    \"Tell me about Peter Quill?\",\n",
        ")\n",
        "\n",
        "graph_query = graph_query.replace(\"WHERE\", \"\\n  WHERE\").replace(\n",
        "    \"RETURN\", \"\\nRETURN\"\n",
        ")\n",
        "\n",
        "display(\n",
        "    Markdown(\n",
        "        f\"\"\"\n",
        "```cypher\n",
        "{graph_query}\n",
        "```\n",
        "\"\"\"\n",
        "    )\n",
        ")"
      ]
    },
    {
      "cell_type": "markdown",
      "metadata": {
        "id": "TDJGSIybkgUf"
      },
      "source": [
        "We could see it helps generate the Graph query:\n",
        "\n",
        "```cypher\n",
        "MATCH (p:`entity`)-[:relationship]->(e:`entity`)\n",
        "  WHERE p.`entity`.`name` == 'Peter Quill'\n",
        "RETURN e.`entity`.`name`;\n",
        "```\n",
        "And synthese the question based on its result:\n",
        "\n",
        "```json\n",
        "{'e2.entity.name': ['grandfather', 'alternate version of Gamora', 'Guardians of the Galaxy']}\n",
        "```"
      ]
    },
    {
      "cell_type": "markdown",
      "metadata": {
        "id": "5qqwWgvokgUf"
      },
      "source": [
        "Of course we still could query it, too! And this query engine could be our best Graph Query Language learning bot, then :)."
      ]
    },
    {
      "cell_type": "code",
      "execution_count": null,
      "metadata": {
        "id": "vp1ZCdMDkgUg",
        "outputId": "1b5c17fd-2ca9-4e2e-bdc2-1863a5b2f3a0"
      },
      "outputs": [],
      "source": [
        "%%ngql\n",
        "MATCH (p:`entity`)-[e:relationship]->(m:`entity`)\n",
        "  WHERE p.`entity`.`name` == 'Peter Quill'\n",
        "RETURN p.`entity`.`name`, e.relationship, m.`entity`.`name`;"
      ]
    },
    {
      "cell_type": "markdown",
      "metadata": {
        "id": "_jZ1j2dXkgUg"
      },
      "source": [
        "And change the query to be rendered"
      ]
    },
    {
      "cell_type": "code",
      "execution_count": null,
      "metadata": {
        "id": "PyjTTp2KkgUg",
        "outputId": "9cfb98ef-14da-4e24-d5fc-398899b6d496"
      },
      "outputs": [],
      "source": [
        "%%ngql\n",
        "MATCH (p:`entity`)-[e:relationship]->(m:`entity`)\n",
        "  WHERE p.`entity`.`name` == 'Peter Quill'\n",
        "RETURN p, e, m;"
      ]
    },
    {
      "cell_type": "code",
      "execution_count": null,
      "metadata": {
        "id": "qv154LRXkgUg",
        "outputId": "2f8c60ed-1f4b-4971-fa37-df908c6e9db9"
      },
      "outputs": [],
      "source": [
        "%ng_draw"
      ]
    },
    {
      "cell_type": "markdown",
      "metadata": {
        "id": "6_OzotCBkgUg"
      },
      "source": [
        "The results of this knowledge-fetching query could not be more clear from the renderred graph then."
      ]
    }
  ],
  "metadata": {
    "colab": {
      "provenance": []
    },
    "kernelspec": {
      "display_name": "Python 3 (ipykernel)",
      "language": "python",
      "name": "python3"
    },
    "language_info": {
      "codemirror_mode": {
        "name": "ipython",
        "version": 3
      },
      "file_extension": ".py",
      "mimetype": "text/x-python",
      "name": "python",
      "nbconvert_exporter": "python",
      "pygments_lexer": "ipython3",
      "version": "3.11.9"
    }
  },
  "nbformat": 4,
  "nbformat_minor": 0
}
