{
  "cells": [
    {
      "cell_type": "markdown",
      "metadata": {
        "id": "BTg-kwd4kgUU"
      },
      "source": [
        "<a href=\"https://colab.research.google.com/github/run-llama/llama_index/blob/main/docs/docs/examples/query_engine/knowledge_graph_query_engine.ipynb\" target=\"_parent\"><img src=\"https://colab.research.google.com/assets/colab-badge.svg\" alt=\"Open In Colab\"/></a>"
      ]
    },
    {
      "cell_type": "markdown",
      "metadata": {},
      "source": [
        "### 패키지 설치"
      ]
    },
    {
      "cell_type": "code",
      "execution_count": null,
      "metadata": {
        "id": "K2c51-KmkgUZ"
      },
      "outputs": [],
      "source": [
        "%pip install -q llama-index-graph-stores-neo4j\n",
        "%pip install -q llama-index-llms-openai llama-index\n",
        "%pip install -q ipython-ngql nebula3-python python-dotenv"
      ]
    },
    {
      "cell_type": "markdown",
      "metadata": {},
      "source": [
        "### NebulaGraph console\n",
        "\n",
        "- llamaindex space 만들기"
      ]
    },
    {
      "cell_type": "markdown",
      "metadata": {},
      "source": [
        "- TextNode 구조\n",
        "\n",
        "\n",
        "    text=entry[\"content\"],\n",
        "\n",
        "    metadata={\n",
        "                    \"law_index\": entry[\"index\"],\n",
        "                    \"subtitle\": entry[\"subtitle\"],\n",
        "                    \"document_title\": entry[\"metadata\"][\"document_title\"],\n",
        "                    \"created_date\": entry[\"metadata\"][\"date\"],\n",
        "                    \"revise_info\": entry[\"metadata\"][\"revise_info\"],\n",
        "                    \"source\": entry[\"metadata\"][\"source\"],\n",
        "                    \"title_doc\": entry[\"metadata\"][\"title\"][\"doc\"],\n",
        "                    \"title_chapter\": entry[\"metadata\"][\"title\"][\"chapter\"],\n",
        "                    \"title_section\": entry[\"metadata\"][\"title\"][\"section\"],\n",
        "                    \"title_subsection\": entry[\"metadata\"][\"title\"][\"subsection\"],\n",
        "                }"
      ]
    },
    {
      "cell_type": "code",
      "execution_count": 2,
      "metadata": {},
      "outputs": [],
      "source": [
        "# 터미널에서 실행\n",
        "# cd /mnt/c/Users/Shic/legal_graph/nebula-console\n",
        "# ./nebula-console -addr=192.168.176.1 -port 9669 -u root -p 001101\n",
        "\n",
        "# If not, create it with the following commands from NebulaGraph's console:\n",
        "# CREATE SPACE llamaindex(vid_type=FIXED_STRING(2048), partition_num=1, replica_factor=1);\n",
        "# USE llamaindex;\n",
        "# CREATE TAG law(law_index string, name string, document_title string, created_date string, revise_info string, source string, title_doc string, title_chapter string, title_section string, title_subsection string);\n",
        "# CREATE EDGE REFERS_TO(relation string);\n",
        "# CREATE TAG INDEX law_index ON law(law_index(256));"
      ]
    },
    {
      "cell_type": "markdown",
      "metadata": {},
      "source": [
        "> https://docs.nebula-graph.io/3.0.0/3.ngql-guide/9.space-statements/1.create-space/\n",
        "\n",
        "> https://docs.nebula-graph.io/3.0.0/3.ngql-guide/10.tag-statements/1.create-tag/"
      ]
    },
    {
      "cell_type": "markdown",
      "metadata": {
        "id": "VUQy8PHqkgUb"
      },
      "source": [
        "### OpenAI"
      ]
    },
    {
      "cell_type": "code",
      "execution_count": 1,
      "metadata": {
        "id": "GOaMNOgDkgUb"
      },
      "outputs": [],
      "source": [
        "# For OpenAI\n",
        "\n",
        "import os\n",
        "from dotenv import load_dotenv\n",
        "load_dotenv(verbose=True)\n",
        "\n",
        "os.environ[\"OPENAI_API_KEY\"] = os.getenv(\"OPENAI_API_KEY\")\n",
        "\n",
        "import logging\n",
        "import sys\n",
        "\n",
        "logging.basicConfig(\n",
        "    stream=sys.stdout, level=logging.INFO\n",
        ")  # logging.DEBUG for more verbose output\n"
      ]
    },
    {
      "cell_type": "code",
      "execution_count": 4,
      "metadata": {},
      "outputs": [],
      "source": [
        "CHUNK_SIZE = 1024\n",
        "CHUNK_OVERLAP = 50"
      ]
    },
    {
      "cell_type": "code",
      "execution_count": 5,
      "metadata": {},
      "outputs": [],
      "source": [
        "# define LLM\n",
        "from llama_index.llms.openai import OpenAI\n",
        "from llama_index.core import Settings\n",
        "\n",
        "Settings.llm = OpenAI(temperature=0, model=\"gpt-4o\")\n",
        "Settings.chunk_size = CHUNK_SIZE\n",
        "Settings.chunk_overlap = CHUNK_OVERLAP"
      ]
    },
    {
      "cell_type": "markdown",
      "metadata": {
        "id": "ulP8-KX-kgUc"
      },
      "source": [
        "## Prepare for Neo4j graph\n",
        "\n",
        "Before next step to creating the Knowledge Graph, let's ensure we have a running NebulaGraph with defined data schema."
      ]
    },
    {
      "cell_type": "code",
      "execution_count": 2,
      "metadata": {},
      "outputs": [],
      "source": [
        "from llama_index.core import KnowledgeGraphIndex\n",
        "from llama_index.core import StorageContext\n",
        "from llama_index.graph_stores.neo4j import Neo4jPropertyGraphStore\n",
        "from IPython.display import Markdown, display\n",
        "from llama_index.core import PropertyGraphIndex"
      ]
    },
    {
      "cell_type": "code",
      "execution_count": 6,
      "metadata": {},
      "outputs": [],
      "source": [
        "import os\n",
        "\n",
        "import json\n",
        "from llama_index.core import Document\n",
        "from langchain_text_splitters import RecursiveCharacterTextSplitter\n",
        "\n",
        "# JSON 파일을 로드하는 함수\n",
        "def load_json_as_documents(input_file):\n",
        "    # 파일을 열고 JSON 데이터를 파싱\n",
        "    with open(input_file, 'r', encoding='utf-8') as f:\n",
        "        json_data = json.load(f)\n",
        "\n",
        "    # # schema에 맞추어 json flatten\n",
        "    # flattened_json = [flatten_json(item) for item in json_data]\n",
        "\n",
        "    documents = []; doc_length = []\n",
        "    \n",
        "    # JSON 리스트의 각 요소를 Document로 변환하여 리스트에 추가\n",
        "    for entry in json_data:\n",
        "        # 각 요소를 Document 객체로 변환\n",
        "        doc = Document(\n",
        "            text=entry[\"content\"],\n",
        "            metadata={\n",
        "                \"law_index\": entry[\"index\"],\n",
        "                \"name\": entry[\"subtitle\"],\n",
        "                \"document_title\": entry[\"metadata\"][\"document_title\"],\n",
        "                \"created_date\": entry[\"metadata\"][\"date\"],\n",
        "                \"revise_info\": entry[\"metadata\"][\"revise_info\"],\n",
        "                \"source\": entry[\"metadata\"][\"source\"],\n",
        "                \"title_doc\": entry[\"metadata\"][\"title\"][\"doc\"],\n",
        "                \"title_chapter\": entry[\"metadata\"][\"title\"][\"chapter\"],\n",
        "                \"title_section\": entry[\"metadata\"][\"title\"][\"section\"],\n",
        "                \"title_subsection\": entry[\"metadata\"][\"title\"][\"subsection\"],\n",
        "            },\n",
        "            metadata_seperator=\"::\",\n",
        "            metadata_template=\"{key}=>{value}\",\n",
        "            text_template=\"Metadata: {metadata_str}\\n\\nText: {content}\",\n",
        "        )\n",
        "        documents.append(doc)\n",
        "        doc_length.append(len(doc.text))\n",
        "    \n",
        "    return documents, doc_length\n",
        "\n",
        "# 텍스트를 분할하는 함수\n",
        "def split_documents(documents, chunk_size, chunk_overlap):\n",
        "    text_splitter = RecursiveCharacterTextSplitter(\n",
        "        chunk_size=chunk_size,\n",
        "        chunk_overlap=chunk_overlap,\n",
        "        length_function=len\n",
        "    )\n",
        "    \n",
        "    split_docs = []\n",
        "    \n",
        "    for doc in documents:\n",
        "        # 텍스트를 분할하고 각 조각을 Document로 다시 생성\n",
        "        chunks = text_splitter.split_text(doc.text)\n",
        "        for chunk in chunks:\n",
        "            split_doc = Document(\n",
        "                text=chunk,\n",
        "                metadata=doc.metadata,\n",
        "                metadata_seperator=doc.metadata_seperator,\n",
        "                metadata_template=doc.metadata_template,\n",
        "                text_template=doc.text_template\n",
        "            )\n",
        "            split_docs.append(split_doc)\n",
        "    \n",
        "    return split_docs\n",
        "\n",
        "# JSON 파일 경로\n",
        "input_file = \"/mnt/c/Users/Shic/legal_graph/results/1-2/DCM_1-2_law_main_clause.json\"\n",
        "\n",
        "# 로더 사용하여 데이터 불러오기\n",
        "documents, doc_length = load_json_as_documents(input_file)"
      ]
    },
    {
      "cell_type": "code",
      "execution_count": 7,
      "metadata": {},
      "outputs": [
        {
          "data": {
            "text/plain": [
              "179.5015243902439"
            ]
          },
          "execution_count": 7,
          "metadata": {},
          "output_type": "execute_result"
        }
      ],
      "source": [
        "import numpy as np\n",
        "\n",
        "np.mean(doc_length)"
      ]
    },
    {
      "cell_type": "code",
      "execution_count": 16,
      "metadata": {},
      "outputs": [
        {
          "data": {
            "text/plain": [
              "array([  15.  ,   77.  ,  121.  ,  204.25, 4800.  ])"
            ]
          },
          "execution_count": 16,
          "metadata": {},
          "output_type": "execute_result"
        }
      ],
      "source": [
        "np.percentile(doc_length, [0, 25, 50, 75, 100])"
      ]
    },
    {
      "cell_type": "code",
      "execution_count": 9,
      "metadata": {},
      "outputs": [
        {
          "data": {
            "text/plain": [
              "4800"
            ]
          },
          "execution_count": 9,
          "metadata": {},
          "output_type": "execute_result"
        }
      ],
      "source": [
        "max(doc_length)"
      ]
    },
    {
      "cell_type": "code",
      "execution_count": 13,
      "metadata": {},
      "outputs": [
        {
          "data": {
            "text/plain": [
              "15"
            ]
          },
          "execution_count": 13,
          "metadata": {},
          "output_type": "execute_result"
        }
      ],
      "source": [
        "min(doc_length)"
      ]
    },
    {
      "cell_type": "code",
      "execution_count": null,
      "metadata": {},
      "outputs": [],
      "source": [
        "# 문서를 512 토큰 크기로 분할\n",
        "documents = split_documents(documents)\n"
      ]
    },
    {
      "cell_type": "code",
      "execution_count": null,
      "metadata": {},
      "outputs": [],
      "source": [
        "from neo4j import GraphDatabase\n",
        "\n",
        "graph_store = Neo4jPropertyGraphStore(\n",
        "    username=os.getenv(\"NEO4J_USERNAME\"),\n",
        "    password=os.getenv(\"NEO4J_PASSWORD\"),\n",
        "    url=os.getenv(\"NEO4J_URI\"),\n",
        "    database=os.getenv(\"NEO4J_DATABASE\"),\n",
        ")\n",
        "\n",
        "\n",
        "load_dotenv(verbose=True)\n",
        "\n",
        "# Neo4j 서버에 연결\n",
        "uri = os.getenv(\"NEO4J_URI\")\n",
        "user = os.getenv(\"NEO4J_USERNAME\")\n",
        "password = os.getenv(\"NEO4J_PASSWORD\")\n",
        "\n",
        "\n",
        "# URI와 사용자 정보 설정\n",
        "AUTH = (user, password)\n",
        "\n",
        "# GraphDatabase에 드라이버 생성 및 연결 확인\n",
        "with GraphDatabase.driver(uri, auth=(user, password)) as driver:\n",
        "    driver.verify_connectivity()\n",
        "    print(\"Neo4j 서버와의 연결이 성공적으로 확인되었습니다.\")\n"
      ]
    },
    {
      "cell_type": "code",
      "execution_count": null,
      "metadata": {},
      "outputs": [],
      "source": [
        "len(documents)"
      ]
    },
    {
      "cell_type": "code",
      "execution_count": null,
      "metadata": {},
      "outputs": [],
      "source": [
        "documents[58]"
      ]
    },
    {
      "cell_type": "code",
      "execution_count": null,
      "metadata": {},
      "outputs": [],
      "source": [
        "from llama_index.core.schema import MetadataMode\n",
        "print(\n",
        "    \"The LLM sees this: \\n\",\n",
        "    documents[58].get_content(metadata_mode=MetadataMode.LLM),\n",
        ")"
      ]
    },
    {
      "cell_type": "code",
      "execution_count": null,
      "metadata": {},
      "outputs": [],
      "source": [
        "list(documents[0].metadata.keys())"
      ]
    },
    {
      "cell_type": "code",
      "execution_count": 10,
      "metadata": {},
      "outputs": [],
      "source": [
        "# # 예시 템플릿\n",
        "# CUSTOM_KG_TRIPLET_EXTRACT_TMPL = (\n",
        "#     \"Extract up to {max_knowledge_triplets} knowledge triplets from the given text. \"\n",
        "#     \"Each triplet should be in the form of (head, relation, tail) with their respective types.\\n\"\n",
        "#     \"---------------------\\n\"\n",
        "#     \"INITIAL ONTOLOGY:\\n\"\n",
        "#     \"Entity Types: {allowed_entity_types}\\n\"\n",
        "#     \"Relation Types: {allowed_relation_types}\\n\"\n",
        "#     \"\\n\"\n",
        "#     \"Use these types as a starting point, but introduce new types if necessary based on the context.\\n\"\n",
        "#     \"\\n\"\n",
        "#     \"GUIDELINES:\\n\"\n",
        "#     \"- Output in JSON format: [{{'head': '', 'head_type': '', 'relation': '', 'tail': '', 'tail_type': ''}}]\\n\"\n",
        "#     \"- Use the most complete form for entities (e.g., 'United States of America' instead of 'USA')\\n\"\n",
        "#     \"- Keep entities concise (3-5 words max)\\n\"\n",
        "#     \"- Break down complex phrases into multiple triplets\\n\"\n",
        "#     \"- Ensure the knowledge graph is coherent and easily understandable\\n\"\n",
        "#     \"---------------------\\n\"\n",
        "#     \"EXAMPLE:\\n\"\n",
        "#     \"Text: Tim Cook, CEO of Apple Inc., announced the new Apple Watch that monitors heart health. \"\n",
        "#     \"UC Berkeley researchers studied the benefits of apples.\\n\"\n",
        "#     \"Output:\\n\"\n",
        "#     \"[{{'head': 'Tim Cook', 'head_type': 'PERSON', 'relation': 'CEO_OF', 'tail': 'Apple Inc.', 'tail_type': 'COMPANY'}},\\n\"\n",
        "#     \" {{'head': 'Apple Inc.', 'head_type': 'COMPANY', 'relation': 'PRODUCES', 'tail': 'Apple Watch', 'tail_type': 'PRODUCT'}},\\n\"\n",
        "#     \" {{'head': 'Apple Watch', 'head_type': 'PRODUCT', 'relation': 'MONITORS', 'tail': 'heart health', 'tail_type': 'HEALTH_METRIC'}},\\n\"\n",
        "#     \" {{'head': 'UC Berkeley', 'head_type': 'UNIVERSITY', 'relation': 'STUDIES', 'tail': 'benefits of apples', 'tail_type': 'RESEARCH_TOPIC'}}]\\n\"\n",
        "#     \"---------------------\\n\"\n",
        "#     \"Text: {text}\\n\"\n",
        "#     \"Output:\\n\"\n",
        "# )"
      ]
    },
    {
      "cell_type": "code",
      "execution_count": 10,
      "metadata": {},
      "outputs": [],
      "source": [
        "# from llama_index.core import Prompt\n",
        "\n",
        "triplet_prompt = \"\"\"\n",
        "당신은 법률 지식을 가지고 있는 그래프 데이터베이스 구축 전문가입니다.\n",
        "법률 그래프 데이터베이스에 노드와 엣지를 삽입하기 위해서, 아래 [지시사항]을 따라 text에서 ({{Subject entity}}, {{Relationship}}, {{Object Entity}}) 형태의 triplet을 추출해주세요.\n",
        "\n",
        "[지시사항]\n",
        "- 주어진 텍스트에서 가능한 모든 사실과 법 조항 간의 관계를 추출하세요.\n",
        "- 특히, 법 조항 간의 참조, 의무, 금지 등의 관계를 중점적으로 추출하세요.\n",
        "- 또한 문장에서 언급되는 특정 개체가 행하거나, 영향을 미치는 관계도 추출해주세요.\n",
        "\n",
        "- 출력은 다음과 같은 형식: [({{'entity_type' : '', 'law_index': '', 'name': '', 'document_title': '', 'created_date': '', 'revise_info': '', 'source' : '', 'title_doc': '', 'title_chapter' : '', 'title_section' : '', 'title_subsection' : ''}}, \n",
        "                                {{'relation_type' : '', 'description' : ''}},\n",
        "                                {{'entity_type' : '', 'law_index': '', 'name': '', 'document_title': '', 'created_date': '', 'revise_info': '', 'source' : '', 'title_doc': '', 'title_chapter' : '', 'title_section' : '', 'title_subsection' : ''}})]\n",
        "- relation에 있는 description에는 **왜 해당 relation_type으로 지정되었는지\"에 대한 근거를 작성해주세요.\n",
        "- 복잡한 구문은 여러 개의 삼중항(triplet)으로 분리합니다.\n",
        "\n",
        "각 entity_type이 의미하는 바는 다음과 같습니다.\n",
        "- LAW : 법률\n",
        "- HUMAN : 사람\n",
        "- ACTION : 행동\n",
        "- PENALTY : 벌칙, 벌금\n",
        "- OBJECT : 그 외 개체\n",
        "\n",
        "각 relation_type이 의미하는 바는 다음과 같습니다.\n",
        "- CONNECT : S는 O와 연결관계가 있다\n",
        "- DECIDE_OF : S는 O를 결정한다\n",
        "- ACT : S가 O를 행하다\n",
        "- REFERS_TO : S가 O를 참조하다\n",
        "- CAUSE : S가 O를 야기하다\n",
        "- EQUALS_TO : S는 O와 동일하다\n",
        "- INCLUDES : S는 O를 포함한다\n",
        "- EFFECT : S는 O에 영향을 미친다\n",
        "\n",
        "\n",
        "[예시]\n",
        "<input>\n",
        " Metadata: law_index=>제125조제1항::name=>거짓의 기재 등으로 인한 배상책임::document_title=>자본시장과 금융투자업에 관한 법률 ( 약칭: 자본시장법 )\n",
        "::created_date=>시행 2024. 8. 14.::revise_info=>법률 제20305호, 2024. 2. 13., 일부개정\n",
        "::source=>국가법령정보센터::title_doc=>제3편 증권의 발행 및 유통::title_chapter=>제1장 증권신고서::title_section=>제2절 금융투자업자별 영업행위 규칙::title_subsection=>제4관 신탁업자의 영업행위 규칙\n",
        "\n",
        "Text: 증권신고서(정정신고서 및 첨부서류를 포함한다. 이하 이 조에서 같다)와 투자설명서(예비투자설명서 및 간이투자설명서를 포함한다. 이하 이 조에서 같다) 중 중요사항에 관하여 거짓의 기재 또는 표시가 있거나 중요사항이 기재 또는 표시되지 아니함으로써 증권의 취득자가 손해를 입은 경우에는 다음 각 호의 자는 그 손해에 관하여 배상의 책임을 진다. 다만, 배상의 책임을 질 자가 상당한 주의를 하였음에도 불구하고 이를 알 수 없었음을 증명하거나 그 증권의 취득자가 취득의 청약을 할 때에 그 사실을 안 경우에는 배상의 책임을 지지 아니한다. <개정 2009. 2. 3., 2013. 5. 28.>\\n1. 그 증권신고서의 신고인과 신고 당시의 발행인의 이사(이사가 없는 경우 이에 준하는 자를 말하며, 법인의 설립 전에 신고된 경우에는 그 발기인을 말한다)\\n2. 「상법」 제401조의2제1항 각 호의 어느 하나에 해당하는 자로서 그 증권신고서의 작성을 지시하거나 집행한 자\\n3. 그 증권신고서의 기재사항 또는 그 첨부서류가 진실 또는 정확하다고 증명하여 서명한 공인회계사ㆍ감정인 또는 신용평가를 전문으로 하는 자 등(그 소속단체를 포함한다) 대통령령으로 정하는 자\\n4. 그 증권신고서의 기재사항 또는 그 첨부서류에 자기의 평가ㆍ분석ㆍ확인 의견이 기재되는 것에 대하여 동의하고 그 기재내용을 확인한 자\\n5. 그 증권의 인수인 또는 주선인(인수인 또는 주선인이 2인 이상인 경우에는 대통령령으로 정하는 자를 말한다)\\n6. 그 투자설명서를 작성하거나 교부한 자\\n7. 매출의 방법에 의한 경우 매출신고 당시의 매출인\n",
        "\n",
        "<output>\n",
        "[\n",
        "({{'entity_type' : 'HUMAN', 'law_index': '제125조제1항', 'name': '증권신고서의 신고인과 신고 당시의 발행인의 이사', 'document_title': '자본시장과 금융투자업에 관한 법률 ( 약칭: 자본시장법 )', 'created_date': '시행 2024. 8. 14.', 'revise_info': '법률 제20305호, 2024. 2. 13., 일부개정', 'source' : '국가법령정보센터', 'title_doc': '제3편 증권의 발행 및 유통', 'title_chapter' : '제1장 증권신고서', 'title_section' : '제2절 금융투자업자별 영업행위 규칙', 'title_subsection' : '제4관 신탁업자의 영업행위 규칙'}}, \n",
        "{{'relation_type' : 'ACT', 'description' : '증권신고서의 신고인과 신고 당시의 발행인의 이사가 배상책임을 행함'}},\n",
        "{{'entity_type' : 'PENALTY', 'law_index': '제125조제1항', 'name': '배상책임', 'document_title': '자본시장과 금융투자업에 관한 법률 ( 약칭: 자본시장법 )', 'created_date': '시행 2024. 8. 14.', 'revise_info': '법률 제20305호, 2024. 2. 13., 일부개정', 'source' : '국가법령정보센터', 'title_doc': '제3편 증권의 발행 및 유통', 'title_chapter' : '제1장 증권신고서', 'title_section' : '제2절 금융투자업자별 영업행위 규칙', 'title_subsection' : '제4관 신탁업자의 영업행위 규칙'}}),\n",
        "\n",
        "({{'entity_type' : 'OBJECT', 'law_index': '제125조제1항', 'name': '증권신고서', 'document_title': '자본시장과 금융투자업에 관한 법률 ( 약칭: 자본시장법 )', 'created_date': '시행 2024. 8. 14.', 'revise_info': '법률 제20305호, 2024. 2. 13., 일부개정', 'source' : '국가법령정보센터', 'title_doc': '제3편 증권의 발행 및 유통', 'title_chapter' : '제1장 증권신고서', 'title_section' : '제2절 금융투자업자별 영업행위 규칙', 'title_subsection' : '제4관 신탁업자의 영업행위 규칙'}}, \n",
        "{{'relation_type' : 'INCLUDE', 'description' : '증권신고서는 정정신고서를 포함함'}},\n",
        "{{'entity_type' : 'OBJECT', 'law_index': '제125조제1항', 'name': '정정신고서', 'document_title': '자본시장과 금융투자업에 관한 법률 ( 약칭: 자본시장법 )', 'created_date': '시행 2024. 8. 14.', 'revise_info': '법률 제20305호, 2024. 2. 13., 일부개정', 'source' : '국가법령정보센터', 'title_doc': '제3편 증권의 발행 및 유통', 'title_chapter' : '제1장 증권신고서', 'title_section' : '제2절 금융투자업자별 영업행위 규칙', 'title_subsection' : '제4관 신탁업자의 영업행위 규칙'}}),\n",
        "\n",
        "({{'entity_type' : 'OBJECT', 'law_index': '제125조제1항', 'name': '거짓의 기재 또는 표시', 'document_title': '자본시장과 금융투자업에 관한 법률 ( 약칭: 자본시장법 )', 'created_date': '시행 2024. 8. 14.', 'revise_info': '법률 제20305호, 2024. 2. 13., 일부개정', 'source' : '국가법령정보센터', 'title_doc': '제3편 증권의 발행 및 유통', 'title_chapter' : '제1장 증권신고서', 'title_section' : '제2절 금융투자업자별 영업행위 규칙', 'title_subsection' : '제4관 신탁업자의 영업행위 규칙'}}, \n",
        "{{'relation_type' : 'CAUSE', 'description' : '거짓의 기재 또는 표시는 배상책임을 야기한다'}},\n",
        "{{'entity_type' : 'PENALTY', 'law_index': '제125조제1항', 'name': '배상책임', 'document_title': '자본시장과 금융투자업에 관한 법률 ( 약칭: 자본시장법 )', 'created_date': '시행 2024. 8. 14.', 'revise_info': '법률 제20305호, 2024. 2. 13., 일부개정', 'source' : '국가법령정보센터', 'title_doc': '제3편 증권의 발행 및 유통', 'title_chapter' : '제1장 증권신고서', 'title_section' : '제2절 금융투자업자별 영업행위 규칙', 'title_subsection' : '제4관 신탁업자의 영업행위 규칙'}})\n",
        "]\n",
        "\n",
        "<input>\\n\n",
        "{text}\n",
        "\n",
        "<output>\\n\n",
        "\"\"\""
      ]
    },
    {
      "cell_type": "code",
      "execution_count": 11,
      "metadata": {},
      "outputs": [],
      "source": [
        "#  Metadata: law_index=>제44조제2항::name=>이해상충의 관리::document_title=>자본시장과 금융투자업에 관한 법률 ( 약칭: 자본시장법 )\n",
        "# ::created_date=>시행 2024. 8. 14.::revise_info=>법률 제20305호, 2024. 2. 13., 일부개정\n",
        "# ::source=>국가법령정보센터::title_doc=>제2편 금융투자업::title_chapter=>제4장 영업행위 규칙::title_section=>제1절 공통 영업행위 규칙::title_subsection=>제1관 신의성실의무 등\n",
        "# -----\n",
        "# Text:\n",
        "# 금융투자업자는 제1항에 따라 이해상충이 발생할 가능성을 파악ㆍ평가한 결과 이해상충이 발생할 가능성이 있다고 인정되는 경우에는 그 사실을 미리 해당 투자자에게 알려야 하며, 그 이해상충이 발생할 가능성을 내부통제기준이 정하는 방법 및 절차에 따라 투자자 보호에 문제가 없는 수준으로 낮춘 후 매매, 그 밖의 거래를 하여야 한다.\\n\n",
        "# Triplet:\n",
        "# [\n",
        "# ({{'entity_type' : 'LAW', 'law_index': '제44조제2항', 'name': '이해상충의 관리', 'document_title': '자본시장과 금융투자업에 관한 법률 ( 약칭: 자본시장법 )', 'created_date': '시행 2024. 8. 14.', 'revise_info': '법률 제20305호, 2024. 2. 13., 일부개정', 'source' : '국가법령정보센터', 'title_doc': '제2편 금융투자업', 'title_chapter' : '제4장 영업행위 규칙', 'title_section' : '제1절 공통 영업행위 규칙', 'title_subsection' : '제1관 신의성실의무 등'}}, \n",
        "# {{'relation_type' : 'REFERS_TO', 'description' : '동일한 조 제1항을 참조함'}},\n",
        "# {{'entity_type' : 'LAW', 'law_index': '제44조제1항', 'name': '이해상충의 관리', 'document_title': '자본시장과 금융투자업에 관한 법률 ( 약칭: 자본시장법 )', 'created_date': '시행 2024. 8. 14.', 'revise_info': '법률 제20305호, 2024. 2. 13., 일부개정', 'source' : '국가법령정보센터', 'title_doc': '제2편 금융투자업', 'title_chapter' : '제4장 영업행위 규칙', 'title_section' : '제1절 공통 영업행위 규칙', 'title_subsection' : '제1관 신의성실의무 등'}}),\n",
        "\n",
        "# ({{'entity_type' : 'HUMAN', 'law_index': '제44조제2항', 'name': '금융투자업자', 'document_title': '자본시장과 금융투자업에 관한 법률 ( 약칭: 자본시장법 )', 'created_date': '시행 2024. 8. 14.', 'revise_info': '법률 제20305호, 2024. 2. 13., 일부개정', 'source' : '국가법령정보센터', 'title_doc': '제2편 금융투자업', 'title_chapter' : '제4장 영업행위 규칙', 'title_section' : '제1절 공통 영업행위 규칙', 'title_subsection' : '제1관 신의성실의무 등'}}, \n",
        "# {{'relation_type' : 'DECIDE_OF', 'description' : '금융투자업자가 이해상충이 발생할 가능성을 파악'}},\n",
        "# {{'entity_type' : 'OBJECT', 'law_index': '제44조제2항', 'name': '이해상충 발생 가능성', 'document_title': '자본시장과 금융투자업에 관한 법률 ( 약칭: 자본시장법 )', 'created_date': '시행 2024. 8. 14.', 'revise_info': '법률 제20305호, 2024. 2. 13., 일부개정', 'source' : '국가법령정보센터', 'title_doc': '제2편 금융투자업', 'title_chapter' : '제4장 영업행위 규칙', 'title_section' : '제1절 공통 영업행위 규칙', 'title_subsection' : '제1관 신의성실의무 등'}}),\n",
        "\n",
        "# ({{'entity_type' : 'OBJECT', 'law_index': '제44조제2항', 'name': '내부통제기준', 'document_title': '자본시장과 금융투자업에 관한 법률 ( 약칭: 자본시장법 )', 'created_date': '시행 2024. 8. 14.', 'revise_info': '법률 제20305호, 2024. 2. 13., 일부개정', 'source' : '국가법령정보센터', 'title_doc': '제2편 금융투자업', 'title_chapter' : '제4장 영업행위 규칙', 'title_section' : '제1절 공통 영업행위 규칙', 'title_subsection' : '제1관 신의성실의무 등'}}, \n",
        "# {{'relation_type' : 'EFFECT', 'description' : '내부통제기준이 이해상충 발생 가능성에 영향을 미친다'}},\n",
        "# {{'entity_type' : 'OBJECT', 'law_index': '제44조제2항', 'name': '이해상충 발생 가능성', 'document_title': '자본시장과 금융투자업에 관한 법률 ( 약칭: 자본시장법 )', 'created_date': '시행 2024. 8. 14.', 'revise_info': '법률 제20305호, 2024. 2. 13., 일부개정', 'source' : '국가법령정보센터', 'title_doc': '제2편 금융투자업', 'title_chapter' : '제4장 영업행위 규칙', 'title_section' : '제1절 공통 영업행위 규칙', 'title_subsection' : '제1관 신의성실의무 등'}}),\n",
        "# ]"
      ]
    },
    {
      "cell_type": "markdown",
      "metadata": {},
      "source": [
        "### SchemaLLMPathExtractor"
      ]
    },
    {
      "cell_type": "code",
      "execution_count": 18,
      "metadata": {},
      "outputs": [],
      "source": [
        "from typing import Literal\n",
        "from llama_index.core.indices.property_graph import DynamicLLMPathExtractor, SchemaLLMPathExtractor\n",
        "\n",
        "\n",
        "entities = Literal[\"LAW\", \"HUMAN\", \"ACTION\", \"PENALTY\", \"OBJECT\"]\n",
        "relations = Literal[\"CONNECT\", \"DECIDE_OF\", \"ACT\", \"REFERS_TO\", \"CAUSE\", \"EQUALS_TO\", \"INCLUDE\", \"EFFECT\"]\n",
        "entity_props = list(documents[0].metadata.keys())\n",
        "relation_props = [\"relation_type\", \"description\"]\n",
        "\n",
        "# 가능한 triplet 형태 모두 정의\n",
        "schema = {\n",
        "    \"LAW\" : [\"CONNECT\", \"REFERS_TO\", \"EQUALS_TO\", \"INCLUDE\", \"EFFECT\"], # 관계, 노드 추가 가능\n",
        "    \"HUMAN\" : [\"CONNECT\", \"DECIDE_OF\", \"ACT\", \"REFERS_TO\", \"CAUSE\", \"EQUALS_TO\", \"INCLUDE\", \"EFFECT\"],\n",
        "    \"ACTION\" : [\"CONNECT\", \"REFERS_TO\", \"CAUSE\", \"EQUALS_TO\", \"INCLUDE\", \"EFFECT\"],\n",
        "    \"PENALTY\" : [\"CONNECT\", \"REFERS_TO\", \"CAUSE\", \"EQUALS_TO\", \"INCLUDE\", \"EFFECT\"],\n",
        "    \"OBJECT\" : [\"CONNECT\", \"DECIDE_OF\", \"ACT\", \"REFERS_TO\", \"CAUSE\", \"EQUALS_TO\", \"INCLUDE\", \"EFFECT\"]\n",
        "    \n",
        "}\n",
        "# schema = [(\"LAW\", \"REFERS_TO\", \"LAW\")]\n",
        "# llm = OpenAI(temperature=0, model=\"gpt-4o\")"
      ]
    },
    {
      "cell_type": "code",
      "execution_count": 19,
      "metadata": {},
      "outputs": [],
      "source": [
        "# Extract graph from documents\n",
        "import nest_asyncio \n",
        "nest_asyncio.apply()\n",
        "\n",
        "schema_extractor=SchemaLLMPathExtractor(\n",
        "            llm=Settings.llm,\n",
        "            extract_prompt=triplet_prompt,\n",
        "            max_triplets_per_chunk=3,\n",
        "            possible_entities=entities,\n",
        "            possible_relations=relations,\n",
        "            possible_entity_props=entity_props,\n",
        "            possible_relation_props=relation_props,\n",
        "            kg_validation_schema=schema,\n",
        "            strict=True, # if false, will allow triples outside of the schema\n",
        "        )"
      ]
    },
    {
      "cell_type": "code",
      "execution_count": null,
      "metadata": {},
      "outputs": [],
      "source": [
        "schema_index = PropertyGraphIndex.from_documents(\n",
        "    documents,\n",
        "    # embed_model=OpenAIEmbedding(model_name=\"text-embedding-3-small\"),\n",
        "    embed_kg_nodes=False,\n",
        "    kg_extractors=[schema_extractor],\n",
        "    property_graph_store=graph_store,\n",
        "    show_progress=True,\n",
        ")"
      ]
    },
    {
      "cell_type": "code",
      "execution_count": null,
      "metadata": {},
      "outputs": [],
      "source": [
        "# Define retriever\n",
        "retriever = schema_index.as_retriever(\n",
        ")\n",
        "\n",
        "results = retriever.retrieve(\"금융투자업자가 경영건전성기준을 충족하지 못하면 어떤 조치를 받나요?\") \n",
        "type(results[0])\n",
        "for record in results:\n",
        "    print(record.text)\n",
        "    print(record.metadata)"
      ]
    },
    {
      "cell_type": "markdown",
      "metadata": {},
      "source": [
        "### DynamicLLMPathExtractor\n",
        "\n",
        "> https://github.com/run-llama/llama_index/blob/ce43f766890234d066c339c915ebaa66ff292cc9/llama-index-core/llama_index/core/indices/property_graph/transformations/dynamic_llm.py#L162"
      ]
    },
    {
      "cell_type": "code",
      "execution_count": null,
      "metadata": {},
      "outputs": [],
      "source": [
        "dynamic_extractor=DynamicLLMPathExtractor(\n",
        "            extract_prompt=triplet_prompt,\n",
        "            max_triplets_per_chunk=3,\n",
        "            allowed_entity_types=entities,\n",
        "            allowed_relation_types=relations,\n",
        "            allowed_entity_props=entity_props,\n",
        "            allowed_relation_props=relation_props,\n",
        "            show_progress=True\n",
        "        )"
      ]
    },
    {
      "cell_type": "code",
      "execution_count": null,
      "metadata": {},
      "outputs": [],
      "source": [
        "dynamic_index = PropertyGraphIndex.from_documents(\n",
        "    documents,\n",
        "    # embed_model=OpenAIEmbedding(model_name=\"text-embedding-3-small\"),\n",
        "    embed_kg_nodes=False,\n",
        "    kg_extractors=[schema_extractor],\n",
        "    property_graph_store=graph_store,\n",
        "    show_progress=True,\n",
        ")"
      ]
    },
    {
      "cell_type": "code",
      "execution_count": null,
      "metadata": {},
      "outputs": [],
      "source": [
        "# Define retriever\n",
        "retriever = dynamic_index.as_retriever(\n",
        ")\n",
        "\n",
        "results = retriever.retrieve(\"금융투자업자가 경영건정성기준을 충족하지 못하면 어떤 조치를 받나요?\")\n",
        "for record in results:\n",
        "    print(record.text)"
      ]
    },
    {
      "cell_type": "markdown",
      "metadata": {},
      "source": [
        "## neo4j test"
      ]
    },
    {
      "cell_type": "markdown",
      "metadata": {
        "id": "Rpkn6MoMkgUd"
      },
      "source": [
        "## (Optional)Build the Knowledge Graph with LlamaIndex\n",
        "\n",
        "With the help of Llama Index and LLM defined, we could build Knowledge Graph from given documents.\n",
        "\n",
        "If we have a Knowledge Graph on NebulaGraphStore already, this step could be skipped"
      ]
    },
    {
      "cell_type": "code",
      "execution_count": 7,
      "metadata": {},
      "outputs": [],
      "source": [
        "import json\n",
        "from llama_index.core import Document\n",
        "\n",
        "# JSON 파일을 로드하는 함수\n",
        "def load_json_as_documents(input_file):\n",
        "    # 모든 노드 텍스트 가져오기\n",
        "    \n",
        "\n",
        "    # # schema에 맞추어 json flatten\n",
        "    # flattened_json = [flatten_json(item) for item in json_data]\n",
        "\n",
        "    documents = []\n",
        "    \n",
        "    # JSON 리스트의 각 요소를 Document로 변환하여 리스트에 추가\n",
        "    for entry in json_data:\n",
        "        # 각 요소를 Document 객체로 변환\n",
        "        doc = Document(\n",
        "            text=entry[\"content\"],\n",
        "            metadata={\n",
        "                \"law_index\": entry[\"index\"],\n",
        "                \"name\": entry[\"subtitle\"],\n",
        "                \"document_title\": entry[\"metadata\"][\"document_title\"],\n",
        "                \"created_date\": entry[\"metadata\"][\"date\"],\n",
        "                \"revise_info\": entry[\"metadata\"][\"revise_info\"],\n",
        "                \"source\": entry[\"metadata\"][\"source\"],\n",
        "                \"title_doc\": entry[\"metadata\"][\"title\"][\"doc\"],\n",
        "                \"title_chapter\": entry[\"metadata\"][\"title\"][\"chapter\"],\n",
        "                \"title_section\": entry[\"metadata\"][\"title\"][\"section\"],\n",
        "                \"title_subsection\": entry[\"metadata\"][\"title\"][\"subsection\"],\n",
        "            },\n",
        "            metadata_seperator=\"::\",\n",
        "            metadata_template=\"{key}=>{value}\",\n",
        "            text_template=\"Metadata: {metadata_str}\\n-----\\nContent: {content}\",\n",
        "        )\n",
        "        documents.append(doc)\n",
        "    \n",
        "    return documents\n",
        "\n",
        "# JSON 파일 경로\n",
        "input_file = \"/mnt/c/Users/Shic/legal_graph/results/1-2/DCM_1-2_nebula_test.json\"\n",
        "\n",
        "# 로더 사용하여 데이터 불러오기\n",
        "documents = load_json_as_documents(input_file)\n"
      ]
    },
    {
      "cell_type": "code",
      "execution_count": null,
      "metadata": {},
      "outputs": [],
      "source": [
        "# len(documents)"
      ]
    },
    {
      "cell_type": "code",
      "execution_count": null,
      "metadata": {},
      "outputs": [],
      "source": [
        "# list(documents[0].metadata.keys())"
      ]
    },
    {
      "cell_type": "markdown",
      "metadata": {},
      "source": [
        "테스트용 데이터 범위 제1조 ~ 제49조에서 제30조 ~ 제49조로 줄임 (Documents 188 -> 70)"
      ]
    },
    {
      "cell_type": "code",
      "execution_count": null,
      "metadata": {},
      "outputs": [],
      "source": [
        "# from llama_index.core.schema import MetadataMode\n",
        "# print(\n",
        "#     \"The LLM sees this: \\n\",\n",
        "#     documents[1].get_content(metadata_mode=MetadataMode.LLM),\n",
        "# )"
      ]
    },
    {
      "cell_type": "code",
      "execution_count": null,
      "metadata": {},
      "outputs": [],
      "source": [
        "# print(\n",
        "#     \"The Embedding model sees this: \\n\",\n",
        "#     documents[1].get_content(metadata_mode=MetadataMode.EMBED),\n",
        "# )"
      ]
    },
    {
      "cell_type": "markdown",
      "metadata": {
        "id": "ZIPE4e6JkgUe"
      },
      "source": [
        "### Step 2, Generate a KnowledgeGraphIndex with NebulaGraph as graph_store\n",
        "\n",
        "Then, we will create a KnowledgeGraphIndex to enable Graph based RAG, see [here](https://gpt-index.readthedocs.io/en/latest/examples/index_structs/knowledge_graph/KnowledgeGraphIndex_vs_VectorStoreIndex_vs_CustomIndex_combined.html) for deails, apart from that, we have a Knowledge Graph up and running for other purposes, too!"
      ]
    },
    {
      "cell_type": "markdown",
      "metadata": {},
      "source": [
        "> https://docs.llamaindex.ai/en/stable/module_guides/loading/documents_and_nodes/usage_documents/"
      ]
    },
    {
      "cell_type": "code",
      "execution_count": 12,
      "metadata": {},
      "outputs": [],
      "source": [
        "# from llama_index.core import Prompt\n",
        "\n",
        "triplet_prompt = \"\"\"\n",
        "다음과 같은 법률 데이터베이스가 구축되어 있습니다.\n",
        "\n",
        "데이터베이스 생성 구문:\n",
        "CREATE TAG law(law_index string, subtitle string, document_title string, created_date string, revise_info string, source string, title_doc string, title_chapter string, title_section string, title_subsection string);\n",
        "CREATE EDGE REFERS_TO();\n",
        "CREATE TAG INDEX law_index ON law(law_index(256));\n",
        "\n",
        "데이터베이스에 노드와 엣지를 삽입하기 위해서, 주어진 텍스트에서 가능한 모든 사실과 법 조항 간의 관계를 추출하세요.\n",
        "- 각 사실은 (주어, 관계, 객체)의 형태로 나타냅니다.\n",
        "- 특히, 법 조항 간의 참조, 의무, 금지 등의 관계를 중점적으로 추출하세요.\n",
        "\n",
        "예시:\n",
        " Metadata: law_index=>제44조제2항::subtitle=>이해상충의 관리::document_title=>자본시장과 금융투자업에 관한 법률 ( 약칭: 자본시장법 )\n",
        "::created_date=>시행 2024. 8. 14.::revise_info=>법률 제20305호, 2024. 2. 13., 일부개정\n",
        "::source=>국가법령정보센터::title_doc=>제2편 금융투자업::title_chapter=>제4장 영업행위 규칙::title_section=>제1절 공통 영업행위 규칙::title_subsection=>제1관 신의성실의무 등\n",
        "-----\n",
        "Text: 금융투자업자는 제1항에 따라 이해상충이 발생할 가능성을 파악ㆍ평가한 결과 이해상충이 발생할 가능성이 있다고 인정되는 경우에는 그 사실을 미리 해당 투자자에게 알려야 하며, 그 이해상충이 발생할 가능성을 내부통제기준이 정하는 방법 및 절차에 따라 투자자 보호에 문제가 없는 수준으로 낮춘 후 매매, 그 밖의 거래를 하여야 한다.\n",
        "\n",
        "삼중항:\n",
        "(제44조제2항, 참조한다, 제44조제1항)\n",
        "(금융투자업자, 파악ㆍ평가한다, 이해상충 발생 가능성)\n",
        "\n",
        "텍스트: {text}\n",
        "삼중항:\n",
        "\"\"\""
      ]
    },
    {
      "cell_type": "code",
      "execution_count": null,
      "metadata": {},
      "outputs": [],
      "source": [
        "!pip install llama-index-prompts llama-index-llms"
      ]
    },
    {
      "cell_type": "code",
      "execution_count": 13,
      "metadata": {},
      "outputs": [],
      "source": [
        "from llama_index.core import PromptTemplate  # 수정된 부분\n",
        "\n",
        "triplet_template = PromptTemplate(template=triplet_prompt)  # 수정된 부분"
      ]
    },
    {
      "cell_type": "code",
      "execution_count": null,
      "metadata": {
        "id": "MNIz_QQLkgUe"
      },
      "outputs": [],
      "source": [
        "from llama_index.core import KnowledgeGraphIndex\n",
        "\n",
        "kg_index = KnowledgeGraphIndex.from_documents(\n",
        "    documents,\n",
        "    # kg_triplet_extract_template 으로 triplet 추출 프롬프트 설정 가능\n",
        "    kg_triplet_extract_template = triplet_template,\n",
        "    storage_context=storage_context,\n",
        "    max_triplets_per_chunk=5, # 범위 수정\n",
        "    space_name=space_name,\n",
        "    edge_types=edge_types,\n",
        "    rel_prop_names=rel_prop_names,\n",
        "    tags=tags,\n",
        "    # include_embeddings=True,\n",
        "    show_progress=True\n",
        ")"
      ]
    },
    {
      "cell_type": "markdown",
      "metadata": {
        "id": "eC6hkGFckgUe"
      },
      "source": [
        "Now we have a Knowledge Graph on NebulaGraph cluster under space named `llamaindex` about the 'Guardians of the Galaxy Vol. 3' movie, let's play with it a little bit."
      ]
    },
    {
      "cell_type": "code",
      "execution_count": null,
      "metadata": {
        "id": "drjvZkFhkgUe",
        "outputId": "7cf2531a-2848-4511-91d1-5b934f40f0ed"
      },
      "outputs": [],
      "source": [
        "# install related packages, password is nebula by default\n",
        "%pip install ipython-ngql networkx pyvis jupyter_nebulagraph\n"
      ]
    },
    {
      "cell_type": "code",
      "execution_count": null,
      "metadata": {},
      "outputs": [],
      "source": [
        "%load_ext ngql\n",
        "%ngql --address 192.168.176.1 --port 9669 --user root --password 001101"
      ]
    },
    {
      "cell_type": "code",
      "execution_count": null,
      "metadata": {
        "id": "eTqktHHwkgUf",
        "outputId": "4db5cbcc-f861-47f2-a118-2a83c04dc027"
      },
      "outputs": [],
      "source": [
        "# Query some random Relationships with Cypher\n",
        "%ngql USE llamaindex;\n",
        "%ngql MATCH ()-[e]->() RETURN e LIMIT 20;"
      ]
    },
    {
      "cell_type": "code",
      "execution_count": null,
      "metadata": {},
      "outputs": [],
      "source": [
        "%ngql MATCH ()-[e]->() RETURN DISTINCT e;"
      ]
    },
    {
      "cell_type": "code",
      "execution_count": null,
      "metadata": {},
      "outputs": [],
      "source": [
        "%ngql MATCH ()-[e]->() RETURN DISTINCT e.relation;\n"
      ]
    },
    {
      "cell_type": "code",
      "execution_count": null,
      "metadata": {},
      "outputs": [],
      "source": [
        "%ngql help"
      ]
    },
    {
      "cell_type": "code",
      "execution_count": null,
      "metadata": {
        "id": "L3QWqwOlkgUf",
        "outputId": "ab647ef5-cee0-4ea1-8fb9-d86c2650aaae"
      },
      "outputs": [],
      "source": [
        "%ngql USE llamaindex\n",
        "%ng_draw"
      ]
    },
    {
      "cell_type": "markdown",
      "metadata": {},
      "source": []
    },
    {
      "cell_type": "markdown",
      "metadata": {
        "id": "9OCyB6d0kgUf"
      },
      "source": [
        "## Asking the Knowledge Graph\n",
        "\n",
        "Finally, let's demo how to Query Knowledge Graph with Natural language!\n",
        "\n",
        "Here, we will leverage the `KnowledgeGraphQueryEngine`, with `NebulaGraphStore` as the `storage_context.graph_store`."
      ]
    },
    {
      "cell_type": "code",
      "execution_count": 1,
      "metadata": {},
      "outputs": [],
      "source": [
        "from llama_index.llms.openai import OpenAI\n",
        "llm = OpenAI(temperature=0, model=\"gpt-4o\")"
      ]
    },
    {
      "cell_type": "code",
      "execution_count": null,
      "metadata": {
        "id": "ZhwSN1EJkgUf"
      },
      "outputs": [],
      "source": [
        "from llama_index.core.query_engine import KnowledgeGraphQueryEngine\n",
        "\n",
        "from llama_index.core import StorageContext\n",
        "from llama_index.graph_stores.nebula import NebulaGraphStore\n",
        "\n",
        "query_engine = KnowledgeGraphQueryEngine(\n",
        "    storage_context=storage_context,\n",
        "    llm=llm,\n",
        "    verbose=True,\n",
        ")"
      ]
    },
    {
      "cell_type": "code",
      "execution_count": null,
      "metadata": {
        "id": "VKLiGbo6kgUf",
        "outputId": "4f9d2a03-1233-4c80-d189-f3ee448b8dbd"
      },
      "outputs": [],
      "source": [
        "response = query_engine.generate_query(\n",
        "    \"증권신고서와 투자설명서의 부실기재에 대한 과징금이 부과되는 경우 부과대상과 부과금액은?\",\n",
        ")\n",
        "display(Markdown(f\"<b>{response}</b>\"))"
      ]
    },
    {
      "cell_type": "code",
      "execution_count": null,
      "metadata": {
        "id": "f1_5zbJ4kgUf",
        "outputId": "8a58990f-d9cf-428e-9697-4093d6369409"
      },
      "outputs": [],
      "source": [
        "graph_query = query_engine.generate_query(\n",
        "    \"Tell me about Peter Quill?\",\n",
        ")\n",
        "\n",
        "graph_query = graph_query.replace(\"WHERE\", \"\\n  WHERE\").replace(\n",
        "    \"RETURN\", \"\\nRETURN\"\n",
        ")\n",
        "\n",
        "display(\n",
        "    Markdown(\n",
        "        f\"\"\"\n",
        "```cypher\n",
        "{graph_query}\n",
        "```\n",
        "\"\"\"\n",
        "    )\n",
        ")"
      ]
    },
    {
      "cell_type": "markdown",
      "metadata": {
        "id": "TDJGSIybkgUf"
      },
      "source": [
        "We could see it helps generate the Graph query:\n",
        "\n",
        "```cypher\n",
        "MATCH (p:`entity`)-[:relationship]->(e:`entity`)\n",
        "  WHERE p.`entity`.`name` == 'Peter Quill'\n",
        "RETURN e.`entity`.`name`;\n",
        "```\n",
        "And synthese the question based on its result:\n",
        "\n",
        "```json\n",
        "{'e2.entity.name': ['grandfather', 'alternate version of Gamora', 'Guardians of the Galaxy']}\n",
        "```"
      ]
    },
    {
      "cell_type": "markdown",
      "metadata": {
        "id": "5qqwWgvokgUf"
      },
      "source": [
        "Of course we still could query it, too! And this query engine could be our best Graph Query Language learning bot, then :)."
      ]
    },
    {
      "cell_type": "code",
      "execution_count": null,
      "metadata": {
        "id": "vp1ZCdMDkgUg",
        "outputId": "1b5c17fd-2ca9-4e2e-bdc2-1863a5b2f3a0"
      },
      "outputs": [],
      "source": [
        "%%ngql\n",
        "MATCH (p:`entity`)-[e:relationship]->(m:`entity`)\n",
        "  WHERE p.`entity`.`name` == 'Peter Quill'\n",
        "RETURN p.`entity`.`name`, e.relationship, m.`entity`.`name`;"
      ]
    },
    {
      "cell_type": "markdown",
      "metadata": {
        "id": "_jZ1j2dXkgUg"
      },
      "source": [
        "And change the query to be rendered"
      ]
    },
    {
      "cell_type": "code",
      "execution_count": null,
      "metadata": {
        "id": "PyjTTp2KkgUg",
        "outputId": "9cfb98ef-14da-4e24-d5fc-398899b6d496"
      },
      "outputs": [],
      "source": [
        "%%ngql\n",
        "MATCH (p:`entity`)-[e:relationship]->(m:`entity`)\n",
        "  WHERE p.`entity`.`name` == 'Peter Quill'\n",
        "RETURN p, e, m;"
      ]
    },
    {
      "cell_type": "code",
      "execution_count": null,
      "metadata": {
        "id": "qv154LRXkgUg",
        "outputId": "2f8c60ed-1f4b-4971-fa37-df908c6e9db9"
      },
      "outputs": [],
      "source": [
        "%ng_draw"
      ]
    },
    {
      "cell_type": "markdown",
      "metadata": {
        "id": "6_OzotCBkgUg"
      },
      "source": [
        "The results of this knowledge-fetching query could not be more clear from the renderred graph then."
      ]
    }
  ],
  "metadata": {
    "colab": {
      "provenance": []
    },
    "kernelspec": {
      "display_name": "Python 3 (ipykernel)",
      "language": "python",
      "name": "python3"
    },
    "language_info": {
      "codemirror_mode": {
        "name": "ipython",
        "version": 3
      },
      "file_extension": ".py",
      "mimetype": "text/x-python",
      "name": "python",
      "nbconvert_exporter": "python",
      "pygments_lexer": "ipython3",
      "version": "3.11.9"
    }
  },
  "nbformat": 4,
  "nbformat_minor": 0
}
