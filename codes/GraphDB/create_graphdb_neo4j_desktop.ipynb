{
 "cells": [
  {
   "cell_type": "code",
   "execution_count": 98,
   "metadata": {},
   "outputs": [
    {
     "data": {
      "text/plain": [
       "'\"\\nconda create neo4j \\npip install neo4j \\n\\n'"
      ]
     },
     "execution_count": 98,
     "metadata": {},
     "output_type": "execute_result"
    }
   ],
   "source": [
    "\"\"\"\"\n",
    "conda create neo4j \n",
    "pip install neo4j \n",
    "\n",
    "\"\"\"\n"
   ]
  },
  {
   "cell_type": "code",
   "execution_count": 123,
   "metadata": {},
   "outputs": [
    {
     "name": "stdout",
     "output_type": "stream",
     "text": [
      "Neo4j 서버와의 연결이 성공적으로 확인되었습니다.\n"
     ]
    }
   ],
   "source": [
    "#Neo4j 서버 연결 확인 \n",
    "from neo4j import GraphDatabase\n",
    "\n",
    "# Neo4j 서버에 연결\n",
    "uri = \"bolt://localhost:7687\"  # Neo4j 서버 URI (변수 이름 통일)\n",
    "user = \"neo4j\"  # 사용자명\n",
    "password = \"a9862121!\"  # 비밀번호\n",
    "\n",
    "# URI와 사용자 정보 설정\n",
    "AUTH = (user, password)\n",
    "\n",
    "\n",
    "# GraphDatabase에 드라이버 생성 및 연결 확인\n",
    "with GraphDatabase.driver(uri, auth=AUTH) as driver:  # 'uri'로 통일\n",
    "    driver.verify_connectivity()  # 연결 확인\n",
    "    print(\"Neo4j 서버와의 연결이 성공적으로 확인되었습니다.\")"
   ]
  },
  {
   "cell_type": "code",
   "execution_count": 124,
   "metadata": {},
   "outputs": [],
   "source": [
    "from neo4j import GraphDatabase\n",
    "\n",
    "\n",
    "def flatten_dict(d, parent_key='', sep='_'):\n",
    "    \"\"\"\n",
    "    딕셔너리를 재귀적으로 평탄화하는 함수\n",
    "    \"\"\"\n",
    "    items = []\n",
    "    for k, v in d.items():\n",
    "        new_key = f\"{parent_key}{k}\" if parent_key else k\n",
    "        if isinstance(v, dict):\n",
    "            items.extend(flatten_dict(v, new_key + sep, sep=sep).items())\n",
    "        else:\n",
    "            items.append((new_key, v))\n",
    "    return dict(items)\n",
    "\n",
    "# Neo4j에 연결하는 클래스 정의\n",
    "class LegalGraphDB:\n",
    "    def __init__(self, uri, user, password):\n",
    "        self.driver = GraphDatabase.driver(uri, auth=(user, password))\n",
    "\n",
    "    def close(self):\n",
    "        self.driver.close()\n",
    "    \n",
    "    def create_node(self, node_type, properties):\n",
    "        with self.driver.session() as session:\n",
    "            # 동적으로 Cypher 쿼리 생성\n",
    "            query = f\"CREATE (n:{node_type} {{\"\n",
    "            query += \", \".join([f\"{key}: ${key}\" for key in properties.keys()])\n",
    "            query += \"})\"\n",
    "\n",
    "            # 전달된 properties 딕셔너리를 사용하여 쿼리 실행\n",
    "            session.run(query, **properties)\n",
    "    \n",
    "    # 노드 생성 메서드\n",
    "    def create_law_node(self, node):\n",
    "        with self.driver.session() as session:\n",
    "            session.run(\n",
    "                \"\"\"\n",
    "                CREATE (n:Article {\n",
    "                    index: $index,\n",
    "                    subtitle: $subtitle,\n",
    "                    content: $content,\n",
    "                    document_title: $document_title,\n",
    "                    date: $date,\n",
    "                    revise_info: $revise_info,\n",
    "                    source: $source,\n",
    "                    doc: $doc,\n",
    "                    chapter: $chapter,\n",
    "                    section: $section,\n",
    "                    subsection: $subsection\n",
    "                })\n",
    "                \"\"\",\n",
    "                index=node['index'],\n",
    "                subtitle=node['subtitle'],\n",
    "                content=node['content'],\n",
    "                document_title=node['metadata']['document_title'],\n",
    "                date=node['metadata']['date'],\n",
    "                revise_info=node['metadata']['revise_info'],\n",
    "                source=node['metadata']['source'],\n",
    "                doc=node['metadata']['title']['doc'],\n",
    "                chapter=node['metadata']['title']['chapter'],\n",
    "                section=node['metadata']['title']['section'],\n",
    "                subsection=node['metadata']['title']['subsection']\n",
    "            )\n",
    "\n",
    "    # REFERS_TO 관계 생성 메서드\n",
    "    def create_relationship(self, from_index, to_index):\n",
    "        with self.driver.session() as session:\n",
    "            session.run(\n",
    "                \"\"\"\n",
    "                MATCH (a:Article {index: $from_index}), (b:Article {index: $to_index})\n",
    "                CREATE (a)-[:REFERS_TO]->(b)\n",
    "                \"\"\",\n",
    "                from_index=from_index,\n",
    "                to_index=to_index\n",
    "            )\n",
    "\n",
    "    # 특정 키워드가 콘텐츠에 포함된 경우 REFERS_TO 관계 설정\n",
    "    def create_references(self, nodes):\n",
    "        for node in nodes:\n",
    "            for target_node in nodes:\n",
    "                if node['index'] != target_node['index'] and target_node['index'] in node['content']:\n",
    "                    self.create_relationship(node['index'], target_node['index'])\n",
    "    \n",
    "    # 쿼리 실행 메서드\n",
    "    \"\"\" \n",
    "    사용법 \n",
    "    query = \"MATCH (a:Article {index: $index}) RETURN a.index AS index, a.content AS content\"\n",
    "    db.run_query(query, parameters=None) \n",
    "    \n",
    "    \n",
    "    \"\"\"\n",
    "    def run_query(self, query, parameters=None):\n",
    "        with self.driver.session() as session:\n",
    "            result = session.run(query, parameters)\n",
    "            return result\n",
    "        \n",
    "\n",
    "    \n",
    "db = LegalGraphDB(uri, user, password)       \n",
    "\n"
   ]
  },
  {
   "cell_type": "code",
   "execution_count": 125,
   "metadata": {},
   "outputs": [
    {
     "name": "stdout",
     "output_type": "stream",
     "text": [
      "Loaded 11 data from ../../results/merged_DCM_data.json\n"
     ]
    }
   ],
   "source": [
    "import json\n",
    "import os\n",
    "\n",
    "\n",
    "data_path = \"../../results/merged_DCM_data.json\"\n",
    "\n",
    "#json 저장된 데이터 가져오기 \n",
    "with open(data_path, \"r\", encoding=\"utf-8\") as f:\n",
    "    data = json.load(f)\n",
    "    print(f\"Loaded {len(data)} data from {data_path}\")"
   ]
  },
  {
   "cell_type": "code",
   "execution_count": 126,
   "metadata": {},
   "outputs": [
    {
     "name": "stdout",
     "output_type": "stream",
     "text": [
      "../../results/merged_DCM_data.json의 데이터를 Neo4j에 nodes생성 완료 \n"
     ]
    }
   ],
   "source": [
    "\n",
    "#노드 생성 \n",
    "for (i, item) in enumerate(data):\n",
    "    for (j, node) in enumerate(item) : \n",
    "        node = flatten_dict(item[j])\n",
    "        \n",
    "        if \"시행령\" in node[\"metadata_document_title\"]:\n",
    "            db.create_node(\"enforcement\", node)\n",
    "        elif \"법률\" in node[\"metadata_document_title\"]:\n",
    "            db.create_node(\"law\", node)\n",
    "        elif \"시행규칙\" in node[\"metadata_document_title\"]:\n",
    "            db.create_node(\"order\", node)\n",
    "        \n",
    "print(f\"{data_path}의 데이터를 Neo4j에 nodes생성 완료 \")\n"
   ]
  },
  {
   "cell_type": "code",
   "execution_count": 127,
   "metadata": {},
   "outputs": [
    {
     "name": "stdout",
     "output_type": "stream",
     "text": [
      "../../results/merged_DCM_data.json의 데이터를 Neo4j에 edges 생성 완료 \n"
     ]
    }
   ],
   "source": [
    "#edge 생성 \n",
    "for d in data:\n",
    "    db.create_references(d)\n",
    "    \n",
    "print(f\"{data_path}의 데이터를 Neo4j에 edges 생성 완료 \")"
   ]
  },
  {
   "cell_type": "code",
   "execution_count": 133,
   "metadata": {},
   "outputs": [
    {
     "name": "stdout",
     "output_type": "stream",
     "text": [
      "record: <Record n=<Node element_id='4:b8573284-ccc5-44e4-9315-d15b0bd04d46:2039' labels=frozenset({'law'}) properties={'metadata_source': '국가법령정보센터', 'metadata_document_title': '자본시장과 금융투자업에 관한 법률 ( 약칭: 자본시장법 )\\n', 'metadata_revise_info': '법률 제20305호, 2024. 2. 13., 일부개정\\n', 'subtitle': '시행일', 'index': '제1조', 'metadata_date': '시행 2024. 8. 14.', 'content': '이 법은 공포 후 6개월이 경과한 날부터 시행한다.', 'metadata_title_supplementary': '부칙 <제20305호,2024. 2. 13.>'}>>\n",
      "record: <Record n=<Node element_id='4:b8573284-ccc5-44e4-9315-d15b0bd04d46:2040' labels=frozenset({'law'}) properties={'metadata_source': '국가법령정보센터', 'metadata_document_title': '자본시장과 금융투자업에 관한 법률 ( 약칭: 자본시장법 )\\n', 'metadata_revise_info': '법률 제20305호, 2024. 2. 13., 일부개정\\n', 'subtitle': '유사투자자문업 신고의 직권말소에 관한 적용례', 'index': '제2조', 'metadata_date': '시행 2024. 8. 14.', 'content': '제101조제9항제1호의2의 개정규정은 이 법 시행 이후 공정거래위원회가 명한 시정조치를 이행하지 아니한 경우부터 적용한다.', 'metadata_title_supplementary': '부칙 <제20305호,2024. 2. 13.>'}>>\n",
      "record: <Record n=<Node element_id='4:b8573284-ccc5-44e4-9315-d15b0bd04d46:2041' labels=frozenset({'law'}) properties={'metadata_source': '국가법령정보센터', 'metadata_document_title': '자본시장과 금융투자업에 관한 법률 ( 약칭: 자본시장법 )\\n', 'metadata_revise_info': '법률 제20305호, 2024. 2. 13., 일부개정\\n', 'subtitle': '유사투자자문업 신고의 직권말소에 관한 특례', 'index': '제3조', 'metadata_date': '시행 2024. 8. 14.', 'content': '제101조제9항제2호의 개정규정에 따른 과태료 및 과징금의 부과 횟수는 이 법 시행 이후 부과받은 과태료 및 과징금 처분부터 합산한다. 다만, 이 법 시행 전에 제101조제2항 또는 같은 조 제3항 후단을 위반하여 과태료 처분을 3회 미만 받았던 경우에는 이를 1회 받은 것으로 보아 같은 개정규정에 따른 과태료 및 과징금 부과 횟수에 합산한다.', 'metadata_title_supplementary': '부칙 <제20305호,2024. 2. 13.>'}>>\n",
      "record: <Record n=<Node element_id='4:b8573284-ccc5-44e4-9315-d15b0bd04d46:2042' labels=frozenset({'law'}) properties={'metadata_source': '국가법령정보센터', 'metadata_document_title': '자본시장과 금융투자업에 관한 법률 ( 약칭: 자본시장법 )\\n', 'metadata_revise_info': '법률 제20305호, 2024. 2. 13., 일부개정\\n', 'subtitle': '다른 법률의 개정', 'index': '제4조', 'metadata_date': '시행 2024. 8. 14.', 'content': '금융소비자 보호에 관한 법률 일부를 다음과 같이 개정한다.\\n제2조제4호가목을 다음과 같이 한다.\\n가. 간행물ㆍ출판물ㆍ통신물 또는 방송 등을 통하여 개별 금융소비자를 상정하지 아니하고 다수인을 대상으로 일방적으로 이루어지는 조언을 하는 것. 다만, 본문의 조언과 관련하여 온라인상에서 일정한 대가를 지급한 고객과 의견을 교환할 수 있는 경우에는 그러하지 아니하다.', 'metadata_title_supplementary': '부칙 <제20305호,2024. 2. 13.>'}>>\n",
      "record: <Record n=<Node element_id='4:b8573284-ccc5-44e4-9315-d15b0bd04d46:2043' labels=frozenset({'law'}) properties={'metadata_source': '국가법령정보센터', 'metadata_document_title': '자본시장과 금융투자업에 관한 법률 ( 약칭: 자본시장법 )\\n', 'metadata_title_doc': '제1편 총칙', 'metadata_revise_info': '법률 제20305호, 2024. 2. 13., 일부개정\\n', 'subtitle': '목적', 'index': '제1조', 'metadata_date': '시행 2024. 8. 14.', 'content': '이 법은 자본시장에서의 금융혁신과 공정한 경쟁을 촉진하고 투자자를 보호하며 금융투자업을 건전하게 육성함으로써 자본시장의 공정성ㆍ신뢰성 및 효율성을 높여 국민경제의 발전에 이바지함을 목적으로 한다.'}>>\n",
      "The query `MATCH (n:law) RETURN n LIMIT 5` returned 5 records in 12 ms.\n"
     ]
    },
    {
     "name": "stderr",
     "output_type": "stream",
     "text": [
      "C:\\Users\\Shic\\AppData\\Local\\Temp\\ipykernel_15832\\4028000145.py:3: DeprecationWarning: Using a driver after it has been closed is deprecated. Future versions of the driver will raise an error.\n",
      "  records, summary, keys = driver.execute_query(\n"
     ]
    }
   ],
   "source": [
    "# Get the index and content of all Articles with a specific index\n",
    "# MATCH (n:law) RETURN n LIMIT 25 \n",
    "records, summary, keys = driver.execute_query(\n",
    "    \"MATCH (n:law) RETURN n LIMIT 5\",\n",
    "    database_=\"neo4j\",\n",
    ")\n",
    "\n",
    "# Loop through results and print them\n",
    "for record in records:\n",
    "    print(f\"record: {record}\")\n",
    "\n",
    "# Summary information\n",
    "print(\"The query `{query}` returned {records_count} records in {time} ms.\".format(\n",
    "    query=summary.query, records_count=len(records),\n",
    "    time=summary.result_available_after,\n",
    "\n",
    "))\n"
   ]
  },
  {
   "cell_type": "code",
   "execution_count": null,
   "metadata": {},
   "outputs": [],
   "source": []
  },
  {
   "cell_type": "code",
   "execution_count": null,
   "metadata": {},
   "outputs": [],
   "source": []
  }
 ],
 "metadata": {
  "kernelspec": {
   "display_name": "neo4j",
   "language": "python",
   "name": "python3"
  },
  "language_info": {
   "codemirror_mode": {
    "name": "ipython",
    "version": 3
   },
   "file_extension": ".py",
   "mimetype": "text/x-python",
   "name": "python",
   "nbconvert_exporter": "python",
   "pygments_lexer": "ipython3",
   "version": "3.12.4"
  }
 },
 "nbformat": 4,
 "nbformat_minor": 2
}
