{
 "cells": [
  {
   "cell_type": "code",
   "execution_count": 1,
   "metadata": {},
   "outputs": [
    {
     "name": "stdout",
     "output_type": "stream",
     "text": [
      "Document\n",
      "LegalGraphDB\n",
      "OpenAI\n",
      "RecursiveCharacterTextSplitter\n",
      "__builtins__\n",
      "__cached__\n",
      "__doc__\n",
      "__file__\n",
      "__loader__\n",
      "__name__\n",
      "__package__\n",
      "__spec__\n",
      "add_embedding_to_json\n",
      "article_to_index\n",
      "ast\n",
      "calculate_cosine_similarity\n",
      "cancel_triplet_batch\n",
      "chunk_split\n",
      "client\n",
      "config\n",
      "contextlib\n",
      "copy\n",
      "cosine_similarity\n",
      "create_refers_to_triplets_list\n",
      "datetime\n",
      "dbms\n",
      "extract_GPT_answer\n",
      "extract_definition_sentences\n",
      "extract_document_information\n",
      "extract_keyword\n",
      "extract_refers_to_edges\n",
      "extract_user_keyword\n",
      "find_clause_pattern\n",
      "flatten_json\n",
      "get_batch_answer\n",
      "get_batch_status\n",
      "get_gpt_answer\n",
      "get_refers_to_triplet_json\n",
      "get_triplet\n",
      "index_to_article\n",
      "initialize\n",
      "json\n",
      "json_chunk_split\n",
      "load_dotenv\n",
      "load_json_as_documents\n",
      "logging\n",
      "make_triplet_batch\n",
      "make_triplet_jsonl\n",
      "merge_to_json\n",
      "np\n",
      "os\n",
      "pd\n",
      "process_multiple_pattern\n",
      "process_range_pattern\n",
      "re\n",
      "reranking\n",
      "search_json\n",
      "split_clause\n",
      "split_documents\n",
      "sys\n",
      "text_embed\n",
      "tqdm\n",
      "traverse_graph_with_hops\n"
     ]
    }
   ],
   "source": [
    "import GraphDB.utils as utils\n",
    "import importlib\n",
    "import sys, os\n",
    "from dotenv import load_dotenv\n",
    "\n",
    "# 모듈 다시 로드\n",
    "importlib.reload(utils)\n",
    "\n",
    "\n",
    "#모듈 내 함수 목록 출력 \n",
    "attributes = dir(utils)\n",
    "for attribute in attributes:\n",
    "    print(attribute)\n"
   ]
  },
  {
   "cell_type": "code",
   "execution_count": 2,
   "metadata": {},
   "outputs": [
    {
     "name": "stdout",
     "output_type": "stream",
     "text": [
      "True\n",
      "## folder path :  ../data/DCM/DCM_json/04/\n",
      "## folder num :  04\n",
      "====input_path: ../data/DCM/DCM_json/04//04_regulation_main.json ======\n",
      "## document_number: 04 law_type: regulation document_type: main\n",
      "## Number of documents loaded: 6173\n",
      "## no matches : 4091\n",
      "## Number of matched patterns: 1050\n",
      "## 다른 문서, 다른 조의 preceeding_word : 한다)」 ##\n",
      "## 다른 문서, 다른 조의 preceeding_word : 법률」 ##\n",
      "## 다른 문서, 다른 조의 preceeding_word : 서명(「전자서명법」 ##\n",
      "## 다른 문서, 다른 조의 preceeding_word : 법률」 ##\n",
      "## 다른 문서, 다른 조의 preceeding_word : 한다)」 ##\n",
      "## 다른 문서, 다른 조의 preceeding_word : 「파생상품시장업무규정」 ##\n",
      "## 다른 문서, 다른 조의 preceeding_word : 「외국환거래규정」 ##\n",
      "## 다른 문서, 다른 조의 preceeding_word : 「외국환거래규정」 ##\n",
      "## 다른 문서, 다른 조의 preceeding_word : 법률」 ##\n",
      "## 다른 문서, 다른 조의 preceeding_word : 연금저축펀드(「소득세법」 ##\n",
      "## 다른 문서, 다른 조의 preceeding_word : 규정」 ##\n",
      "## 다른 문서, 다른 조의 preceeding_word : 「법인세법」 ##\n",
      "## 다른 문서, 다른 조의 preceeding_word : 법률」 ##\n",
      "## 다른 문서, 다른 조의 preceeding_word : 「증권의발행및공시등에관한규정」 ##\n",
      "## 다른 문서, 다른 조의 preceeding_word : 규정」 ##\n",
      "## 다른 문서, 다른 조의 preceeding_word : 「금융기관검사및제재에관한규정」 ##\n",
      "## 다른 문서, 다른 조의 preceeding_word : 「금융투자업규정」 ##\n",
      "## 다른 문서, 다른 조의 preceeding_word : 파생결합증권(「상법 ##\n",
      "## 다른 문서, 다른 조의 preceeding_word : 법률」 ##\n",
      "## 다른 문서, 다른 조의 preceeding_word : 법률」 ##\n",
      "## 다른 문서, 다른 조의 preceeding_word : 법률」 ##\n",
      "## 다른 문서, 다른 조의 preceeding_word : 「금융투자업규정」 ##\n",
      "## 다른 문서, 다른 조의 preceeding_word : 「금융투자업규정」 ##\n",
      "## 다른 문서, 다른 조의 preceeding_word : 「금융투자업규정」 ##\n",
      "## 다른 문서, 다른 조의 preceeding_word : 규정」 ##\n",
      "## 다른 문서, 다른 조의 preceeding_word : 규정」 ##\n",
      "## 다른 문서, 다른 조의 preceeding_word : 규정」 ##\n",
      "## 다른 문서, 다른 조의 preceeding_word : 규정」 ##\n",
      "## 다른 문서, 다른 조의 preceeding_word : 법률」 ##\n",
      "## 다른 문서, 다른 조의 preceeding_word : 「국가재정법」 ##\n",
      "## 다른 문서, 다른 조의 preceeding_word : 법률」 ##\n",
      "## 다른 문서, 다른 조의 preceeding_word : 「국가재정법」 ##\n",
      "## 다른 문서, 다른 조의 preceeding_word : 법률」 ##\n",
      "## 다른 문서, 다른 조의 preceeding_word : 「국가재정법」 ##\n",
      "## 다른 문서, 다른 조의 preceeding_word : 규정」 ##\n",
      "## 다른 문서, 다른 조의 preceeding_word : 규정」 ##\n",
      "## 다른 문서, 다른 조의 preceeding_word : 「소득세법」 ##\n",
      "## 다른 문서, 다른 조의 preceeding_word : 시행세칙」 ##\n",
      "## 다른 문서, 다른 조의 preceeding_word : 상장규정」 ##\n",
      "## 다른 문서, 다른 조의 preceeding_word : 상장규정」 ##\n",
      "## 다른 문서, 다른 조의 preceeding_word : 규정」 ##\n",
      "## 다른 문서, 다른 조의 preceeding_word : 상장규정」 ##\n",
      "## 다른 문서, 다른 조의 preceeding_word : 상장규정」 ##\n",
      "## 다른 문서, 다른 조의 preceeding_word : 시행령」 ##\n",
      "## 다른 문서, 다른 조의 preceeding_word : 법률」 ##\n",
      "## 다른 문서, 다른 조의 preceeding_word : 법률」 ##\n",
      "## 다른 문서, 다른 조의 preceeding_word : 규정」 ##\n",
      "## 다른 문서, 다른 조의 preceeding_word : 「금융투자업규정」 ##\n",
      "## 다른 문서, 다른 조의 preceeding_word : 「중소기업기본법」 ##\n",
      "## 다른 문서, 다른 조의 preceeding_word : 「중소기업기본법」 ##\n",
      "## 다른 문서, 다른 조의 preceeding_word : 「중소기업기본법」 ##\n",
      "## 다른 문서, 다른 조의 preceeding_word : 시행령」 ##\n",
      "## 다른 문서, 다른 조의 preceeding_word : 법률」 ##\n",
      "## 다른 문서, 다른 조의 preceeding_word : 운영지침」(정관 ##\n",
      "## 다른 문서, 다른 조의 preceeding_word : 관련하여「전자금융감독규정」 ##\n",
      "## 다른 문서, 다른 조의 preceeding_word : 법률」 ##\n",
      "## 다른 문서, 다른 조의 preceeding_word : 법률」 ##\n",
      "## 다른 문서, 다른 조의 preceeding_word : 법률」 ##\n",
      "## 다른 문서, 다른 조의 preceeding_word : 법률」시행령 ##\n",
      "## 다른 문서, 다른 조의 preceeding_word : 사채(「상법」 ##\n",
      "## 다른 문서, 다른 조의 preceeding_word : 법률」 ##\n",
      "## 다른 문서, 다른 조의 preceeding_word : 법률」 ##\n",
      "## 다른 문서, 다른 조의 preceeding_word : 시행령」 ##\n",
      "## 다른 문서, 다른 조의 preceeding_word : 법률」 ##\n",
      "## 다른 문서, 다른 조의 preceeding_word : 사채(「상법」 ##\n",
      "## 다른 문서, 다른 조의 preceeding_word : 규정」 ##\n",
      "## 다른 문서, 다른 조의 preceeding_word : 「상법」 ##\n",
      "## 다른 문서, 다른 조의 preceeding_word : 「신탁법」 ##\n",
      "## 다른 문서, 다른 조의 preceeding_word : 법률」 ##\n",
      "## 다른 문서, 다른 조의 preceeding_word : 규정」 ##\n",
      "## 다른 문서, 다른 조의 preceeding_word : 규정」 ##\n",
      "## 다른 문서, 다른 조의 preceeding_word : 서명(「전자서명법」 ##\n",
      "## 다른 문서, 다른 조의 preceeding_word : 규정」 ##\n",
      "## 다른 문서, 다른 조의 preceeding_word : 법률」 ##\n",
      "## Finish creating triplets \n",
      "## Number of triplets created:  1795\n",
      "## Sample triplets:  [{'current_document': '04_regulation_main', 'current_index': '제2조제2항', 'target_document': '04_regulation_main', 'target_index': '제29조', 'contents': '이 가이드라인은 전자금융감독규정 제29조의 적용을 받는 프로그램을 대상으로 한다.'}]\n",
      "## Finish creating all triplets\n",
      "## Finish saving all triplets in ../data/graph/clause/edge_triplet/04/04_refers_to_triplets.json\n"
     ]
    }
   ],
   "source": [
    "## utils에서 불러와서 폴더 내 모든 .json 파일에 대해 refers_to_triplets 생성\n",
    "##  디렉토리\n",
    "json_folder_path = \"../data/DCM/DCM_json/04/\"\n",
    "print(os.path.isdir(json_folder_path))\n",
    "\n",
    "utils.get_refers_to_triplet_json(json_folder_path=json_folder_path)"
   ]
  },
  {
   "cell_type": "markdown",
   "metadata": {},
   "source": [
    "### original codes"
   ]
  },
  {
   "cell_type": "code",
   "execution_count": null,
   "metadata": {},
   "outputs": [],
   "source": [
    "import os\n",
    "\n",
    "# refers_to_triplets 리스트 초기화\n",
    "refers_to_triplets = []\n",
    "\n",
    "# JSON 파일들이 있는 폴더 경로\n",
    "folder_path = \"./data/DCM/DCM_json/02/.\"\n",
    "\n",
    "# 폴더 내 모든 .json 파일에 대해 refers_to_triplets 생성\n",
    "for file_name in os.listdir(folder_path):\n",
    "    if file_name.endswith(\".json\"):\n",
    "        input_path = os.path.join(folder_path, file_name)\n",
    "        refers_to_triplets.append(utils.create_refers_to_triplets_list(input_path))\n",
    "\n",
    "print(\"Finish creating all triplets\")\n"
   ]
  },
  {
   "cell_type": "markdown",
   "metadata": {},
   "source": [
    "refers_to json 저장 \n"
   ]
  },
  {
   "cell_type": "code",
   "execution_count": null,
   "metadata": {},
   "outputs": [],
   "source": [
    "#refers_to_triplets를 json 형태로 저장 \n",
    "output_path = \"../data/graph/clause/edge_triplets/02_refers_to_triplets.json\"\n",
    "with open(output_path, 'w', encoding='utf-8') as f:\n",
    "    json.dump(refers_to_triplets, f, ensure_ascii=False, indent=4)\n",
    "\n",
    "print(\"Finish saving all triplets\")"
   ]
  },
  {
   "cell_type": "code",
   "execution_count": null,
   "metadata": {},
   "outputs": [],
   "source": [
    "\n",
    "CONFIG_PATH = r\"C:\\Users\\Shic\\development\\GIB\\legal_graph\\codes\\configs\\config.json\"\n",
    "config = None\n",
    "# config_file 가져오기\n",
    "with open(CONFIG_PATH, \"r\", encoding=\"utf-8\") as f:\n",
    "    config = json.load(f)\n",
    "    print(f\"Loaded config data from {CONFIG_PATH}\")\n",
    "\n",
    "\n",
    "# LegalGraphDB 객체 생성\n",
    "dbms = LegalGraphDB(auradb=False, config=config)\n",
    "\n"
   ]
  },
  {
   "cell_type": "code",
   "execution_count": null,
   "metadata": {},
   "outputs": [],
   "source": [
    "database = config.get(\"database\") \n",
    "data_path = \"../data/DCM/DCM_json/01_order_main.json\"\n",
    "node_type = data_path.split(\"/\")[-1].split(\".\")[0]\n",
    "\n",
    "# 노드 타입 이름 수정\n",
    "node_type = f\"Clause_{node_type}\"\n",
    "\n",
    "print(\"=====information of data=====\")\n",
    "print(\"database : \", database)\n",
    "print(\"data_path : \", data_path)\n",
    "print(\"node_type : \", node_type)\n",
    "\n",
    "# data json 파일 불러오기 \n",
    "with open (data_path, 'r', encoding='utf-8') as f:\n",
    "    data = json.load(f)\n",
    "\n",
    "print(f\"{data_path}의 노드 개수 : {len(data)}\")"
   ]
  },
  {
   "cell_type": "markdown",
   "metadata": {},
   "source": [
    "# Clause Graph 구축"
   ]
  },
  {
   "cell_type": "code",
   "execution_count": null,
   "metadata": {},
   "outputs": [],
   "source": [
    "\n",
    "for idx, item in enumerate(data):\n",
    "    node_id = dbms.create_clause_node(\n",
    "        node_type=node_type, \n",
    "        node_property=item, \n",
    "        database=database, \n",
    "        embedding=False\n",
    "    )\n",
    "    print(\"idx: \", idx,  \"return node_id: \", node_id)\n",
    "    "
   ]
  },
  {
   "cell_type": "markdown",
   "metadata": {},
   "source": [
    "# refers_to relation 구축"
   ]
  },
  {
   "cell_type": "markdown",
   "metadata": {},
   "source": [
    "Create refers_to relation "
   ]
  },
  {
   "cell_type": "code",
   "execution_count": null,
   "metadata": {},
   "outputs": [],
   "source": [
    "dbms.delete_all_relationship(database=database)\n",
    "\n",
    "json_path = \"../data/graph/clause/edge_triplets/refers_to_triplets.json\"\n",
    "refers_to_triplets = json.load(open(json_path, 'r', encoding='utf-8'))\n",
    "\n",
    "for triplets in refers_to_triplets:\n",
    "    for idx, triplet in enumerate(triplets):\n",
    "        dbms.create_clause_relationship(triplet,database=database)\n"
   ]
  },
  {
   "cell_type": "code",
   "execution_count": null,
   "metadata": {},
   "outputs": [],
   "source": []
  }
 ],
 "metadata": {
  "kernelspec": {
   "display_name": "neo4j",
   "language": "python",
   "name": "python3"
  },
  "language_info": {
   "codemirror_mode": {
    "name": "ipython",
    "version": 3
   },
   "file_extension": ".py",
   "mimetype": "text/x-python",
   "name": "python",
   "nbconvert_exporter": "python",
   "pygments_lexer": "ipython3",
   "version": "3.11.9"
  }
 },
 "nbformat": 4,
 "nbformat_minor": 2
}
