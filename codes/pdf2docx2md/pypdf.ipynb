{
 "cells": [
  {
   "cell_type": "code",
   "execution_count": 1,
   "metadata": {},
   "outputs": [],
   "source": [
    "pdf_file_path = \"./08_law_main.pdf\""
   ]
  },
  {
   "cell_type": "code",
   "execution_count": 7,
   "metadata": {},
   "outputs": [
    {
     "data": {
      "text/plain": [
       "'\\x0c(cid:12643)(cid:3) (cid:8659)(cid:3) (cid:7735)(cid:3) (cid:6167)\\n\\n(cid:9952)(cid:11012)(cid:12216)(cid:11012)(cid:4) (cid:12640)(cid:12433)(cid:16192)(cid:7292)(cid:4) (cid:271)(cid:9853)(cid:272)(cid:12584)(cid:4) (cid:59121)(cid:12664)(cid:9952)(cid:11460)(cid:12685)(cid:5860)(cid:4) (cid:6128)(cid:12573)(cid:15380)(cid:12664)(cid:12205)(cid:12216)(cid:4) (cid:5864)(cid:16196)(cid:4)\\n\\n(cid:9853)(cid:9032)(cid:59122)(cid:12588)(cid:16)(cid:4)(cid:271)(cid:12265)(cid:272)(cid:12584)(cid:4)(cid:59121)(cid:12664)(cid:9952)(cid:11460)(cid:12685)(cid:5860)(cid:4)(cid:6128)(cid:12573)(cid:15380)(cid:12664)(cid:12205)(cid:12216)(cid:4)(cid:5864)(cid:16196)(cid:4)(cid:9853)(cid:9032)(cid:4)(cid:11460)(cid:16241)(cid:8737)(cid:59122)(cid:12588)(cid:16)(cid:4)\\n\\n(cid:271)(cid:11460)(cid:16241)(cid:6084)(cid:14401)(cid:272)(cid:12584)(cid:4)(cid:59121)(cid:12664)(cid:9952)(cid:11460)(cid:12685)(cid:5860)(cid:4)(cid:6128)(cid:12573)(cid:15380)(cid:12664)(cid:12205)(cid:12216)(cid:4)(cid:5864)(cid:16196)(cid:4)(cid:9853)(cid:9032)(cid:4)(cid:11460)(cid:16241)(cid:6084)(cid:14401)(cid:59122)(cid:12588)(cid:16)(cid:4)\\n\\n(cid:271)(cid:6084)(cid:12797)(cid:272)(cid:12584)(cid:4)(cid:59121)(cid:13189)(cid:6004)(cid:12608)(cid:4)(cid:9732)(cid:16241)(cid:4)(cid:9719)(cid:4)(cid:5853)(cid:11460)(cid:4)(cid:7897)(cid:12216)(cid:4)(cid:5864)(cid:16196)(cid:4)(cid:6084)(cid:12797)(cid:59122)(cid:12588)(cid:4)(cid:12608)(cid:9696)(cid:16209)(cid:7344)(cid:7372)(cid:18)\\n\\n(cid:8184)(cid:16196)(cid:16)(cid:4)(cid:9952)(cid:11012)(cid:12216)(cid:4)(cid:5748)(cid:12692)(cid:7684)(cid:4)(cid:6812)(cid:12433)(cid:12584)(cid:4)(cid:9853)(cid:6084)(cid:4)(cid:5636)(cid:12797)(cid:4)(cid:7897)(cid:12580)(cid:8772)(cid:4)(cid:7380)(cid:8548)(cid:13232)(cid:4)(cid:11264)(cid:4)(cid:12656)\\n\\n(cid:12580)(cid:9304)(cid:16)(cid:4)(cid:12440)(cid:9108)(cid:12472)(cid:12636)(cid:4)(cid:6112)(cid:4)(cid:6812)(cid:12433)(cid:12636)(cid:4)(cid:12797)(cid:16445)(cid:16192)(cid:7372)(cid:5832)(cid:4)(cid:9948)(c'"
      ]
     },
     "execution_count": 7,
     "metadata": {},
     "output_type": "execute_result"
    }
   ],
   "source": [
    "from pdfminer.high_level import extract_text\n",
    "\n",
    "# Using pdfminer to extract text from the PDF\n",
    "pdfminer_extracted_text = extract_text(pdf_file_path)\n",
    "\n",
    "# Displaying the first 2000 characters of the extracted text for review\n",
    "pdfminer_extracted_text[:2000]  # showing first 2000 characters of the extracted text\n"
   ]
  },
  {
   "cell_type": "code",
   "execution_count": 6,
   "metadata": {},
   "outputs": [
    {
     "name": "stdout",
     "output_type": "stream",
     "text": [
      "Requirement already satisfied: pdfminer.six in c:\\users\\shic\\anaconda3\\envs\\text2graph\\lib\\site-packages (20240706)\n",
      "Requirement already satisfied: charset-normalizer>=2.0.0 in c:\\users\\shic\\anaconda3\\envs\\text2graph\\lib\\site-packages (from pdfminer.six) (3.3.2)\n",
      "Requirement already satisfied: cryptography>=36.0.0 in c:\\users\\shic\\anaconda3\\envs\\text2graph\\lib\\site-packages (from pdfminer.six) (43.0.1)\n",
      "Requirement already satisfied: cffi>=1.12 in c:\\users\\shic\\anaconda3\\envs\\text2graph\\lib\\site-packages (from cryptography>=36.0.0->pdfminer.six) (1.17.0)\n",
      "Requirement already satisfied: pycparser in c:\\users\\shic\\anaconda3\\envs\\text2graph\\lib\\site-packages (from cffi>=1.12->cryptography>=36.0.0->pdfminer.six) (2.22)\n"
     ]
    }
   ],
   "source": [
    "!pip install pdfminer.six"
   ]
  },
  {
   "cell_type": "code",
   "execution_count": 8,
   "metadata": {},
   "outputs": [],
   "source": [
    "with open('output.txt', 'w', encoding='utf-8') as file:\n",
    "    file.write(pdfminer_extracted_text)"
   ]
  },
  {
   "cell_type": "code",
   "execution_count": null,
   "metadata": {},
   "outputs": [],
   "source": []
  }
 ],
 "metadata": {
  "kernelspec": {
   "display_name": "neo4j",
   "language": "python",
   "name": "python3"
  },
  "language_info": {
   "codemirror_mode": {
    "name": "ipython",
    "version": 3
   },
   "file_extension": ".py",
   "mimetype": "text/x-python",
   "name": "python",
   "nbconvert_exporter": "python",
   "pygments_lexer": "ipython3",
   "version": "3.12.5"
  }
 },
 "nbformat": 4,
 "nbformat_minor": 2
}
