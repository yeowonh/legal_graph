{
 "cells": [
  {
   "cell_type": "markdown",
   "metadata": {},
   "source": [
    "# Keyword graph Retrieve test"
   ]
  },
  {
   "cell_type": "code",
   "execution_count": null,
   "metadata": {},
   "outputs": [],
   "source": [
    "import json\n",
    "from GraphDB.LegalGraphDB import LegalGraphDB\n",
    "\n",
    "CONFIG_PATH = \"C:/Users/Shic/legal_graph/codes/configs/config.json\"\n",
    "\n",
    "# config_file 가져오기\n",
    "with open(CONFIG_PATH, \"r\", encoding=\"utf-8\") as f:\n",
    "    config = json.load(f)\n",
    "    print(f\"Loaded config data from {CONFIG_PATH}\")\n",
    "\n",
    "dbms = LegalGraphDB(auradb=False, config=config)"
   ]
  },
  {
   "cell_type": "markdown",
   "metadata": {},
   "source": [
    "## Extract User Query Keyword"
   ]
  },
  {
   "cell_type": "code",
   "execution_count": 1,
   "metadata": {},
   "outputs": [
    {
     "name": "stdout",
     "output_type": "stream",
     "text": [
      "Loaded config data from C:/Users/Shic/legal_graph/codes/configs/config.json\n"
     ]
    }
   ],
   "source": [
    "import json, os\n",
    "\n",
    "from openai import OpenAI\n",
    "from dotenv import load_dotenv\n",
    "\n",
    "CONFIG_PATH = \"C:/Users/Shic/legal_graph/codes/configs/config.json\"\n",
    "\n",
    "\n",
    "# config_file 가져오기\n",
    "with open(CONFIG_PATH, \"r\", encoding=\"utf-8\") as f:\n",
    "    config = json.load(f)\n",
    "    print(f\"Loaded config data from {CONFIG_PATH}\")\n",
    "\n",
    "\n",
    "# 프롬프트 불러오기\n",
    "with open(\"../codes/GraphDB/prompt/query_keyword_extractor.txt\", 'r', encoding='utf-8') as file:\n",
    "    USER_KEYWORD_EXTRACT_PROMPT = file.read()\n",
    "\n",
    "load_dotenv(verbose=True)\n",
    "client = OpenAI(api_key=os.getenv('OPENAI_API_KEY'))"
   ]
  },
  {
   "cell_type": "code",
   "execution_count": 2,
   "metadata": {},
   "outputs": [],
   "source": [
    "def extract_user_keyword(query):\n",
    "    completion = client.chat.completions.create(\n",
    "            model=config['model'],\n",
    "            messages=[\n",
    "                {\"role\": \"system\", \"content\": USER_KEYWORD_EXTRACT_PROMPT},\n",
    "                {\n",
    "                    \"role\": \"user\",\n",
    "                    \"content\": query\n",
    "                }\n",
    "            ]\n",
    "    )\n",
    "\n",
    "    print(f\"## Query : {query}/n/nKeyword : {completion.choices[0].message.content}\")\n",
    "\n",
    "    answer = completion.choices[0].message.content\n",
    "    answer = [x.strip() for x in answer.split(\"|\")]\n",
    "    return answer"
   ]
  },
  {
   "cell_type": "code",
   "execution_count": 3,
   "metadata": {},
   "outputs": [],
   "source": [
    "QUERY_1 = \"증권신고서 또는 정정신고서 중 거짓의 기재 또는 표시가 있거나 중요사항이 기재 또는 표시되지 아니함으로써 투자자가 손해를 입은 경우 배상책임의 근거가 되는 조문은?\"\n",
    "# QUERY_2 = \"회사채의 무보증 후순위사채 기업실사(Due Diligence)를 규정하고 있는데, 기업실사에서 회사의 기관 및 계열회사에 관한 사항은 어떤 것을 확인해야 하나?\"\n",
    "# QUERY_3 = \"증권신고서의 효력 발생기간은?\"\n",
    "# QUERY_4 = \"증권신고서 발행을 위해서는 어떤 첨부서류가 필요한가?\"\n",
    "# QUERY_5 = \"정정신고가 증권신고서에 어떤 효력을 미치는가?\"\n",
    "# QUERY_6 = \"증권신고서와 투자설명서의 부실기재에 대한 과징금이 부과되는 경우 부과대상과 부과금액은?\"\n",
    "# QUERY_7 = \"정정신고서를 부실기재했을 경우 과징금은?\"\n",
    "# QUERY_8 = \"증권신고서 부실기재 과징금은?\""
   ]
  },
  {
   "cell_type": "code",
   "execution_count": 4,
   "metadata": {},
   "outputs": [
    {
     "name": "stdout",
     "output_type": "stream",
     "text": [
      "## Query : 증권신고서 또는 정정신고서 중 거짓의 기재 또는 표시가 있거나 중요사항이 기재 또는 표시되지 아니함으로써 투자자가 손해를 입은 경우 배상책임의 근거가 되는 조문은?/n/nKeyword : 증권신고서 | 정정신고서 | 거짓 기재 | 중요사항 | 배상책임\n"
     ]
    }
   ],
   "source": [
    "ANSWER_1 = extract_user_keyword(QUERY_1)\n",
    "# ANSWER_2 = extract_user_keyword(QUERY_2)\n",
    "# ANSWER_3 = extract_user_keyword(QUERY_3)\n",
    "# ANSWER_4 = extract_user_keyword(QUERY_4)\n",
    "# ANSWER_5 = extract_user_keyword(QUERY_5)\n",
    "# ANSWER_6 = extract_user_keyword(QUERY_6)\n",
    "# ANSWER_7 = extract_user_keyword(QUERY_7)\n",
    "# ANSWER_8 = extract_user_keyword(QUERY_8)"
   ]
  },
  {
   "cell_type": "markdown",
   "metadata": {},
   "source": [
    "## Retrieve From Keyword Graph\n",
    "\n",
    "1. type이 'keyword' 인 node 중에서, 해당하는 name을 가진 node와 연관된 subgraph를 모두 가져온다\n",
    "2. triplet 형태로 변환"
   ]
  },
  {
   "cell_type": "code",
   "execution_count": 5,
   "metadata": {},
   "outputs": [
    {
     "name": "stdout",
     "output_type": "stream",
     "text": [
      "## Neo4j AuraDB 서버와의 연결이 성공적으로 확인되었습니다.\n"
     ]
    }
   ],
   "source": [
    "from GraphDB.LegalGraphDB import LegalGraphDB\n",
    "\n",
    "# db 불러오기\n",
    "dbms = LegalGraphDB(auradb=False, config=config)"
   ]
  },
  {
   "cell_type": "code",
   "execution_count": 6,
   "metadata": {},
   "outputs": [],
   "source": [
    "def get_keyword_subgraphs(keyword_list):\n",
    "    triplets = []\n",
    "    triplet_ids = set()  # To ensure uniqueness\n",
    "\n",
    "    with dbms.driver.session(database=\"legal-graph\") as session:\n",
    "        for keyword_name in keyword_list:\n",
    "                query = \"\"\"\n",
    "                    MATCH (n:keyword {name: $name})-[r]-(m)\n",
    "                    RETURN n, r, m\n",
    "                    \"\"\"\n",
    "                subgraph_result = session.run(query, name=keyword_name)\n",
    "\n",
    "                for record in subgraph_result:\n",
    "                    n = record[\"n\"]\n",
    "                    r = record[\"r\"]\n",
    "                    m = record[\"m\"]\n",
    "                    # Use IDs to ensure uniqueness since Node and Relationship objects are not hashable\n",
    "                    triplet_id = (n.element_id, r.element_id, m.element_id)\n",
    "                    if triplet_id not in triplet_ids:\n",
    "                        triplet_ids.add(triplet_id)\n",
    "                        triplets.append((n, r, m))\n",
    "    \n",
    "    return list(set(triplets))\n",
    "\n",
    "# 전체 반환\n",
    "def all_triplet(query, answer):\n",
    "    answer_triplets = get_keyword_subgraphs(answer)\n",
    "    important_triplets = []\n",
    "    # Output the results\n",
    "    print('## User query : ', query)\n",
    "    print('Keyword : ', answer)\n",
    "    # print()\n",
    "    # print(\"Triplets:\")\n",
    "    for n, r, m in answer_triplets:\n",
    "        # print(f\"({n['name']} -[{r.type}]-> {m['name']}) IN {r['reference']}\")\n",
    "        important_triplets.append(f\"({n['name']} -[{r.type}]-> {m['name']}) IN {r['reference']}\")\n",
    "    \n",
    "    return list(set(important_triplets))\n",
    "\n",
    "\n",
    "def exact_match_triplet(query, answer):\n",
    "    answer_triplets = get_keyword_subgraphs(answer)\n",
    "    important_triplets = []\n",
    "    # Output the results\n",
    "    print('## User query : ', query)\n",
    "    print('Keyword : ', answer)\n",
    "    # print()\n",
    "    # print(\"Triplets:\")\n",
    "    for n, r, m in answer_triplets:\n",
    "        # print(f\"({n['name']} -[{r.type}]-> {m['name']}) IN {r['reference']}\")\n",
    "        if m['name'] in answer:\n",
    "            important_triplets.append(f\"({n['name']} -[{r.type}]-> {m['name']}) IN {r['reference']}\")\n",
    "    \n",
    "    return list(set(important_triplets))\n",
    "\n",
    "def partial_match_triplet(query, answer):\n",
    "    answer_triplets = get_keyword_subgraphs(answer)\n",
    "    important_triplets = []\n",
    "    # Output the results\n",
    "    print('## User query : ', query)\n",
    "    print('Keyword : ', answer)\n",
    "    # print()\n",
    "    # print(\"Triplets:\")\n",
    "    for n, r, m in answer_triplets:\n",
    "        # print(f\"({n['name']} -[{r.type}]-> {m['name']}) IN {r['reference']}\")\n",
    "         # 부분 일치를 확인하여 중요한 triplet에 포함\n",
    "        if any(keyword in m['name'] for keyword in answer):\n",
    "            important_triplets.append(f\"({n['name']} -[{r.type}]-> {m['name']}) IN {r['reference']}\")\n",
    "    \n",
    "    return list(set(important_triplets))"
   ]
  },
  {
   "cell_type": "code",
   "execution_count": 7,
   "metadata": {},
   "outputs": [
    {
     "name": "stdout",
     "output_type": "stream",
     "text": [
      "## User query :  증권신고서 또는 정정신고서 중 거짓의 기재 또는 표시가 있거나 중요사항이 기재 또는 표시되지 아니함으로써 투자자가 손해를 입은 경우 배상책임의 근거가 되는 조문은?\n",
      "Keyword :  ['증권신고서', '정정신고서', '거짓 기재', '중요사항', '배상책임']\n"
     ]
    },
    {
     "data": {
      "text/plain": [
       "['(정정신고서 -[INCLUDED_IN]-> 증권신고서) IN 시행령_제68조제5항_불건전 영업행위의 금지',\n",
       " '(증권신고서 -[INCLUDED_IN]-> 정정신고서) IN 시행령_제68조제5항_불건전 영업행위의 금지']"
      ]
     },
     "execution_count": 7,
     "metadata": {},
     "output_type": "execute_result"
    }
   ],
   "source": [
    "exact_1_triplets = exact_match_triplet(QUERY_1, ANSWER_1)\n",
    "exact_1_triplets"
   ]
  },
  {
   "cell_type": "code",
   "execution_count": null,
   "metadata": {},
   "outputs": [],
   "source": [
    "partial_1_triplets = partial_match_triplet(QUERY_1, ANSWER_1)\n",
    "partial_1_triplets"
   ]
  },
  {
   "cell_type": "code",
   "execution_count": null,
   "metadata": {},
   "outputs": [],
   "source": [
    "exact_2_triplets = exact_match_triplet(QUERY_2, ANSWER_2)\n",
    "exact_2_triplets"
   ]
  },
  {
   "cell_type": "code",
   "execution_count": null,
   "metadata": {},
   "outputs": [],
   "source": [
    "partial_2_triplets = partial_match_triplet(QUERY_2, ANSWER_2)\n",
    "partial_2_triplets"
   ]
  },
  {
   "cell_type": "code",
   "execution_count": null,
   "metadata": {},
   "outputs": [],
   "source": [
    "exact_3_triplets = exact_match_triplet(QUERY_3, ANSWER_3)\n",
    "exact_3_triplets"
   ]
  },
  {
   "cell_type": "code",
   "execution_count": null,
   "metadata": {},
   "outputs": [],
   "source": [
    "partial_3_triplets = partial_match_triplet(QUERY_3, ANSWER_3)\n",
    "partial_3_triplets"
   ]
  },
  {
   "cell_type": "code",
   "execution_count": null,
   "metadata": {},
   "outputs": [],
   "source": [
    "exact_4_triplets = exact_match_triplet(QUERY_4, ANSWER_4)\n",
    "exact_4_triplets"
   ]
  },
  {
   "cell_type": "code",
   "execution_count": null,
   "metadata": {},
   "outputs": [],
   "source": [
    "partial_4_triplets = partial_match_triplet(QUERY_4, ANSWER_4)\n",
    "partial_4_triplets"
   ]
  },
  {
   "cell_type": "code",
   "execution_count": null,
   "metadata": {},
   "outputs": [],
   "source": [
    "exact_5_triplets = exact_match_triplet(QUERY_5, ANSWER_5)\n",
    "exact_5_triplets"
   ]
  },
  {
   "cell_type": "code",
   "execution_count": null,
   "metadata": {},
   "outputs": [],
   "source": [
    "partial_5_triplets = partial_match_triplet(QUERY_5, ANSWER_5)\n",
    "partial_5_triplets"
   ]
  },
  {
   "cell_type": "code",
   "execution_count": null,
   "metadata": {},
   "outputs": [],
   "source": [
    "exact_6_triplets = exact_match_triplet(QUERY_6, ANSWER_6)\n",
    "exact_6_triplets"
   ]
  },
  {
   "cell_type": "code",
   "execution_count": null,
   "metadata": {},
   "outputs": [],
   "source": [
    "partial_6_triplets = partial_match_triplet(QUERY_6, ANSWER_6)\n",
    "partial_6_triplets"
   ]
  },
  {
   "cell_type": "code",
   "execution_count": null,
   "metadata": {},
   "outputs": [],
   "source": [
    "exact_7_triplets = exact_match_triplet(QUERY_7, ANSWER_7)\n",
    "exact_7_triplets"
   ]
  },
  {
   "cell_type": "code",
   "execution_count": null,
   "metadata": {},
   "outputs": [],
   "source": [
    "partial_7_triplets = partial_match_triplet(QUERY_7, ANSWER_7)\n",
    "partial_7_triplets"
   ]
  },
  {
   "cell_type": "code",
   "execution_count": null,
   "metadata": {},
   "outputs": [],
   "source": [
    "exact_8_triplets = exact_match_triplet(QUERY_8, ANSWER_8)\n",
    "exact_8_triplets"
   ]
  },
  {
   "cell_type": "code",
   "execution_count": null,
   "metadata": {},
   "outputs": [],
   "source": [
    "partial_8_triplets = partial_match_triplet(QUERY_8, ANSWER_8)\n",
    "partial_8_triplets"
   ]
  },
  {
   "cell_type": "markdown",
   "metadata": {},
   "source": [
    "### 기타 법률 전문가 QA 목록\n",
    "\n",
    "> 하나도 안나옴 ...... 데이터 범위 밖인듯"
   ]
  },
  {
   "cell_type": "code",
   "execution_count": 5,
   "metadata": {},
   "outputs": [],
   "source": [
    "QUERY_9 = \"기업실사의 근거규정은?\"\n",
    "QUERY_10 = \"주주배정 후 실권주 일반공모 우상증자 인수업무를 하는 경우에도 거래제한대상 종목등록을 해야하는지?\"\n",
    "QUERY_11 = \"주권의 모집주선, 인수계약에 따른 조사분석제한/이해관계고지대상법인관리의 경우 제한기간은?\"\n",
    "QUERY_12 = \"자산유동화법상의 유동화증권 주관회사 및 업무수탁인인 경우, 자산유동화에 관한 법률 제33조의 3 단서에 따라 본건 유동화증권이 의무보유 면제 대상인지?\""
   ]
  },
  {
   "cell_type": "code",
   "execution_count": null,
   "metadata": {},
   "outputs": [],
   "source": [
    "ANSWER_9 = extract_user_keyword(QUERY_9)\n",
    "ANSWER_10 = extract_user_keyword(QUERY_10)\n",
    "ANSWER_11 = extract_user_keyword(QUERY_11)\n",
    "ANSWER_12 = extract_user_keyword(QUERY_12)"
   ]
  },
  {
   "cell_type": "code",
   "execution_count": null,
   "metadata": {},
   "outputs": [],
   "source": [
    "exact_9_triplets = exact_match_triplet(QUERY_9, ANSWER_9)\n",
    "exact_9_triplets"
   ]
  },
  {
   "cell_type": "code",
   "execution_count": null,
   "metadata": {},
   "outputs": [],
   "source": [
    "partial_9_triplets = partial_match_triplet(QUERY_9, ANSWER_9)\n",
    "partial_9_triplets"
   ]
  },
  {
   "cell_type": "code",
   "execution_count": 15,
   "metadata": {},
   "outputs": [],
   "source": [
    "for keyword in ANSWER_9:\n",
    "    get_subgraphs([keyword])"
   ]
  },
  {
   "cell_type": "code",
   "execution_count": null,
   "metadata": {},
   "outputs": [],
   "source": [
    "exact_10_triplets = exact_match_triplet(QUERY_10, ANSWER_10)\n",
    "exact_10_triplets"
   ]
  },
  {
   "cell_type": "code",
   "execution_count": null,
   "metadata": {},
   "outputs": [],
   "source": [
    "partial_10_triplets = partial_match_triplet(QUERY_10, ANSWER_10)\n",
    "partial_10_triplets"
   ]
  },
  {
   "cell_type": "code",
   "execution_count": 16,
   "metadata": {},
   "outputs": [],
   "source": [
    "for keyword in ANSWER_10:\n",
    "    get_subgraphs([keyword])"
   ]
  },
  {
   "cell_type": "code",
   "execution_count": 19,
   "metadata": {},
   "outputs": [],
   "source": [
    "for keyword in ANSWER_12:\n",
    "    get_subgraphs([keyword])"
   ]
  },
  {
   "cell_type": "code",
   "execution_count": null,
   "metadata": {},
   "outputs": [],
   "source": [
    "exact_11_triplets = exact_match_triplet(QUERY_11, ANSWER_11)\n",
    "exact_11_triplets"
   ]
  },
  {
   "cell_type": "code",
   "execution_count": null,
   "metadata": {},
   "outputs": [],
   "source": [
    "partial_11_triplets = partial_match_triplet(QUERY_11, ANSWER_11)\n",
    "partial_11_triplets"
   ]
  },
  {
   "cell_type": "markdown",
   "metadata": {},
   "source": [
    "## Generate Answer by retrieved triplet keyword\n"
   ]
  },
  {
   "cell_type": "code",
   "execution_count": null,
   "metadata": {},
   "outputs": [],
   "source": [
    "from GraphDB.LegalGraphDB import LegalGraphDB\n",
    "\n",
    "import json, os\n",
    "\n",
    "from openai import OpenAI\n",
    "from dotenv import load_dotenv\n",
    "\n",
    "CONFIG_PATH = \"C:/Users/Shic/legal_graph/codes/configs/config.json\"\n",
    "\n",
    "\n",
    "# config_file 가져오기\n",
    "with open(CONFIG_PATH, \"r\", encoding=\"utf-8\") as f:\n",
    "    config = json.load(f)\n",
    "    print(f\"Loaded config data from {CONFIG_PATH}\")\n",
    "\n",
    "\n",
    "# 프롬프트 불러오기\n",
    "with open(\"../codes/GraphDB/prompt/query_answer.txt\", 'r', encoding='utf-8') as file:\n",
    "    GENERATE_ANSWER_PROMPT = file.read()\n",
    "with open(\"../codes/GraphDB/prompt/query_keyword_extractor.txt\", 'r', encoding='utf-8') as file:\n",
    "    USER_KEYWORD_EXTRACT_PROMPT = file.read()\n",
    "\n",
    "\n",
    "load_dotenv(verbose=True)\n",
    "client = OpenAI(api_key=os.getenv('OPENAI_API_KEY'))\n",
    "\n",
    "# db 불러오기\n",
    "dbms = LegalGraphDB(auradb=False, config=config)\n",
    "\n",
    "# 프롬프트 불러오기\n",
    "\n",
    "\n",
    "def extract_user_keyword(query):\n",
    "    completion = client.chat.completions.create(\n",
    "            model=config['model'],\n",
    "            messages=[\n",
    "                {\"role\": \"system\", \"content\": USER_KEYWORD_EXTRACT_PROMPT},\n",
    "                {\n",
    "                    \"role\": \"user\",\n",
    "                    \"content\": query\n",
    "                }\n",
    "            ]\n",
    "    )\n",
    "\n",
    "    print(f\"## Query : {query}/n/nKeyword : {completion.choices[0].message.content}\")\n",
    "\n",
    "    answer = completion.choices[0].message.content\n",
    "    answer = [x.strip() for x in answer.split(\"|\")]\n",
    "    return answer\n",
    "\n",
    "\n",
    "def get_subgraphs(keyword_list):\n",
    "    triplets = []\n",
    "    triplet_ids = set()  # To ensure uniqueness\n",
    "\n",
    "    with dbms.driver.session(database=\"legal-graph\") as session:\n",
    "        for keyword_name in keyword_list:\n",
    "                query = \"\"\"\n",
    "                    MATCH (n:keyword {name: $name})-[r]-(m)\n",
    "                    RETURN n, r, m\n",
    "                    \"\"\"\n",
    "                subgraph_result = session.run(query, name=keyword_name)\n",
    "\n",
    "                for record in subgraph_result:\n",
    "                    n = record[\"n\"]\n",
    "                    r = record[\"r\"]\n",
    "                    m = record[\"m\"]\n",
    "                    # Use IDs to ensure uniqueness since Node and Relationship objects are not hashable\n",
    "                    triplet_id = (n.element_id, r.element_id, m.element_id)\n",
    "                    if triplet_id not in triplet_ids:\n",
    "                        triplet_ids.add(triplet_id)\n",
    "                        triplets.append((n, r, m))\n",
    "    \n",
    "    return list(set(triplets))\n",
    "\n",
    "def exact_match_triplet(query, answer):\n",
    "    answer_triplets = get_subgraphs(answer)\n",
    "\n",
    "    total_triplets = []\n",
    "    important_triplets = []\n",
    "    # Output the results\n",
    "    print('## User query : ', query)\n",
    "    print('Keyword : ', answer)\n",
    "    # print()\n",
    "    print(\"## Triplets : \", len(answer_triplets))\n",
    "    for n, r, m in answer_triplets:\n",
    "        total_triplets.append(f\"({n['name']} -[{r.type}]-> {m['name']}) IN {r['reference']}\")\n",
    "        print('## m entity name : ', m['name'])\n",
    "        if m['name'] in answer:\n",
    "            important_triplets.append(f\"({n['name']} -[{r.type}]-> {m['name']}) IN {r['reference']}\")\n",
    "    \n",
    "    return list(set(total_triplets)), list(set(important_triplets))\n",
    "\n",
    "def partial_match_triplet(query, answer):\n",
    "    answer_triplets = get_subgraphs(answer)\n",
    "\n",
    "    total_triplets = []\n",
    "    important_triplets = []\n",
    "    # Output the results\n",
    "    print('## User query : ', query)\n",
    "    print('Keyword : ', answer)\n",
    "    # print()\n",
    "    # print(\"Triplets:\")\n",
    "    for n, r, m in answer_triplets:\n",
    "        total_triplets.append(f\"({n['name']} -[{r.type}]-> {m['name']}) IN {r['reference']}\")\n",
    "         # 부분 일치를 확인하여 중요한 triplet에 포함\n",
    "        if any(keyword in m['name'] for keyword in answer):\n",
    "            important_triplets.append(f\"({n['name']} -[{r.type}]-> {m['name']}) IN {r['reference']}\")\n",
    "    \n",
    "    return list(set(total_triplets)), list(set(important_triplets))"
   ]
  },
  {
   "cell_type": "markdown",
   "metadata": {},
   "source": [
    "### Query 6 test"
   ]
  },
  {
   "cell_type": "code",
   "execution_count": null,
   "metadata": {},
   "outputs": [],
   "source": [
    "QUERY_6 = \"투자설명서의 부실기재에 대한 과징금이 부과되는 경우 부과대상과 부과금액은?\"\n",
    "ANSWER_6 = extract_user_keyword(QUERY_6)\n",
    "ANSWER_6"
   ]
  },
  {
   "cell_type": "code",
   "execution_count": null,
   "metadata": {},
   "outputs": [],
   "source": [
    "total_6_triplets, exact_6_triplets = exact_match_triplet(QUERY_6, ANSWER_6)\n",
    "total_6_triplets"
   ]
  },
  {
   "cell_type": "code",
   "execution_count": 4,
   "metadata": {},
   "outputs": [],
   "source": [
    "query = f\"\"\"**User Query**\n",
    "{QUERY_6}\n",
    "\n",
    "**keyword triplet**\n",
    "{total_6_triplets}\n",
    "\n",
    "[output]\n",
    "\"\"\""
   ]
  },
  {
   "cell_type": "code",
   "execution_count": null,
   "metadata": {},
   "outputs": [],
   "source": [
    "query"
   ]
  },
  {
   "cell_type": "code",
   "execution_count": 6,
   "metadata": {},
   "outputs": [],
   "source": [
    "def generated_answer_based_on_keyword(query):\n",
    "    completion = client.chat.completions.create(\n",
    "            model=config['model'],\n",
    "            messages=[\n",
    "                {\"role\": \"system\", \"content\": GENERATE_ANSWER_PROMPT},\n",
    "                {\n",
    "                    \"role\": \"user\",\n",
    "                    \"content\": query\n",
    "                }\n",
    "            ]\n",
    "    )\n",
    "\n",
    "    answer = completion.choices[0].message.content\n",
    "    return answer"
   ]
  },
  {
   "cell_type": "code",
   "execution_count": null,
   "metadata": {},
   "outputs": [],
   "source": [
    "generated_answer_based_on_keyword(query)"
   ]
  },
  {
   "cell_type": "markdown",
   "metadata": {},
   "source": [
    "### Query 8"
   ]
  },
  {
   "cell_type": "code",
   "execution_count": null,
   "metadata": {},
   "outputs": [],
   "source": [
    "QUERY_8 = \"증권신고서 부실기재 과징금은?\"\n",
    "ANSWER_8 = extract_user_keyword(QUERY_8)\n",
    "ANSWER_8"
   ]
  },
  {
   "cell_type": "code",
   "execution_count": null,
   "metadata": {},
   "outputs": [],
   "source": [
    "total_8_triplets, exact_8_triplets = exact_match_triplet(QUERY_8, ANSWER_8)\n",
    "total_8_triplets"
   ]
  },
  {
   "cell_type": "code",
   "execution_count": 10,
   "metadata": {},
   "outputs": [],
   "source": [
    "query = f\"\"\"**User Query**\n",
    "{QUERY_8}\n",
    "\n",
    "**keyword triplet**\n",
    "{total_8_triplets}\n",
    "\n",
    "[output]\n",
    "\"\"\""
   ]
  },
  {
   "cell_type": "code",
   "execution_count": null,
   "metadata": {},
   "outputs": [],
   "source": [
    "query"
   ]
  },
  {
   "cell_type": "code",
   "execution_count": null,
   "metadata": {},
   "outputs": [],
   "source": [
    "generated_answer_based_on_keyword(query)"
   ]
  },
  {
   "cell_type": "markdown",
   "metadata": {},
   "source": [
    "### 라이브러리 이용\n",
    "\n",
    "- 수동으로 cypher query 입력해서 반환해오는 게 나은지\n",
    "- neo4j llamaindex / langchain 라이브러리 내 구현되어 있는 cypher query 생성 LLM을 활용하는 것이 나은지\n",
    "\n",
    "-> 계속 cypher query schema error 뜸...\n",
    "LLM이 cypher query를 생성하다보니 자꾸 없는 node, relationship 만들어냄\n",
    "-> schema 제약을 줘도 동일한 에러가 계속 발생해서, 우선은 위의 수동 프롬프트 방식대로 진행하는 게 나을듯\n"
   ]
  },
  {
   "cell_type": "markdown",
   "metadata": {},
   "source": [
    "#### llamaindex - Neo4jQueryToolSpec\n",
    "\n",
    "- QueryToolSpec (https://llamahub.ai/l/tools/llama-index-tools-neo4j?from=) 사용"
   ]
  },
  {
   "cell_type": "code",
   "execution_count": null,
   "metadata": {},
   "outputs": [],
   "source": [
    "from llama_index.tools.neo4j import Neo4jQueryToolSpec\n",
    "from llama_index.llms.openai import OpenAI\n",
    "from llama_index.agent.openai import OpenAIAgent\n",
    "\n",
    "# Define a custom schema extraction prompt to include necessary nodes and relationships\n",
    "custom_schema_extract_prompt = \"\"\"\n",
    "Please extract the schema of the Neo4j database, including all nodes and relationships relevant to penalty subjects and penalty amounts.\n",
    "The schema should include:\n",
    "- Nodes: keyword\n",
    "- Relationships: SAME_AS, INCLUDED_IN \n",
    "\"\"\"\n",
    "\n",
    "gds_db = Neo4jQueryToolSpec(\n",
    "    url=os.getenv(\"NEO4J_URI\"),\n",
    "    user=os.getenv(\"NEO4J_USERNAME\"),\n",
    "    password=os.getenv(\"NEO4J_PASSWORD\"),\n",
    "    llm=OpenAI(temperature=0, model=\"gpt-4o\"),\n",
    "    database=\"legal-graph\",\n",
    ")\n",
    "\n",
    "tools = gds_db.to_tool_list()\n",
    "agent = OpenAIAgent.from_tools(tools, verbose=True)\n",
    "\n",
    "agent.chat(QUERY_6)"
   ]
  },
  {
   "cell_type": "markdown",
   "metadata": {},
   "source": [
    "cypher query extract 수정"
   ]
  },
  {
   "cell_type": "markdown",
   "metadata": {},
   "source": [
    "#### langchain - GraphCypherQAChain"
   ]
  },
  {
   "cell_type": "code",
   "execution_count": 1,
   "metadata": {},
   "outputs": [
    {
     "name": "stderr",
     "output_type": "stream",
     "text": [
      "Received notification from DBMS server: {severity: WARNING} {code: Neo.ClientNotification.Statement.FeatureDeprecationWarning} {category: DEPRECATION} {title: This feature is deprecated and will be removed in future versions.} {description: The procedure has a deprecated field. ('config' used by 'apoc.meta.graphSample' is deprecated.)} {position: line: 1, column: 1, offset: 0} for query: \"CALL apoc.meta.graphSample() YIELD nodes, relationships RETURN nodes, [rel in relationships | {name:apoc.any.property(rel, 'type'), count: apoc.any.property(rel, 'count')}] AS relationships\"\n"
     ]
    },
    {
     "data": {
      "text/plain": [
       "'Node properties:\\n\\nRelationship properties:\\n\\nThe relationships:\\n'"
      ]
     },
     "execution_count": 1,
     "metadata": {},
     "output_type": "execute_result"
    }
   ],
   "source": [
    "import os\n",
    "from langchain.chains import GraphCypherQAChain\n",
    "from langchain.chat_models import ChatOpenAI\n",
    "from langchain_community.graphs import Neo4jGraph\n",
    "\n",
    "enhanced_graph = Neo4jGraph(url = os.getenv(\"NEO4J_URI\"),\n",
    "                            username = os.getenv(\"NEO4J_USERNAME\"),\n",
    "                            password = os.getenv(\"NEO4J_PASSWORD\"),\n",
    "                            enhanced_schema=True)\n",
    "enhanced_graph.schema"
   ]
  },
  {
   "cell_type": "code",
   "execution_count": null,
   "metadata": {},
   "outputs": [],
   "source": [
    "# chain = GraphCypherQAChain.from_llm(\n",
    "#     ChatOpenAI(temperature=0, model=\"gpt-4\"), graph=enhanced_graph, verbose=True,\n",
    "# )\n",
    "# chain.run(QUERY_6)"
   ]
  },
  {
   "cell_type": "code",
   "execution_count": 7,
   "metadata": {},
   "outputs": [
    {
     "name": "stderr",
     "output_type": "stream",
     "text": [
      "c:\\Users\\Shic\\.conda\\envs\\neo4j\\Lib\\site-packages\\pydantic\\v1\\main.py:719: LangChainDeprecationWarning: The class `LLMChain` was deprecated in LangChain 0.1.17 and will be removed in 1.0. Use RunnableSequence, e.g., `prompt | llm` instead.\n",
      "  return cls(**value_as_dict)\n"
     ]
    }
   ],
   "source": [
    "from langchain_core.prompts.prompt import PromptTemplate\n",
    "from langchain_openai import ChatOpenAI\n",
    "\n",
    "CYPHER_GENERATION_KOREAN_TEMPLATE = \"\"\"지시사항을 따라 GraphDB를 탐색 및 조회하기 위한 Cypher Query를 생성하세요.\n",
    "<지시사항>\n",
    "- 주어진 스키마의 관계 유형과 속성만 사용하세요.\n",
    "    <스키마>\n",
    "    {schema}\n",
    "    </스키마>\n",
    "- 제공되지 않은 type이나 property는 사용하지 마세요.\n",
    "- Cypher 문을 생성하는 것 이외의 질문에는 응답하지 마세요.\n",
    "- 생성된 Cypher 문 이외의 텍스트는 포함하지 마세요.\n",
    "</지시사항>\n",
    "\n",
    "다음은 특정 질문에 대해 생성된 Cypher Query 예시입니다.\n",
    "<예시>\n",
    "input: 정정신고서에 거짓기재가 포함되어 투자자가 손해를 입은 경우 배상책임의 근거가 되는 조문은?\n",
    "MATCH (n:keyword)\n",
    "WHERE name IN ['정정신고서', '거짓기재', '투자자', '손해', '배상책임'] WHERE n.name CONTAINS name\n",
    "RETURN n\n",
    "LIMIT 5\n",
    "</예시>\n",
    "\n",
    "input: {question}\n",
    "\"\"\"\n",
    "\n",
    "CYPHER_GENERATION_PROMPT = PromptTemplate(\n",
    "    input_variables=[\"schema\", \"question\"], template=CYPHER_GENERATION_KOREAN_TEMPLATE\n",
    ")\n",
    "\n",
    "chain = GraphCypherQAChain.from_llm(\n",
    "    llm=ChatOpenAI(temperature=0, model=\"gpt-4o\"),\n",
    "    graph=enhanced_graph,\n",
    "    verbose=True,\n",
    "    cypher_prompt=CYPHER_GENERATION_PROMPT,\n",
    "    use_function_response=True,\n",
    "    function_response_system=\"당신은 자본시장법을 잘 알고 있는 법률 전문가입니다. 반환된 문서 내용을 기반으로 친절하고 자세하게 답변해주세요.\",\n",
    ")\n"
   ]
  },
  {
   "cell_type": "code",
   "execution_count": 8,
   "metadata": {},
   "outputs": [
    {
     "name": "stdout",
     "output_type": "stream",
     "text": [
      "\n",
      "\n",
      "\u001b[1m> Entering new GraphCypherQAChain chain...\u001b[0m\n"
     ]
    },
    {
     "name": "stderr",
     "output_type": "stream",
     "text": [
      "Received notification from DBMS server: {severity: WARNING} {code: Neo.ClientNotification.Statement.UnknownLabelWarning} {category: UNRECOGNIZED} {title: The provided label is not in the database.} {description: One of the labels in your query is not available in the database, make sure you didn't misspell it or that the label is available when you run this statement in your application (the missing label name is: keyword)} {position: line: 1, column: 10, offset: 9} for query: \"MATCH (n:keyword)\\nWHERE n.name IN ['정정신고서', '증권신고서', '효력']\\nRETURN n\\nLIMIT 5\"\n"
     ]
    },
    {
     "name": "stdout",
     "output_type": "stream",
     "text": [
      "Generated Cypher:\n",
      "\u001b[32;1m\u001b[1;3mMATCH (n:keyword)\n",
      "WHERE n.name IN ['정정신고서', '증권신고서', '효력']\n",
      "RETURN n\n",
      "LIMIT 5\u001b[0m\n",
      "Full Context:\n",
      "\u001b[32;1m\u001b[1;3m[]\u001b[0m\n",
      "\n",
      "\u001b[1m> Finished chain.\u001b[0m\n"
     ]
    },
    {
     "data": {
      "text/plain": [
       "{'query': '정정신고서가 증권신고서에 어떤 효력을 미치나요?',\n",
       " 'result': '정정신고서는 증권신고서의 내용을 수정하거나 보완하기 위해 제출되는 문서입니다. 정정신고서가 제출되면, 그 내용은 원래의 증권신고서에 포함된 것으로 간주됩니다. 이는 투자자들이 최신의 정확한 정보를 바탕으로 투자 결정을 내릴 수 있도록 하기 위함입니다. 따라서 정정신고서가 제출되면, 그 내용은 증권신고서의 일부로서 법적 효력을 가지며, 투자자들에게 제공되는 모든 정보는 정정된 내용을 반영해야 합니다. \\n\\n또한, 정정신고서 제출로 인해 증권신고서의 효력 발생일이 변경될 수 있으며, 이는 투자자 보호와 관련된 중요한 절차입니다. 정정신고서가 제출된 경우, 투자자들은 정정된 내용을 충분히 검토할 수 있는 시간을 가질 수 있도록 일정 기간 동안 증권의 발행이 연기될 수 있습니다.'}"
      ]
     },
     "execution_count": 8,
     "metadata": {},
     "output_type": "execute_result"
    }
   ],
   "source": [
    "chain.invoke({\"query\": \"정정신고서가 증권신고서에 어떤 효력을 미치나요?\"})"
   ]
  },
  {
   "cell_type": "code",
   "execution_count": null,
   "metadata": {},
   "outputs": [],
   "source": []
  }
 ],
 "metadata": {
  "kernelspec": {
   "display_name": "neo4j",
   "language": "python",
   "name": "python3"
  },
  "language_info": {
   "codemirror_mode": {
    "name": "ipython",
    "version": 3
   },
   "file_extension": ".py",
   "mimetype": "text/x-python",
   "name": "python",
   "nbconvert_exporter": "python",
   "pygments_lexer": "ipython3",
   "version": "3.11.9"
  }
 },
 "nbformat": 4,
 "nbformat_minor": 2
}
