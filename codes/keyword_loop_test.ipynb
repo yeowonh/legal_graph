{
 "cells": [
  {
   "cell_type": "markdown",
   "metadata": {},
   "source": [
    "# Query - Keyword test\n",
    "\n",
    "- 단순 쿼리 유사도로 시작, 끝 노드를 찾기에는 어려움이 있음\n",
    "- keyword를 어떻게 활용할 것인가?"
   ]
  },
  {
   "cell_type": "code",
   "execution_count": 6,
   "metadata": {},
   "outputs": [
    {
     "name": "stdout",
     "output_type": "stream",
     "text": [
      "Loaded config data from configs/config.json\n"
     ]
    }
   ],
   "source": [
    "import json, os\n",
    "\n",
    "from openai import OpenAI\n",
    "from dotenv import load_dotenv\n",
    "\n",
    "CONFIG_PATH = \"configs/config.json\"\n",
    "\n",
    "\n",
    "# config_file 가져오기\n",
    "with open(CONFIG_PATH, \"r\", encoding=\"utf-8\") as f:\n",
    "    config = json.load(f)\n",
    "    print(f\"Loaded config data from {CONFIG_PATH}\")\n",
    "\n",
    "\n",
    "# 프롬프트 불러오기\n",
    "with open(\"./GraphDB/prompt/get_query_keyword.txt\", 'r', encoding='utf-8') as file:\n",
    "    USER_KEYWORD_EXTRACT_PROMPT = file.read()\n",
    "\n",
    "load_dotenv(verbose=True)\n",
    "client = OpenAI(api_key=os.getenv('OPENAI_API_KEY'))"
   ]
  },
  {
   "cell_type": "code",
   "execution_count": 14,
   "metadata": {},
   "outputs": [],
   "source": [
    "# Query Extraction\n",
    "def extract_user_keyword(query):\n",
    "    completion = client.chat.completions.create(\n",
    "            model=config['model'],\n",
    "            messages=[\n",
    "                {\"role\": \"system\", \"content\": USER_KEYWORD_EXTRACT_PROMPT},\n",
    "                {\n",
    "                    \"role\": \"user\",\n",
    "                    \"content\": query\n",
    "                }\n",
    "            ]\n",
    "    )\n",
    "\n",
    "    print(f\"## Query : {query}/n/nKeyword : {completion.choices[0].message.content}\")\n",
    "\n",
    "    answer = completion.choices[0].message.content\n",
    "    answer = [x.strip() for x in answer.split(\"|\")]\n",
    "    return answer"
   ]
  },
  {
   "cell_type": "code",
   "execution_count": 15,
   "metadata": {},
   "outputs": [],
   "source": [
    "QUERY_1 = \"정정신고서를 부실기재 했을 경우 과징금은 얼마이고, 과징금이 부과되는 대상은 누구인가?\""
   ]
  },
  {
   "cell_type": "code",
   "execution_count": 20,
   "metadata": {},
   "outputs": [
    {
     "name": "stdout",
     "output_type": "stream",
     "text": [
      "## Query : 정정신고서를 부실기재 했을 경우 과징금은 얼마이고, 과징금이 부과되는 대상은 누구인가?/n/nKeyword : 정정신고서 | 부실기재 | 과징금 | 부과 대상\n"
     ]
    }
   ],
   "source": [
    "ANSWER_1 = extract_user_keyword(QUERY_1)"
   ]
  },
  {
   "cell_type": "code",
   "execution_count": 21,
   "metadata": {},
   "outputs": [
    {
     "data": {
      "text/plain": [
       "['정정신고서', '부실기재', '과징금', '부과 대상']"
      ]
     },
     "execution_count": 21,
     "metadata": {},
     "output_type": "execute_result"
    }
   ],
   "source": [
    "ANSWER_1"
   ]
  },
  {
   "cell_type": "markdown",
   "metadata": {},
   "source": [
    "## nC2"
   ]
  },
  {
   "cell_type": "code",
   "execution_count": 23,
   "metadata": {},
   "outputs": [
    {
     "data": {
      "text/plain": [
       "['정정신고서 부실기재',\n",
       " '정정신고서 과징금',\n",
       " '정정신고서 부과 대상',\n",
       " '부실기재 과징금',\n",
       " '부실기재 부과 대상',\n",
       " '과징금 부과 대상']"
      ]
     },
     "execution_count": 23,
     "metadata": {},
     "output_type": "execute_result"
    }
   ],
   "source": [
    "from itertools import combinations as comb\n",
    "\n",
    "\n",
    "ANSWER_list = list(comb(ANSWER_1, 2))\n",
    "ANSWER_list = [x[0] + ' ' + x[1] for x in ANSWER_list]\n",
    "ANSWER_list"
   ]
  },
  {
   "cell_type": "markdown",
   "metadata": {},
   "source": [
    "## KeywordGraph"
   ]
  },
  {
   "cell_type": "code",
   "execution_count": null,
   "metadata": {},
   "outputs": [],
   "source": [
    "from GraphDB.LegalGraphDB import LegalGraphDB\n",
    "\n",
    "\n",
    "dbms = LegalGraphDB(auradb=False, config=config, json_path=\"../data/graph/clause/title_embedding/01/01_law_main.json\")"
   ]
  }
 ],
 "metadata": {
  "kernelspec": {
   "display_name": "neo4j",
   "language": "python",
   "name": "python3"
  },
  "language_info": {
   "codemirror_mode": {
    "name": "ipython",
    "version": 3
   },
   "file_extension": ".py",
   "mimetype": "text/x-python",
   "name": "python",
   "nbconvert_exporter": "python",
   "pygments_lexer": "ipython3",
   "version": "3.11.9"
  }
 },
 "nbformat": 4,
 "nbformat_minor": 2
}
