{
 "cells": [
  {
   "cell_type": "code",
   "execution_count": 1,
   "metadata": {},
   "outputs": [
    {
     "name": "stdout",
     "output_type": "stream",
     "text": [
      "{'model': 'gpt-4o', 'embedding_model': 'text-embedding-3-large', 'chunk_size': 1024, 'chunk_overlap': 50, 'top_k': 5, 'prev_turns': 5, 'rag': 'Graph', 'keyword_prompt_path': '../codes/GraphDB/prompt/triplet_extractor.txt', 'query_keyword_prompt_path': '../codes/GraphDB/prompt/query_keyword_extractor.txt', 'database': 'embedding', 'threshold': 0.4}\n",
      "## 서버와의 연결이 성공적으로 확인되었습니다.\n"
     ]
    }
   ],
   "source": [
    "import sys, os\n",
    "import openai\n",
    "from openai import OpenAI\n",
    "client = OpenAI(api_key=os.getenv('OPENAI_API_KEY'))\n",
    "\n",
    "from dotenv import load_dotenv\n",
    "import argparse\n",
    "import json\n",
    "from typing import Dict, List\n",
    "import logging\n",
    "import GraphDB.utils as utils\n",
    "from GraphDB.LegalGraphDB import LegalGraphDB\n",
    "\n",
    "load_dotenv(verbose=True)\n",
    "\n",
    "# 로깅 설정 (INFO 레벨)\n",
    "logging.basicConfig(level=logging.INFO)\n",
    "path = os.getcwd()\n",
    "root_path = os.path.dirname(path)\n",
    "\n",
    "\n",
    "import numpy as np\n",
    "from sklearn.metrics.pairwise import cosine_similarity\n",
    "\n",
    "\n",
    "# config.json 파일 경로를 절대 경로로 설정\n",
    "config_path = os.path.join(root_path, 'codes', 'configs', 'config_ra4.json')\n",
    "with open(config_path, 'r') as f:\n",
    "    config = json.load(f)\n",
    "print(config)\n",
    "\n",
    "dbms = LegalGraphDB(auradb=False, config=config)"
   ]
  },
  {
   "cell_type": "markdown",
   "metadata": {},
   "source": [
    "# 답변 분류 "
   ]
  },
  {
   "cell_type": "code",
   "execution_count": null,
   "metadata": {},
   "outputs": [
    {
     "name": "stdout",
     "output_type": "stream",
     "text": [
      "## client loaded ##\n",
      "## config file loaded ##\n"
     ]
    }
   ],
   "source": [
    "query  = \"비대면 일임운용을 하기 위한 방법은?\"\n",
    "\n",
    "utils.extract_query_classification(query)"
   ]
  },
  {
   "cell_type": "code",
   "execution_count": null,
   "metadata": {},
   "outputs": [
    {
     "name": "stdout",
     "output_type": "stream",
     "text": [
      "## client loaded ##\n",
      "## config file loaded ##\n",
      "## 서버와의 연결이 성공적으로 확인되었습니다.\n",
      "## config file loaded ##\n",
      "###### Query #####\n",
      "증권신고서 부실기재 시 조치해야 할 사항과 방법이 무엇인가요. 정정신고서 제출을 권장하나요? 제출 안 하면 어떻게 되나요?\n",
      "###### System Prompt #####\n",
      "당신의 역할은 금융 및 법률 도메인에서 사용자의 질의가 단일한 관점에서 간단하게 답변이 가능한지, 혹은 여러 관점에서 다각적으로 검토해야 하는지를 분류하는 것입니다. \n",
      "\n",
      "다음 기준을 참고하여 질의를 분류하십시오.\n",
      "\n",
      "1. **다양한 관점에서 검토가 필요한 질의**: 법률 관련 질문에서 법적 해석과 실무적 적용 고려가 필요한 경우입니다. \n",
      "이러한 질의에는 ‘관련 법률과 주의사항’, ‘전략적 고려사항’ 등이 포함되어 있습니다. \n",
      "이때는 질문이 복수의 영역에 걸쳐 있고 다각적 검토가 필요하므로 ‘다각적 검토 필요’로 분류하십시오.\n",
      "\n",
      "2. **단일 관점에서 검토가 가능한 질의**: 법률적 답변이 특정 규제, 기준, 과징금 액수 등 하나의 특정한 정보에 집중된 경우입니다. \n",
      "질문이 명확하게 한 가지 관점에서 답변될 수 있으므로 ‘단일 관점’으로 분류하십시오.\n",
      "\n",
      "질문을 검토할 때, 다양한 고려사항이 필요한지, 특정 법 조항에 집중하여 명확한 답변이 가능한지에 따라 위 두 분류 중 하나로 결정하십시오.\n",
      "다양한 관점에서 검토가 필요한 질의는 숫자 1을 반환하고 \n",
      "단일 관점에서 검토가 가능한 질의는 숫자 2를 반환하시오. \n",
      "\n",
      "그리고 하단에 분류의 이유를 답변하시오. \n",
      "\n",
      "###### Answer #####\n",
      "1\n",
      "\n",
      "이 질의는 다양한 관점에서 검토가 필요합니다. 증권신고서 부실기재와 관련하여 법적 해석과 실무적 적용, 그리고 그에 따른 법적 및 규제적 조치가 필요합니다. 특히, 정정신고서를 제출할지 여부, 제출하지 않았을 경우의 법적 결과 및 제재에 대한 이해에는 여러 측면에서의 접근이 요구됩니다.\n",
      "1\n"
     ]
    }
   ],
   "source": [
    "query  = \"증권신고서 부실기재 시 조치해야 할 사항과 방법이 무엇인가요. 정정신고서 제출을 권장하나요? 제출 안 하면 어떻게 되나요?\"\n",
    "print(utils.extract_query_classification(query))\n",
    "utils.traverse_graph_with_hops(query, hop = 5)"
   ]
  },
  {
   "cell_type": "markdown",
   "metadata": {},
   "source": [
    "# 2. 답변 찢기 "
   ]
  },
  {
   "cell_type": "code",
   "execution_count": 2,
   "metadata": {},
   "outputs": [
    {
     "name": "stdout",
     "output_type": "stream",
     "text": [
      "[{'number': 1, 'subject': '부실기재의 인지 및 정정신고서 제출', 'description': '증권신고서에 부실기재가 있는 경우, 가장 우선적으로 수행해야 할 조치는 이를 신속히 인지하고 정정신고서를 제출하는 것입니다. 정정신고서는 기존 신고서의 부적절한 정보를 수정하거나 추가적인 설명을 제공하는 절차를 포함합니다. 이를 통해 투자자에게 제공되는 정보의 정확성 및 신뢰성을 회복할 수 있습니다.', 'law': {'document_title': '「자본시장과 금융투자업에 관한 법률」', 'subtitle': '증권신고서의 정정'}}, {'number': 2, 'subject': '정정신고서 제출 권장 이유 및 절차', 'description': '정정신고서 제출은 의무적이지만, 그렇지 않을 경우 법적 제재를 받을 수 있습니다. 정정신고서를 제출함으로써 투자자 보호에 기여할 수 있으며, 이는 신용도 유지와 규제 기관과의 관계에서도 중요한 역할을 합니다. 정정신고서는 금융위원회에 제출되어야 하며, 수정사항을 명확히 기재하여야 합니다.', 'law': {'document_title': '「증권의 발행 및 공시 등에 관한 규정」', 'subtitle': '정정신고서 제출 및 절차'}}, {'number': 3, 'subject': '정정신고서 미제출 시 제재 및 결과', 'description': '정정신고서를 제출하지 않는 경우, 법적 제재가 있을 수 있으며, 이는 과태료 부과, 행정 제재, 또는 더 심각한 경우 형사처벌로 이어질 수 있습니다. 이는 투자자에게 올바른 정보를 제공하지 않은 것으로 간주되며, 시장의 공정성과 투명성을 해치는 행위로 인식됩니다.', 'law': {'document_title': '「자본시장과 금융투자업에 관한 법률」', 'subtitle': '부실기재에 대한 제재'}}, {'number': 4, 'subject': '부실기재 발견 후 내부 조치와 개선방안 마련', 'description': '부실기재가 발견된 경우, 해당 기업 내부적으로 이를 재발 방지를 위한 체계적인 분석과 개선방안을 마련해야 합니다. 이는 내부 통제 시스템과 보고 절차의 강화, 그리고 전문 인력을 통한 사전 검토 프로세스의 구축 등을 포함할 수 있습니다.', 'law': {'document_title': '「자본시장과 금융투자업에 관한 법률」', 'subtitle': '내부 통제 및 관리 의무'}}]\n"
     ]
    }
   ],
   "source": [
    "answer = \"\"\"\"\n",
    "1. **부실기재의 인지 및 정정신고서 제출**:\n",
    "   - **설명**: 증권신고서에 부실기재가 있는 경우, 가장 우선적으로 수행해야 할 조치는 이를 신속히 인지하고 정정신고서를 제출하는 것입니다. 정정신고서는 기존 신고서의 부적절한 정보를 수정하거나 추가적인 설명을 제공하는 절차를 포함합니다. 이를 통해 투자자에게 제공되는 정보의 정확성 및 신뢰성을 회복할 수 있습니다.\n",
    "   - **관련 법 조항**:\n",
    "     - **법률 이름**: 「자본시장과 금융투자업에 관한 법률」\n",
    "     - **조항 정보**: 증권신고서의 정정\n",
    "\n",
    "2. **정정신고서 제출 권장 이유 및 절차**:\n",
    "   - **설명**: 정정신고서 제출은 의무적이지만, 그렇지 않을 경우 법적 제재를 받을 수 있습니다. 정정신고서를 제출함으로써 투자자 보호에 기여할 수 있으며, 이는 신용도 유지와 규제 기관과의 관계에서도 중요한 역할을 합니다. 정정신고서는 금융위원회에 제출되어야 하며, 수정사항을 명확히 기재하여야 합니다.\n",
    "   - **관련 법 조항**:\n",
    "     - **법률 이름**: 「증권의 발행 및 공시 등에 관한 규정」\n",
    "     - **조항 정보**: 정정신고서 제출 및 절차\n",
    "\n",
    "3. **정정신고서 미제출 시 제재 및 결과**:\n",
    "   - **설명**: 정정신고서를 제출하지 않는 경우, 법적 제재가 있을 수 있으며, 이는 과태료 부과, 행정 제재, 또는 더 심각한 경우 형사처벌로 이어질 수 있습니다. 이는 투자자에게 올바른 정보를 제공하지 않은 것으로 간주되며, 시장의 공정성과 투명성을 해치는 행위로 인식됩니다.\n",
    "   - **관련 법 조항**:\n",
    "     - **법률 이름**: 「자본시장과 금융투자업에 관한 법률」\n",
    "     - **조항 정보**: 부실기재에 대한 제재\n",
    "\n",
    "4. **부실기재 발견 후 내부 조치와 개선방안 마련**:\n",
    "   - **설명**: 부실기재가 발견된 경우, 해당 기업 내부적으로 이를 재발 방지를 위한 체계적인 분석과 개선방안을 마련해야 합니다. 이는 내부 통제 시스템과 보고 절차의 강화, 그리고 전문 인력을 통한 사전 검토 프로세스의 구축 등을 포함할 수 있습니다.\n",
    "   - **관련 법 조항**:\n",
    "     - **법률 이름**: 「자본시장과 금융투자업에 관한 법률」\n",
    "     - **조항 정보**: 내부 통제 및 관리 의무\n",
    "\n",
    "\n",
    "\"\"\"\n",
    "\n",
    "print(utils.split_answer_text(answer))"
   ]
  },
  {
   "cell_type": "code",
   "execution_count": null,
   "metadata": {},
   "outputs": [
    {
     "name": "stdout",
     "output_type": "stream",
     "text": [
      "###### Query #####\n",
      "정정신고서를 제출하지 않아도 되는 경우는 무엇인가요?\n",
      "###### System Prompt #####\n",
      "당신의 역할은 금융 및 법률 도메인에서 사용자의 질의가 단일한 관점에서 간단하게 답변이 가능한지, 혹은 여러 관점에서 다각적으로 검토해야 하는지를 분류하는 것입니다. \n",
      "\n",
      "다음 기준을 참고하여 질의를 분류하십시오.\n",
      "\n",
      "1. **다양한 관점에서 검토가 필요한 질의**: 법률 관련 질문에서 법적 해석과 실무적 적용 고려가 필요한 경우입니다. \n",
      "이러한 질의에는 ‘관련 법률과 주의사항’, ‘전략적 고려사항’ 등이 포함되어 있습니다. \n",
      "이때는 질문이 복수의 영역에 걸쳐 있고 다각적 검토가 필요하므로 ‘다각적 검토 필요’로 분류하십시오.\n",
      "\n",
      "2. **단일 관점에서 검토가 가능한 질의**: 법률적 답변이 특정 규제, 기준, 과징금 액수 등 하나의 특정한 정보에 집중된 경우입니다. \n",
      "질문이 명확하게 한 가지 관점에서 답변될 수 있으므로 ‘단일 관점’으로 분류하십시오.\n",
      "\n",
      "질문을 검토할 때, 다양한 고려사항이 필요한지, 특정 법 조항에 집중하여 명확한 답변이 가능한지에 따라 위 두 분류 중 하나로 결정하십시오.\n",
      "다양한 관점에서 검토가 필요한 질의는 숫자 1을 반환하고 \n",
      "단일 관점에서 검토가 가능한 질의는 숫자 2를 반환하시오. \n",
      "\n",
      "그리고 하단에 분류의 이유를 답변하시오. \n",
      "\n",
      "###### Answer #####\n",
      "1\n",
      "\n",
      "정정신고서 제출 여부는 여러 가지 법적 및 실무적 요소를 고려해야 할 수 있습니다. 이는 특정 상황에 따라 다를 수 있으며, 관련 법률 및 규정을 검토하고 그에 맞는 조치를 판단해야 하는 문제이기 때문에 다양한 관점에서 검토가 필요합니다. 예를 들어, 증권법의 특정 조항, 규제 당국의 가이드라인, 그리고 기업의 내부 정책 등 다양한 요소가 영향을 미칠 수 있습니다.\n",
      "1\n",
      "\n",
      "정정신고서 제출 여부는 여러 가지 법적 및 실무적 요소를 고려해야 할 수 있습니다. 이는 특정 상황에 따라 다를 수 있으며, 관련 법률 및 규정을 검토하고 그에 맞는 조치를 판단해야 하는 문제이기 때문에 다양한 관점에서 검토가 필요합니다. 예를 들어, 증권법의 특정 조항, 규제 당국의 가이드라인, 그리고 기업의 내부 정책 등 다양한 요소가 영향을 미칠 수 있습니다.\n"
     ]
    }
   ],
   "source": [
    "query  = \"정정신고서를 제출하지 않아도 되는 경우는 무엇인가요?\"\n",
    "\n",
    "print(utils.extract_query_classification(query))"
   ]
  },
  {
   "cell_type": "code",
   "execution_count": null,
   "metadata": {},
   "outputs": [],
   "source": []
  }
 ],
 "metadata": {
  "kernelspec": {
   "display_name": "new_neo4j",
   "language": "python",
   "name": "python3"
  },
  "language_info": {
   "codemirror_mode": {
    "name": "ipython",
    "version": 3
   },
   "file_extension": ".py",
   "mimetype": "text/x-python",
   "name": "python",
   "nbconvert_exporter": "python",
   "pygments_lexer": "ipython3",
   "version": "3.11.10"
  }
 },
 "nbformat": 4,
 "nbformat_minor": 2
}
