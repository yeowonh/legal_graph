{
 "cells": [
  {
   "cell_type": "markdown",
   "metadata": {},
   "source": [
    "# preprocess article to clause (test)\n",
    "\n",
    "- 현재 전처리 되어있는 json 파일에서 조 단위를 항 단위로 찢는 작업 파일\n",
    "- content type이 list인 경우 새로운 row 추가하는 방식\n",
    "\n",
    "-> 현재는 preprocessing_clause.py로 이식"
   ]
  },
  {
   "cell_type": "code",
   "execution_count": null,
   "metadata": {},
   "outputs": [],
   "source": [
    "article_index = {\n",
    "    \"①\" : \"1항\", \"②\" : \"2항\", \"③\" : \"3항\", \"④\" : \"4항\", \"⑤\" : \"5항\",\n",
    "    \"⑥\" : \"6항\", \"⑦\" : \"7항\", \"⑧\" : \"8항\", \"⑨\" : \"9항\", \"⑩\" : \"10항\",\n",
    "    \"⑪\" : \"11항\", \"⑫\" : \"12항\", \"⑬\" : \"13항\", \"⑭\" : \"14항\", \"⑮\" : \"15항\",\n",
    "    \"⑯\" : \"16항\", \"⑰\" : \"17항\", \"⑱\" : \"18항\", \"⑲\" : \"19항\", \"⑳\" : \"20항\",\n",
    "    \"㉑\" : \"21항\", \"㉒\" : \"22항\", \"㉓\" : \"23항\", \"㉔\" : \"24항\", \"㉕\" : \"25항\",\n",
    "    \"㉖\" : \"26항\", \"㉗\" : \"27항\", \"㉘\" : \"28항\", \"㉙\" : \"29항\", \"㉚\" : \"30항\",\n",
    "    \"㉛\" : \"31항\", \"㉜\" : \"32항\", \"㉝\" : \"33항\", \"㉞\" : \"34항\", \"㉟\" : \"35항\",\n",
    "    \"㊱\" : \"36항\", \"㊲\" : \"37항\", \"㊳\" : \"38항\", \"㊴\" : \"39항\", \"㊵\" : \"40항\",\n",
    "    \"㊶\" : \"41항\", \"㊷\" : \"42항\", \"㊸\" : \"43항\", \"㊹\" : \"44항\", \"㊺\" : \"45항\",\n",
    "    \"㊻\" : \"46항\", \"㊼\" : \"47항\", \"㊽\" : \"48항\", \"㊾\" : \"49항\", \"㊿\" : \"50항\"\n",
    "}"
   ]
  },
  {
   "cell_type": "code",
   "execution_count": null,
   "metadata": {},
   "outputs": [],
   "source": [
    "import json\n",
    "import copy\n",
    "from tqdm import tqdm\n",
    "\n",
    "def split_article(json_path: str) -> list:\n",
    "    # 파일을 열고 JSON 데이터를 파싱하여 불러오기\n",
    "    with open(json_path, \"r\", encoding=\"utf-8\") as file:\n",
    "        data = json.load(file)\n",
    "    \n",
    "    data_copy = copy.deepcopy(data)\n",
    "\n",
    "    for idx, row in tqdm(enumerate(data)):\n",
    "        if type(row['content']) == str:\n",
    "            continue\n",
    "\n",
    "        elif type(row['content']) == list:\n",
    "            del data_copy[idx] # 삭제\n",
    "\n",
    "            # article 단위 split하기\n",
    "            for new_idx, content in enumerate(row['content']):\n",
    "                new_row = copy.deepcopy(row)\n",
    "                new_article_index = article_index[content[0]] # 항 번호\n",
    "                new_row['content'] = content[1:].strip()\n",
    "                new_row['index'] += \"제\" + new_article_index\n",
    "                data_copy.insert(idx + new_idx, new_row) # 분할된 새로운 행 삽입\n",
    "            \n",
    "        else:\n",
    "            raise ValueError(\"not str or list\")\n",
    "    \n",
    "    return data_copy"
   ]
  },
  {
   "cell_type": "code",
   "execution_count": null,
   "metadata": {},
   "outputs": [],
   "source": [
    "import os\n",
    "\n",
    "path = \"../results/1-6/DCM_1-6_enforcement_main.json\"\n",
    "path_list = path.split('/')\n",
    "\n",
    "os.makedirs(os.path.join(\"../results\", path_list[2]), exist_ok=True)\n",
    "RESULT_PATH = os.path.join(\"../results\", path_list[2], path_list[3].split('.')[0] + \"_clause.json\")\n",
    "\n",
    "print(RESULT_PATH)\n",
    "clauses_list = split_article(path)\n",
    "\n",
    "with open(RESULT_PATH, \"w\", encoding=\"utf-8\") as f:\n",
    "    json.dump(clauses_list, f, ensure_ascii=False, indent=4)"
   ]
  },
  {
   "cell_type": "code",
   "execution_count": null,
   "metadata": {},
   "outputs": [],
   "source": []
  }
 ],
 "metadata": {
  "kernelspec": {
   "display_name": "neo4j",
   "language": "python",
   "name": "python3"
  },
  "language_info": {
   "codemirror_mode": {
    "name": "ipython",
    "version": 3
   },
   "file_extension": ".py",
   "mimetype": "text/x-python",
   "name": "python",
   "nbconvert_exporter": "python",
   "pygments_lexer": "ipython3",
   "version": "3.11.9"
  }
 },
 "nbformat": 4,
 "nbformat_minor": 2
}
