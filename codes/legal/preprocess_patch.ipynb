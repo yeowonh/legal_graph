{
 "cells": [
  {
   "cell_type": "markdown",
   "metadata": {},
   "source": [
    "# preprocess revise\n",
    "\n",
    "- 항 내용 속에 \"제n조n항\"이 존재하는 경우, 이상하게 잘리는 경우 존재 (index: null인 경우로 검색하여 확인 가능)\n",
    "\n",
    "- 이를 해결하기 위한 ipynb 파일/"
   ]
  },
  {
   "cell_type": "code",
   "execution_count": null,
   "metadata": {},
   "outputs": [],
   "source": [
    "# 항 이상하게 잘린 것들 고치기 - law_main_supplement\n",
    "\n",
    "import json\n",
    "from tqdm import tqdm\n",
    "import copy\n",
    "\n",
    "with open(\"../results/1-2/DCM_1-2_law_supplementary.json\", \"r\", encoding=\"utf-8\") as file:\n",
    "    data = json.load(file)\n",
    "\n",
    "len(data)"
   ]
  },
  {
   "cell_type": "code",
   "execution_count": null,
   "metadata": {},
   "outputs": [],
   "source": [
    "prev_article = 0\n",
    "\n",
    "remove_idx = []\n",
    "exception_idx = []\n",
    "\n",
    "for idx, row in tqdm(enumerate(data)):\n",
    "    if row['subtitle'] != None:\n",
    "        prev_article = idx\n",
    "    else:\n",
    "        # 이전 row에 덧붙이고 현재 인덱스는 삭제\n",
    "        if type(row['content']) == str:\n",
    "            # 이전 row가 list 형태일 경우\n",
    "            if type(data[prev_article]['content']) == list:\n",
    "                data[prev_article]['content'][-1] += \"\\n\" + row['index'] + row['content']\n",
    "            # 이전 row가 단일 항 (str) 형태일 경우\n",
    "            else:\n",
    "                data[prev_article]['content'] += \"\\n\" + row['index'] + row['content']\n",
    "\n",
    "        else: # 항 분리\n",
    "            # 이전 row가 list 형태일 경우\n",
    "            if type(data[prev_article]['content']) == list:\n",
    "                data[prev_article]['content'][-1] += \"\\n\" + row['index'] + row['content'][0]\n",
    "                data[prev_article]['content'] += row['content'][1:]\n",
    "            \n",
    "            # 이전 row가 단일 항 (str) 형태일 경우\n",
    "            else:\n",
    "                data[prev_article]['content'] += \"\\n\" + row['index'] + row['content'][0]\n",
    "                data[prev_article]['content'] = [data[prev_article]['content']] + row['content'][1:]\n",
    "                print(data[prev_article]['content'])\n",
    "\n",
    "        remove_idx.append(idx)"
   ]
  },
  {
   "cell_type": "code",
   "execution_count": null,
   "metadata": {},
   "outputs": [],
   "source": [
    "print(f\"삭제될 항 개수 : {len(remove_idx)}\")"
   ]
  },
  {
   "cell_type": "code",
   "execution_count": null,
   "metadata": {},
   "outputs": [],
   "source": [
    "def remove_elements_by_indices(original_list, indices_to_remove):\n",
    "    # 인덱스 번호 리스트를 내림차순으로 정렬\n",
    "    indices_to_remove = sorted(indices_to_remove, reverse=True)\n",
    "    \n",
    "    # 각 인덱스에 해당하는 요소를 리스트에서 제거\n",
    "    for index in indices_to_remove:\n",
    "        if 0 <= index < len(original_list):  # 인덱스가 유효한 경우에만 제거\n",
    "            del original_list[index]\n",
    "    \n",
    "    return original_list\n",
    "\n",
    "new_data = remove_elements_by_indices(data, remove_idx)"
   ]
  },
  {
   "cell_type": "code",
   "execution_count": null,
   "metadata": {},
   "outputs": [],
   "source": [
    "print(f\"보존될 항 개수 : {len(new_data)}\")"
   ]
  },
  {
   "cell_type": "code",
   "execution_count": null,
   "metadata": {},
   "outputs": [],
   "source": [
    "import os\n",
    "\n",
    "path = \"../results/1-2/DCM_1-2_law_supplementary_revised.json\"\n",
    "path_list = path.split('/')\n",
    "\n",
    "os.makedirs(os.path.join(\"../results\", path_list[2]), exist_ok=True)\n",
    "RESULT_PATH = os.path.join(\"../results\", path_list[2], path_list[3].split('.')[0] + \".json\")\n",
    "\n",
    "print(RESULT_PATH)\n",
    "\n",
    "with open(RESULT_PATH, \"w\", encoding=\"utf-8\") as f:\n",
    "    json.dump(data, f, ensure_ascii=False, indent=4)"
   ]
  }
 ],
 "metadata": {
  "language_info": {
   "name": "python"
  }
 },
 "nbformat": 4,
 "nbformat_minor": 2
}
