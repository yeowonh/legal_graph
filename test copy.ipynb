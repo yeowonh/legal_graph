{
 "cells": [
  {
   "cell_type": "code",
   "execution_count": 1,
   "metadata": {},
   "outputs": [
    {
     "data": {
      "text/plain": [
       "6173"
      ]
     },
     "execution_count": 1,
     "metadata": {},
     "output_type": "execute_result"
    }
   ],
   "source": [
    "import json \n",
    "# data\\DCM\\DCM_json\\03\\03_regulation_main.json\n",
    "with open(\"C:/Users/Shic/Downloads/legal_graph/data/DCM/DCM_json/04/04_regulation_main.json\", 'r', encoding='utf-8') as f:\n",
    "    data = json.load(f)\n",
    "\n",
    "len(data)"
   ]
  },
  {
   "cell_type": "code",
   "execution_count": 7,
   "metadata": {},
   "outputs": [
    {
     "data": {
      "text/plain": [
       "125"
      ]
     },
     "execution_count": 7,
     "metadata": {},
     "output_type": "execute_result"
    }
   ],
   "source": [
    "t = \"회사 및 임직원은 선량한 관리자의 주의로서 투자자의 매매주문, 배당 및 투자자예탁금 이용료의 입금ㆍ고, 투자자의 각종 권리행사 등에 따른 업무처리가 공정하고 정확하게 이루어질 수 있도록 맡은 업무를 충실하게 수행하여야 한다.\"\n",
    "\n",
    "len(t)"
   ]
  },
  {
   "cell_type": "code",
   "execution_count": 3,
   "metadata": {},
   "outputs": [],
   "source": [
    "yakgwan = [\"매매거래계좌설정약관\",\n",
    "\"파생상품계좌설정약관\",\n",
    "\"외화증권매매거래계좌설정약관\",\n",
    "\"신용거래약관\",\n",
    "\"증권 대차거래 약관\",\n",
    "\"연금저축계좌설정약관\",\n",
    "\"대고객환매조건부매매약관\",\n",
    "\"기관간환매조건부매매약관\",\n",
    "\"기업어음증권거래약관\",\n",
    "\"전자금융거래 이용에 관한 기본약관\",\n",
    "\"외국집합투자증권 매매거래에 관한 표준약관\",\n",
    "\"수익증권저축약관\",\n",
    "\"해외파생상품시장거래중개계좌설정약관\",\n",
    "\"해외파생상품시장거래총괄계좌설정약관\",\n",
    "\"유사해외통화선물(FX Margin Trading) 거래 약관\"]"
   ]
  },
  {
   "cell_type": "code",
   "execution_count": 4,
   "metadata": {},
   "outputs": [],
   "source": [
    "idx_list = []"
   ]
  },
  {
   "cell_type": "code",
   "execution_count": 5,
   "metadata": {},
   "outputs": [
    {
     "data": {
      "text/plain": [
       "913"
      ]
     },
     "execution_count": 5,
     "metadata": {},
     "output_type": "execute_result"
    }
   ],
   "source": [
    "for idx, text in enumerate(data):\n",
    "    if text['metadata']['document_title'] in yakgwan:\n",
    "        idx_list.append(idx)\n",
    "\n",
    "len(idx_list)"
   ]
  },
  {
   "cell_type": "code",
   "execution_count": null,
   "metadata": {},
   "outputs": [],
   "source": [
    "import json \n",
    "# data\\DCM\\DCM_json\\03\\03_regulation_main.json\n",
    "with open(\"C:/Users/Shic/Downloads/legal_graph/data/DCM/DCM_json/04/04_regulation_main.json\", 'r', encoding='utf-8') as f:\n",
    "    data = json.load(f)\n",
    "\n",
    "len(data)"
   ]
  },
  {
   "cell_type": "code",
   "execution_count": 2,
   "metadata": {},
   "outputs": [
    {
     "name": "stdout",
     "output_type": "stream",
     "text": [
      "['을 준수해야 한다.', '최근 적으로 어려움을 겪는 사람이 늘고 있다', '이 문장에는 한자가 포함되어 있습니다.', '한자를 제거하고 싶습니다.', '괄호 없이 만 있는 경우도 처리합니다.', '한자와  괄호를 모두 제거합니다.']\n"
     ]
    }
   ],
   "source": [
    "# 한자 preprocess test\n",
    "import codes.GraphDB.process as preprocess\n",
    "\n",
    "text = [\"法律을 준수해야 한다.\", \"최근 金錢적으로 어려움을 겪는 사람이 늘고 있다\",\n",
    "        \"이 문장에는 한자(漢字)가 포함되어 있습니다.\",\n",
    "        \"한자(漢字)를 제거하고 싶습니다.\",\n",
    "        \"괄호 없이 漢字만 있는 경우도 처리합니다.\",\n",
    "        \"한자와 (漢字) 괄호를 모두 제거합니다.\"]\n",
    "print(preprocess.replace_hanja(text))"
   ]
  },
  {
   "cell_type": "code",
   "execution_count": null,
   "metadata": {},
   "outputs": [],
   "source": [
    "from neo4j import GraphDatabase\n",
    "import json\n",
    "\n",
    "# Neo4j 데이터베이스에 연결합니다.\n",
    "driver = GraphDatabase.driver('bolt://localhost:7687', auth=('neo4j', 'password'))\n",
    "\n",
    "def flatten_properties(node_dict):\n",
    "    props = {}\n",
    "    for key, value in node_dict.items():\n",
    "        if isinstance(value, (dict, list)):\n",
    "            # dict나 list를 JSON 문자열로 변환합니다.\n",
    "            props[key] = json.dumps(value, ensure_ascii=False)\n",
    "        else:\n",
    "            props[key] = value\n",
    "    return props\n",
    "\n",
    "def create_triplet(tx, node1_dict, rel_type, node2_dict):\n",
    "    node1_props = flatten_properties(node1_dict)\n",
    "    node2_props = flatten_properties(node2_dict)\n",
    "\n",
    "    # 노드 1을 생성하거나 병합합니다.\n",
    "    tx.run(\n",
    "        '''\n",
    "        MERGE (a:Clause {index: $index1})\n",
    "        SET a += $props1\n",
    "        ''',\n",
    "        index1=node1_dict['index'][0],\n",
    "        props1=node1_props\n",
    "    )\n",
    "\n",
    "    # 노드 2를 생성하거나 병합합니다.\n",
    "    tx.run(\n",
    "        '''\n",
    "        MERGE (b:Clause {index: $index2})\n",
    "        SET b += $props2\n",
    "        ''',\n",
    "        index2=node2_dict['index'][0],\n",
    "        props2=node2_props\n",
    "    )\n",
    "\n",
    "    # 관계 유형이 유효한지 확인합니다.\n",
    "    if not rel_type.isidentifier():\n",
    "        raise ValueError(\"Invalid relationship type\")\n",
    "\n",
    "    # 노드 사이에 관계를 생성합니다.\n",
    "    tx.run(\n",
    "        '''\n",
    "        MATCH (a:Clause {index: $index1}), (b:Clause {index: $index2})\n",
    "        MERGE (a)-[:%s]->(b)\n",
    "        ''' % rel_type,\n",
    "        index1=node1_dict['index'][0],\n",
    "        index2=node2_dict['index'][0]\n",
    "    )\n",
    "\n",
    "# 제공된 트리플릿 데이터\n",
    "triplet = [\n",
    "    {\n",
    "        'index': ['제125조제1항', '제119조제3항'],\n",
    "        'subtitle': ['거짓의 기재 등으로 인한 배상책임', '모집 또는 매출의 신고'],\n",
    "        'content': '증권신고서(정정신고서 및 첨부서류를 포함한다...)',\n",
    "        'metadata': {\n",
    "            'document_title': '자본시장과 금융투자업에 관한 법률 ( 약칭: 자본시장법 )/n',\n",
    "            'date': '시행 2024. 8. 14.',\n",
    "            'revise_info': '법률 제20305호, 2024. 2. 13., 일부개정/n',\n",
    "            'source': '국가법령정보센터',\n",
    "            'title': {\n",
    "                'doc': ['제3편 증권의 발행 및 유통', '제3편 증권의 발행 및 유통'],\n",
    "                'chapter': ['제1장 증권신고서', '제1장 증권신고서'],\n",
    "                'section': ['제2절 금융투자업자별 영업행위 규칙', '제2절 금융투자업자별 영업행위 규칙'],\n",
    "                'subsection': ['제4관 신탁업자의 영업행위 규칙', '제4관 신탁업자의 영업행위 규칙'],\n",
    "                'supplementary': None\n",
    "            }\n",
    "        },\n",
    "        'keyword_name': '증권신고서'\n",
    "    },\n",
    "    'INCLUDE',\n",
    "    {\n",
    "        'index': ['제125조제1항'],\n",
    "        'subtitle': ['거짓의 기재 등으로 인한 배상책임'],\n",
    "        'content': '증권신고서(정정신고서 및 첨부서류를 포함한다...)',\n",
    "        'metadata': {\n",
    "            'document_title': '자본시장과 금융투자업에 관한 법률 ( 약칭: 자본시장법 )/n',\n",
    "            'date': '시행 2024. 8. 14.',\n",
    "            'revise_info': '법률 제20305호, 2024. 2. 13., 일부개정/n',\n",
    "            'source': '국가법령정보센터',\n",
    "            'title': {\n",
    "                'doc': ['제3편 증권의 발행 및 유통'],\n",
    "                'chapter': ['제1장 증권신고서'],\n",
    "                'section': ['제2절 금융투자업자별 영업행위 규칙'],\n",
    "                'subsection': ['제4관 신탁업자의 영업행위 규칙'],\n",
    "                'supplementary': None\n",
    "            }\n",
    "        },\n",
    "        'keyword_name': '정정신고서'\n",
    "    }\n",
    "]\n",
    "\n",
    "triplets = [triplet]  # 트리플릿 리스트\n",
    "\n",
    "# 세션을 열고 트리플릿을 처리합니다.\n",
    "with driver.session() as session:\n",
    "    for triplet in triplets:\n",
    "        node1_dict, rel_type, node2_dict = triplet\n",
    "        session.write_transaction(create_triplet, node1_dict, rel_type, node2_dict)\n"
   ]
  },
  {
   "cell_type": "markdown",
   "metadata": {},
   "source": [
    "# 2개의 키워드 같이 찾기"
   ]
  },
  {
   "cell_type": "code",
   "execution_count": null,
   "metadata": {},
   "outputs": [],
   "source": [
    "import json\n",
    "\n",
    "def print_clause(clauses: list):\n",
    "    for clause in clauses:\n",
    "        print(f'{clause[\"index\"]} : {clause[\"content\"]}')\n",
    "\n",
    "def search_json(json_path, word1, word2):\n",
    "    clauses_and = []\n",
    "    clauses_1 = []\n",
    "    clauses_2 = []\n",
    "\n",
    "    with open(json_path, 'r', encoding='utf-8') as f:\n",
    "        data = json.load(f)\n",
    "\n",
    "    for clause in data:\n",
    "        if word1 in clause[\"content\"] and word2 in clause[\"content\"]:\n",
    "            clauses_and.append(clause)\n",
    "        if word1 in clause[\"content\"]:\n",
    "            clauses_1.append(clause)\n",
    "        if word2 in clause[\"content\"]:\n",
    "            clauses_2.append(clause)\n",
    "    \n",
    "    print(f'## {word1} & {word2} ##')\n",
    "    if len(clauses_and) > 0:\n",
    "        print_clause(clauses_and)\n",
    "    else:\n",
    "        print(\"공통조항 없음\")\n",
    "    \n",
    "    print(f'/n/n## {word1} 언급 조항 ##')\n",
    "    if len(clauses_1) > 0:\n",
    "        print_clause(clauses_1)\n",
    "    else:\n",
    "        print(f\"{word1} 언급 조항 없음\")\n",
    "    \n",
    "    print(f'/n/n## {word2} 언급 조항 ##')\n",
    "    if len(clauses_2) > 0:\n",
    "        print_clause(clauses_2)\n",
    "    else:\n",
    "        print(f\"{word2} 언급 조항 없음\")\n",
    "\n",
    "    return clauses_and, clauses_1, clauses_2\n"
   ]
  },
  {
   "cell_type": "code",
   "execution_count": null,
   "metadata": {},
   "outputs": [],
   "source": [
    "clauses_and, clauses_1, clauses_2 = search_json(\"/mnt/c/Users/Shic/legal_graph/results/1-2/DCM_1-2_law_main_clause.json\", \n",
    "                                                \"증권신고서\", \"공개매수신고서\")\n"
   ]
  },
  {
   "cell_type": "markdown",
   "metadata": {},
   "source": [
    "## main 법령"
   ]
  },
  {
   "cell_type": "code",
   "execution_count": null,
   "metadata": {},
   "outputs": [],
   "source": [
    "import re\n",
    "\n",
    "def parse_law(text: str, meta_info: dict)->list[dict]:\n",
    "    law_structure = []\n",
    "    current_section = {\"doc\": None, \"chapter\": None, \"section\": None, \"subsection\": None}\n",
    "\n",
    "    # '편', '장', '절', '관' 패턴\n",
    "    section_patterns = {\n",
    "        \"doc\": re.compile(r'^제/d+편 [^/n]+'),\n",
    "        \"chapter\": re.compile(r'^제/d+장 [^/n]+'),\n",
    "        \"section\": re.compile(r'^제/d+절 [^/n]+'),\n",
    "        \"subsection\": re.compile(r'^제/d+관 [^/n]+')\n",
    "    }\n",
    "    \n",
    "    # 조 패턴 (제X조 or 제X조의Y)\n",
    "    clause_pattern = re.compile(r'^(제/d+조(?:의/d+)?)(?:/((.*?)/))?/s*(.*)')\n",
    "    \n",
    "    # 텍스트 줄 단위로 분할\n",
    "    lines = text.splitlines()\n",
    "    current_clause = None\n",
    "    \n",
    "    for line in lines:\n",
    "        line = line.strip()\n",
    "\n",
    "        # '편', '장', '절', '관' 갱신\n",
    "        is_section_line = False\n",
    "        for section, pattern in section_patterns.items():\n",
    "            if pattern.match(line):\n",
    "                current_section[section] = line.strip()\n",
    "                is_section_line = True\n",
    "                break  # \"편\", \"장\", \"절\", \"관\" 중 하나를 찾으면, 더 이상 확인하지 않음\n",
    "\n",
    "        if is_section_line:\n",
    "            continue  # 섹션 관련 줄은 content에 포함하지 않음\n",
    "\n",
    "        # 조항 확인\n",
    "        clause_match = clause_pattern.match(line)\n",
    "        if clause_match:\n",
    "            if current_clause:\n",
    "                # 이전 조항을 저장\n",
    "                law_structure.append(current_clause)\n",
    "            # 새 조항 시작\n",
    "            clause_index = clause_match.group(1)\n",
    "            subtitle = clause_match.group(2)\n",
    "            content = clause_match.group(3)\n",
    "            current_clause = {\n",
    "                \"index\": clause_index,\n",
    "                \"subtitle\": subtitle,\n",
    "                \"content\": content,\n",
    "                \"metadata\": {\n",
    "                    \"document_title\" : meta_info[\"document_title\"],\n",
    "                    \"date\":meta_info[\"date\"],\n",
    "                    \"revise_info\":meta_info[\"revise_info\"],\n",
    "                    \"source\":meta_info[\"source\"],\n",
    "                    \"title\":{\n",
    "                        \"doc\": current_section[\"doc\"],\n",
    "                        \"chapter\": current_section[\"chapter\"],\n",
    "                        \"section\": current_section[\"section\"],\n",
    "                        \"subsection\": current_section[\"subsection\"]\n",
    "                    }\n",
    "                }\n",
    "            }\n",
    "        \n",
    "        # 내용 추가\n",
    "        elif current_clause and line:\n",
    "            if current_clause[\"content\"]:\n",
    "                current_clause[\"content\"] += \"/n\" + line\n",
    "            else:\n",
    "                current_clause[\"content\"] = line\n",
    "\n",
    "    if current_clause:\n",
    "        law_structure.append(current_clause)\n",
    "\n",
    "    return law_structure\n",
    "\n"
   ]
  },
  {
   "cell_type": "code",
   "execution_count": null,
   "metadata": {},
   "outputs": [],
   "source": [
    "# 예제 입력 텍스트\n",
    "main_input_text = \"\"\"\n",
    "제1편 총칙\n",
    "\n",
    "제1조(목적) 이 영은 「자본시장과 금융투자업에 관한 법률」에서 위임된 사항과 그 시행에 관하여 필요한 사항을 규정함을 목적으로 한다.\n",
    "\n",
    "제3조의2(증권신고서 제출 등의 규제만 적용되는 증권) 법 제4조제1항제2호에서 \"대통령령으로 정하는 증권\"이란 「상법」에 따른 합자회사ㆍ유한책임회사ㆍ합자조합ㆍ익명조합의 출자지분이 표시된 것을 말한다. 다만, 집합투자증권은 제외한다.\n",
    "[본조신설 2013. 8. 27.]\n",
    "\n",
    "제2편 금융투자업\n",
    "\n",
    "제1장 금융투자업의 인가 및 등록\n",
    "\n",
    "제1절 인가요건 및 절차\n",
    "\n",
    "제15조(인가업무 단위 등) ① 법 제12조제1항 각 호 외의 부분에서 \"대통령령으로 정하는 업무 단위\"란 별표 1과 같다.\n",
    "② 법 제12조제1항제2호에서 금융투자상품의 범위에 포함되는 증권 중 \"대통령령으로 정하는 것\"이란 다음 각 호의 것을 말한다.\n",
    "1. 채무증권\n",
    "2. 지방채증권\n",
    "3. 법 제4조제3항에 따른 특수채증권\n",
    "\n",
    "제4장 영업행위 규칙\n",
    "\n",
    "제1절 공통 영업행위 규칙\n",
    "\n",
    "제1관 신의성실의무 등\n",
    "\n",
    "제42조(상호의 제한) ① 법 제38조제1항에서 \"대통령령으로 정하는 문자\"란 financial investment(그 한글표기문자를 포함한다)나 그와 비슷한 의미를 가지는 다른 외국어문자(그 한글표기문자를 포함한다)를 말한다. <신설 2009. 2. 3.>\n",
    "\"\"\"\n",
    "\n",
    "meta_info = {\"document_title\":\"자본시장과 금융투자업에 관한 법률 시행령\",\n",
    "             \"date\":\"2024.08.27\",\n",
    "             \"revise_info\" : \"revised in 2024\",\n",
    "             \"source\" : \"국가법령정보센터\"}\n"
   ]
  },
  {
   "cell_type": "code",
   "execution_count": null,
   "metadata": {},
   "outputs": [],
   "source": [
    "# 파싱 결과 출력\n",
    "output = parse_law(main_input_text, meta_info)\n",
    "for entry in output:\n",
    "    print(entry)\n"
   ]
  },
  {
   "cell_type": "code",
   "execution_count": null,
   "metadata": {},
   "outputs": [],
   "source": [
    "output[3]"
   ]
  },
  {
   "cell_type": "markdown",
   "metadata": {},
   "source": [
    "## 부칙 법령"
   ]
  },
  {
   "cell_type": "code",
   "execution_count": null,
   "metadata": {},
   "outputs": [],
   "source": [
    "import re\n",
    "def parse_supplementary(text: str, meta_info: dict)->list[dict]:\n",
    "    law_structure = []\n",
    "    current_section = {\"supplementary\": None}\n",
    "    section_patterns = {\n",
    "        \"supplementary\" : re.compile(\"부칙 <제/d+호,/d+/. /d+/. /d+/.>\")\n",
    "    }\n",
    "        \n",
    "    # 조 패턴 (제X조 or 제X조의Y)\n",
    "    clause_pattern = re.compile(r'^(제/d+조(?:의/d+)?)(?:/((.*?)/))?/s*(.*)')\n",
    "    \n",
    "    # 텍스트 줄 단위로 분할\n",
    "    lines = text.splitlines()\n",
    "    current_clause = None\n",
    "    \n",
    "    for line in lines:\n",
    "        line = line.strip()\n",
    "\n",
    "        # '편', '장', '절', '관' 갱신\n",
    "        is_section_line = False\n",
    "        for section, pattern in section_patterns.items():\n",
    "            if pattern.match(line):\n",
    "                current_section[section] = line.strip()\n",
    "                is_section_line = True\n",
    "                break  # \"편\", \"장\", \"절\", \"관\" 중 하나를 찾으면, 더 이상 확인하지 않음\n",
    "\n",
    "        if is_section_line:\n",
    "            continue  # 섹션 관련 줄은 content에 포함하지 않음\n",
    "\n",
    "        # 조항 확인\n",
    "        clause_match = clause_pattern.match(line)\n",
    "        if clause_match:\n",
    "            if current_clause:\n",
    "                # 이전 조항을 저장\n",
    "                law_structure.append(current_clause)\n",
    "            # 새 조항 시작\n",
    "            clause_index = clause_match.group(1)\n",
    "            subtitle = clause_match.group(2)\n",
    "            content = clause_match.group(3)\n",
    "            current_clause = {\n",
    "                \"index\": clause_index,\n",
    "                \"subtitle\": subtitle,\n",
    "                \"content\": content,\n",
    "                \"metadata\": {\n",
    "                    \"document_title\" : meta_info[\"document_title\"],\n",
    "                    \"date\":meta_info[\"date\"],\n",
    "                    \"revise_info\":meta_info[\"revise_info\"],\n",
    "                    \"source\":meta_info[\"source\"],\n",
    "                    \"title\":{\n",
    "                        \"supplementary\": current_section[\"supplementary\"]\n",
    "                    }\n",
    "                }\n",
    "            }\n",
    "        \n",
    "        # 내용 추가\n",
    "        elif current_clause and line:\n",
    "            if current_clause[\"content\"]:\n",
    "                current_clause[\"content\"] += \"/n\" + line\n",
    "            else:\n",
    "                current_clause[\"content\"] = line\n",
    "\n",
    "    if current_clause:\n",
    "        law_structure.append(current_clause)\n",
    "\n",
    "    return law_structure"
   ]
  },
  {
   "cell_type": "code",
   "execution_count": 2,
   "metadata": {},
   "outputs": [],
   "source": [
    "supplementary_input_text = \"\"\"부칙 <제20947호,2008. 7. 29.>\n",
    "제1조(시행일) 이 영은 2009년 2월 4일부터 시행한다. 다만, 부칙 제4조는 2008년 8월 4일부터 시행한다.\n",
    "제2조(다른 법령의 폐지) 다음 각 호의 법령을 각각 폐지한다. \n",
    "1. 「증권거래법 시행령」\n",
    "2. 「선물거래법 시행령」\n",
    "3. 「간접투자자산 운용업법 시행령」\n",
    "4. 「신탁업법 시행령」\n",
    "5. 「종합금융회사에 관한 법률 시행령」\n",
    "6. 「한국증권선물거래소법 시행령」\n",
    "제3조 삭제 <2009. 2. 3.>\"\"\"\n",
    "\n",
    "meta_info = {\"document_title\":\"자본시장과 금융투자업에 관한 법률 시행령\",\n",
    "             \"date\":\"2024.08.27\",\n",
    "             \"revise_info\" : \"revised in 2024\",\n",
    "             \"source\" : \"국가법령정보센터\"}"
   ]
  },
  {
   "cell_type": "code",
   "execution_count": 3,
   "metadata": {},
   "outputs": [],
   "source": [
    "articles = parse_supplementary(supplementary_input_text, meta_info)"
   ]
  },
  {
   "cell_type": "code",
   "execution_count": null,
   "metadata": {},
   "outputs": [],
   "source": [
    "articles[0]"
   ]
  },
  {
   "cell_type": "markdown",
   "metadata": {},
   "source": [
    "## 항 분리"
   ]
  },
  {
   "cell_type": "code",
   "execution_count": null,
   "metadata": {},
   "outputs": [],
   "source": [
    "import re\n",
    "\n",
    "text = \"\"\"제68조(불건전 영업행위의 금지) ① 법 제71조 각 호 외의 부분 단서에서 \"대통령령으로 정하는 경우\"란 다음 각 호의 어느 하나에 해당하는 경우를 말한다. <개정 2012. 6. 29., 2013. 8. 27.>\n",
    "\n",
    "1. 법 제71조제1호를 적용할 때 다음 각 목의 어느 하나에 해당하는 경우\n",
    "2. 법 제71조제2호를 적용할 때 다음 각 목의 어느 하나에 해당하는 경우\n",
    "가. 조사분석자료의 내용이 직접 또는 간접으로 특정 금융투자상품의 매매를 유도하는 것이 아닌 경우\n",
    "3. 법 제71조제3호를 적용할 때 해당 조사분석자료가 투자자에게 공표되거나 제공되지 아니하고 금융투자업자 내부에서 업무를 수행할 목적으로 작성된 경우\n",
    "4. 법 제71조제5호를 적용할 때 투자권유대행인 및 투자권유자문인력이 아닌 자에게 금적립계좌등에 대한 투자권유를 하게 하는 경우\n",
    "② 법 제71조제3호에서 \"대통령령으로 정하는 기업금융업무\"란 다음 각 호의 어느 하나에 해당하는 업무를 말한다.<개정 2012. 6. 29., 2015. 10. 23., 2021. 10. 21.>\n",
    "5. 인수업무\n",
    "6. 모집ㆍ사모ㆍ매출의 주선업무\n",
    "7. 기업의 인수 및 합병의 중개ㆍ주선 또는 대리업무\n",
    "8. 기업의 인수ㆍ합병에 관한 조언업무\"\"\"\n",
    "\n",
    "# 정규표현식을 이용해 숫자 특수기호 기준으로 분리\n",
    "split_text = re.split(r'(?=①|②|③|④|⑤|⑥|⑦|⑧|⑨|⑩)', text)\n",
    "\n",
    "# 숫자 특수기호로 시작하는 텍스트만 포함\n",
    "filtered_text = [item.strip() for item in split_text if re.match(r'^[①-⑩]', item)]\n",
    "\n",
    "# 결과 출력\n",
    "print(filtered_text)\n"
   ]
  },
  {
   "cell_type": "code",
   "execution_count": null,
   "metadata": {},
   "outputs": [],
   "source": [
    "len(filtered_text)"
   ]
  },
  {
   "cell_type": "code",
   "execution_count": null,
   "metadata": {},
   "outputs": [],
   "source": [
    "filtered_text[1]"
   ]
  },
  {
   "cell_type": "code",
   "execution_count": null,
   "metadata": {},
   "outputs": [],
   "source": [
    "import re\n",
    "\n",
    "def contains_special_numbers(text):\n",
    "    # 정규표현식 패턴: ①부터 ⑩까지의 문자\n",
    "    pattern = r\"[①②③④⑤⑥⑦⑧⑨⑩]\"\n",
    "    return bool(re.search(pattern, text))\n",
    "\n",
    "# 테스트\n",
    "sample_text = \"이 문장에는 이 포함되어 있습니다.\"\n",
    "print(contains_special_numbers(sample_text))  # 출력: True\n"
   ]
  },
  {
   "cell_type": "markdown",
   "metadata": {},
   "source": [
    "## 정규표현식 테스트"
   ]
  },
  {
   "cell_type": "code",
   "execution_count": 11,
   "metadata": {},
   "outputs": [],
   "source": [
    "text1 = \"제2-1조(청약권유대상자의 수에서 제외되는 자)\"\n",
    "text2 = \"제2-2조의3(코넥스시장에 관한 특례 등)\"\n",
    "text3 = \"제3조(금융투자상품)\"\n",
    "text4 = \"제16조의2(투자매매업 등의 업무 단위 추가 및 등록)\""
   ]
  },
  {
   "cell_type": "code",
   "execution_count": null,
   "metadata": {},
   "outputs": [],
   "source": [
    "import re\n",
    "clause_pattern = re.compile(r'^(제[/d-]+조(?:의/d+)?)(?:/((.*?)/))?/s*(.*)')"
   ]
  },
  {
   "cell_type": "code",
   "execution_count": null,
   "metadata": {},
   "outputs": [],
   "source": [
    "clause_match = clause_pattern.match(text2)\n",
    "clause_match.group(1)"
   ]
  },
  {
   "cell_type": "code",
   "execution_count": null,
   "metadata": {},
   "outputs": [],
   "source": [
    "clause_match.group(2)"
   ]
  },
  {
   "cell_type": "code",
   "execution_count": null,
   "metadata": {},
   "outputs": [],
   "source": [
    "import re\n",
    "\n",
    "def index_to_article(text):\n",
    "    # '제301조'와 같은 패턴에서 article, article_regulation, subarticle, clause 추출\n",
    "\n",
    "    # 제2-3조와 같은 패턴에서 article과 article_regulation 추출\n",
    "    article_match = re.search(r\"제(/d+)(?:-(/d+))?조\", text)  # 제1조 또는 제2-3조\n",
    "    subarticle_match = re.search(r\"의(/d+)\", text)  # 제1조의1\n",
    "    clause_match = re.search(r\"제(/d+)항\", text)  # 제1항\n",
    "\n",
    "    if article_match:\n",
    "        article = article_match.group(1)\n",
    "        article_regulation = article_match.group(2)\n",
    "    else:\n",
    "        article = None\n",
    "        article_regulation = None\n",
    "\n",
    "    subarticle = subarticle_match.group(1) if subarticle_match else None\n",
    "    clause = clause_match.group(1) if clause_match else None\n",
    "\n",
    "    return article, article_regulation, subarticle, clause\n"
   ]
  },
  {
   "cell_type": "code",
   "execution_count": 3,
   "metadata": {},
   "outputs": [
    {
     "name": "stdout",
     "output_type": "stream",
     "text": [
      "article: 2\n",
      "article_regulation: 3\n",
      "subarticle: 4\n",
      "clause: 5\n"
     ]
    }
   ],
   "source": [
    "# 예시 사용\n",
    "text = \"제2-3조의4제5항\"\n",
    "article, article_regulation, subarticle, clause = index_to_article(text)\n",
    "print(\"article:\", article)\n",
    "print(\"article_regulation:\", article_regulation)\n",
    "print(\"subarticle:\", subarticle)\n",
    "print(\"clause:\", clause)"
   ]
  },
  {
   "cell_type": "code",
   "execution_count": 8,
   "metadata": {},
   "outputs": [
    {
     "name": "stdout",
     "output_type": "stream",
     "text": [
      "article: 2\n",
      "article_regulation: None\n",
      "subarticle: 4\n",
      "clause: 5\n"
     ]
    }
   ],
   "source": [
    "text = \"제2조의4제5항\"\n",
    "article, article_regulation, subarticle, clause = index_to_article(text)\n",
    "print(\"article:\", article)\n",
    "print(\"article_regulation:\", article_regulation)\n",
    "print(\"subarticle:\", subarticle)\n",
    "print(\"clause:\", clause)"
   ]
  },
  {
   "cell_type": "code",
   "execution_count": 9,
   "metadata": {},
   "outputs": [
    {
     "name": "stdout",
     "output_type": "stream",
     "text": [
      "article: 2\n",
      "article_regulation: None\n",
      "subarticle: None\n",
      "clause: 5\n"
     ]
    }
   ],
   "source": [
    "text = \"제2조제5항\"\n",
    "article, article_regulation, subarticle, clause = index_to_article(text)\n",
    "print(\"article:\", article)\n",
    "print(\"article_regulation:\", article_regulation)\n",
    "print(\"subarticle:\", subarticle)\n",
    "print(\"clause:\", clause)"
   ]
  },
  {
   "cell_type": "code",
   "execution_count": 11,
   "metadata": {},
   "outputs": [
    {
     "name": "stdout",
     "output_type": "stream",
     "text": [
      "article: 2\n",
      "article_regulation: None\n",
      "subarticle: None\n",
      "clause: None\n"
     ]
    }
   ],
   "source": [
    "text = \"제2조\"\n",
    "article, article_regulation, subarticle, clause = index_to_article(text)\n",
    "print(\"article:\", article)\n",
    "print(\"article_regulation:\", article_regulation)\n",
    "print(\"subarticle:\", subarticle)\n",
    "print(\"clause:\", clause)"
   ]
  },
  {
   "cell_type": "code",
   "execution_count": null,
   "metadata": {},
   "outputs": [],
   "source": []
  }
 ],
 "metadata": {
  "kernelspec": {
   "display_name": "neo4j",
   "language": "python",
   "name": "python3"
  },
  "language_info": {
   "codemirror_mode": {
    "name": "ipython",
    "version": 3
   },
   "file_extension": ".py",
   "mimetype": "text/x-python",
   "name": "python",
   "nbconvert_exporter": "python",
   "pygments_lexer": "ipython3",
   "version": "3.11.9"
  }
 },
 "nbformat": 4,
 "nbformat_minor": 2
}
