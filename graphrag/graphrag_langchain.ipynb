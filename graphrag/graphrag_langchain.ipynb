{
 "cells": [
  {
   "cell_type": "markdown",
   "metadata": {},
   "source": [
    "# GraphRAG Langchain Integration"
   ]
  },
  {
   "cell_type": "markdown",
   "metadata": {},
   "source": [
    "## DB load"
   ]
  },
  {
   "cell_type": "code",
   "execution_count": null,
   "metadata": {},
   "outputs": [],
   "source": [
    "## DB load part\n",
    "# from langchain.docstore.document import Document\n",
    "# from langchain.text_splitter import CharacterTextSplitter\n",
    "# from langchain_community.document_loaders import TextLoader\n",
    "# from langchain_community.vectorstores import Neo4jVector\n",
    "# from langchain_openai import OpenAIEmbeddings\n",
    "\n",
    "# loader = TextLoader(\"../../modules/state_of_the_union.txt\")\n",
    "\n",
    "# documents = loader.load()\n",
    "# text_splitter = CharacterTextSplitter(chunk_size=1000, chunk_overlap=0)\n",
    "# docs = text_splitter.split_documents(documents)\n",
    "\n",
    "# embeddings = OpenAIEmbeddings()\n",
    "\n",
    "# # The Neo4jVector Module will connect to Neo4j and create a vector index if needed.\n"
   ]
  },
  {
   "cell_type": "markdown",
   "metadata": {},
   "source": [
    "## similiarity search"
   ]
  },
  {
   "cell_type": "code",
   "execution_count": null,
   "metadata": {},
   "outputs": [],
   "source": [
    "# db = Neo4jVector.from_documents(\n",
    "#     docs, OpenAIEmbeddings(), url=url, username=username, password=password\n",
    "# )\n",
    "# query = \"What did the president say about Ketanji Brown Jackson\"\n",
    "# docs_with_score = db.similarity_search_with_score(query, k=2)"
   ]
  },
  {
   "cell_type": "markdown",
   "metadata": {},
   "source": [
    "## Hybrid search"
   ]
  },
  {
   "cell_type": "code",
   "execution_count": null,
   "metadata": {},
   "outputs": [],
   "source": [
    "# db = Neo4jVector.from_documents(\n",
    "#     docs, OpenAIEmbeddings(), url=url, username=username, password=password,\n",
    "#     search_type: 'hybrid'\n",
    "# )\n",
    "\n",
    "# query = \"What did the president say about Ketanji Brown Jackson\"\n",
    "# docs_with_score = db.similarity_search_with_score(query, k=2)"
   ]
  },
  {
   "cell_type": "markdown",
   "metadata": {},
   "source": [
    "## Metadata filtering"
   ]
  },
  {
   "cell_type": "code",
   "execution_count": null,
   "metadata": {},
   "outputs": [],
   "source": [
    "# db = Neo4jVector.from_documents(\n",
    "#     docs,\n",
    "#     OpenAIEmbeddings(),\n",
    "#     url=url, username=username, password=password\n",
    "# )\n",
    "\n",
    "# query = \"What did the president say about Ketanji Brown Jackson\"\n",
    "# filter = {\"name\": {\"$eq\": \"adam\"}}\n",
    "\n",
    "# docs = db.similarity_search(query, filter=filter)"
   ]
  },
  {
   "cell_type": "markdown",
   "metadata": {},
   "source": [
    "## Neo4j graph"
   ]
  },
  {
   "cell_type": "code",
   "execution_count": null,
   "metadata": {},
   "outputs": [],
   "source": [
    "import time\n",
    "\n",
    "import pandas as pd\n",
    "from neo4j import GraphDatabase\n",
    "\n",
    "import os\n",
    "from dotenv import load_dotenv\n",
    "load_dotenv(verbose=True)"
   ]
  },
  {
   "cell_type": "code",
   "execution_count": null,
   "metadata": {},
   "outputs": [],
   "source": [
    "NEO4J_URI = os.getenv(\"NEO4J_URI\")  # or neo4j+s://xxxx.databases.neo4j.io\n",
    "NEO4J_USERNAME = os.getenv(\"NEO4J_USERNAME\")\n",
    "NEO4J_PASSWORD = os.getenv(\"NEO4J_PASSWORD\")\n",
    "NEO4J_DATABASE = os.getenv(\"NEO4J_DATABASE\")"
   ]
  },
  {
   "cell_type": "code",
   "execution_count": null,
   "metadata": {},
   "outputs": [],
   "source": [
    "# from langchain_community.graphs import Neo4jGraph\n",
    "\n",
    "# graph = Neo4jGraph(url=NEO4J_URI, username=NEO4J_USERNAME, password=NEO4J_PASSWORD)\n",
    "\n",
    "# QUERY = \"\"\"\n",
    "# \"MATCH (m:Movie)-[:IN_GENRE]->(:Genre {name:$genre})\n",
    "# RETURN m.title, m.plot\n",
    "# ORDER BY m.imdbRating DESC LIMIT 5\"\n",
    "# \"\"\"\n",
    "\n",
    "# graph.query(QUERY, genre=\"action\")"
   ]
  },
  {
   "cell_type": "markdown",
   "metadata": {},
   "source": [
    "## CypherQAChain\n",
    "\n",
    "The CypherQAChain is a LangChain component that allows you to interact with a Neo4j graph database in natural language. Using an LLM and the graph schema it translates the user question into a Cypher query, executes it against the graph and uses the returned context information and the original question with a second LLM to generate a natural language response.\n",
    "\n",
    "---\n",
    "\n",
    "CypherQAChain은 자연어로 Neo4j 그래프 데이터베이스와 상호 작용할 수 있는 LangChain 구성 요소입니다. LLM과 그래프 스키마를 사용하여 사용자 질문을 Cypher 쿼리로 변환하고 그래프에 대해 실행한 다음 반환된 컨텍스트 정보와 원래 질문을 두 번째 LLM과 함께 사용하여 자연어 응답을 생성합니다."
   ]
  },
  {
   "cell_type": "code",
   "execution_count": null,
   "metadata": {},
   "outputs": [],
   "source": [
    "from langchain.chains import GraphCypherQAChain\n",
    "from langchain_community.graphs import Neo4jGraph\n",
    "from langchain_openai import ChatOpenAI\n",
    "\n",
    "graph = Neo4jGraph(url=NEO4J_URI, username=NEO4J_USERNAME, password=NEO4J_PASSWORD)\n",
    "\n",
    "chain = GraphCypherQAChain.from_llm(\n",
    "    ChatOpenAI(temperature=0), graph=graph, verbose=True\n",
    ")\n"
   ]
  },
  {
   "cell_type": "code",
   "execution_count": null,
   "metadata": {},
   "outputs": [],
   "source": [
    "chain.run(\"무보증사채가 어떤거야?\")"
   ]
  },
  {
   "cell_type": "code",
   "execution_count": null,
   "metadata": {},
   "outputs": [],
   "source": [
    "chain.run(\"무보증사채에 대한 정의는 어느 규정에 나와있어?\")"
   ]
  }
 ],
 "metadata": {
  "kernelspec": {
   "display_name": "neo4j",
   "language": "python",
   "name": "python3"
  },
  "language_info": {
   "name": "python",
   "version": "3.11.9"
  }
 },
 "nbformat": 4,
 "nbformat_minor": 2
}
